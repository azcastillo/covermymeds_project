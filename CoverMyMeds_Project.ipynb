{
 "cells": [
  {
   "cell_type": "markdown",
   "metadata": {},
   "source": [
    "# CoverMyMeds Project \n",
    "\n",
    "##### Author: Andrew Castillo\n",
    "#### Date: 4/26/2021\n",
    "\n",
    "In this project, we examine the following topics: \n",
    "\n",
    "Part 1: Pharmacy Claim Data\n",
    "- What does the formulary of each insurance company (payer) look like? \n",
    "- Predicting whether a prior authorization will be needed based upon pharmacy claims data.\n",
    "\n",
    "Part 2: Prior Authorization Approval\n",
    "\n",
    "- Analyzing which factors tend to influence whether PAs are likely to be approved or denied. \n",
    "- Predicting whether a prior authorization is likely to be approved based on data contained on the PA such as correct diagnosis, has already tried and failed a generic drug alternative, has health-related reasons not to take certain medications (contraindications), and claims data. \n",
    "\n"
   ]
  },
  {
   "cell_type": "code",
   "execution_count": 1,
   "metadata": {},
   "outputs": [],
   "source": [
    "#For data handling\n",
    "import pandas as pd \n",
    "import numpy as np \n",
    "\n",
    "#For visualization \n",
    "import matplotlib.pyplot as plt\n",
    "import seaborn as sns \n",
    "\n",
    "#Import Random Forest Model\n",
    "from sklearn.ensemble import RandomForestClassifier\n",
    "\n",
    "#Import NearestNeighbors\n",
    "from sklearn.neighbors import KNeighborsClassifier\n",
    "\n",
    "# Tree will be used to plot the decisiton tree\n",
    "from sklearn import tree\n",
    "# This is the actual out of the box algorithm\n",
    "from sklearn.tree import DecisionTreeClassifier\n",
    "\n",
    "#Scorers\n",
    "from sklearn.metrics import f1_score, recall_score, precision_score, accuracy_score, roc_auc_score, make_scorer\n",
    "\n",
    "from sklearn.model_selection import cross_val_score\n",
    "\n",
    "#For handling categorical and missing data \n",
    "from sklearn.preprocessing import OneHotEncoder, StandardScaler, LabelEncoder\n",
    "from sklearn.compose import ColumnTransformer\n",
    "from sklearn.pipeline import Pipeline\n",
    "from sklearn.impute import SimpleImputer\n",
    "\n",
    "#Creating the train test split \n",
    "from sklearn.model_selection import train_test_split"
   ]
  },
  {
   "cell_type": "markdown",
   "metadata": {},
   "source": [
    "# Part 1: Pharmacy Claim Data\n",
    "\n",
    "Topics we investiate: \n",
    "\n",
    "- What does the formulary of each insurance company (payer) look like? \n",
    "- Predicting whether a prior authorization will be needed based upon pharmacy claims data."
   ]
  },
  {
   "cell_type": "code",
   "execution_count": 2,
   "metadata": {
    "scrolled": false
   },
   "outputs": [
    {
     "data": {
      "text/html": [
       "<div>\n",
       "<style scoped>\n",
       "    .dataframe tbody tr th:only-of-type {\n",
       "        vertical-align: middle;\n",
       "    }\n",
       "\n",
       "    .dataframe tbody tr th {\n",
       "        vertical-align: top;\n",
       "    }\n",
       "\n",
       "    .dataframe thead th {\n",
       "        text-align: right;\n",
       "    }\n",
       "</style>\n",
       "<table border=\"1\" class=\"dataframe\">\n",
       "  <thead>\n",
       "    <tr style=\"text-align: right;\">\n",
       "      <th></th>\n",
       "      <th>dim_claim_id</th>\n",
       "      <th>bin</th>\n",
       "      <th>drug</th>\n",
       "      <th>reject_code</th>\n",
       "      <th>pharmacy_claim_approved</th>\n",
       "    </tr>\n",
       "  </thead>\n",
       "  <tbody>\n",
       "    <tr>\n",
       "      <th>0</th>\n",
       "      <td>1</td>\n",
       "      <td>417380</td>\n",
       "      <td>A</td>\n",
       "      <td>75.0</td>\n",
       "      <td>0</td>\n",
       "    </tr>\n",
       "    <tr>\n",
       "      <th>1</th>\n",
       "      <td>2</td>\n",
       "      <td>999001</td>\n",
       "      <td>A</td>\n",
       "      <td>NaN</td>\n",
       "      <td>1</td>\n",
       "    </tr>\n",
       "    <tr>\n",
       "      <th>2</th>\n",
       "      <td>3</td>\n",
       "      <td>417740</td>\n",
       "      <td>A</td>\n",
       "      <td>76.0</td>\n",
       "      <td>0</td>\n",
       "    </tr>\n",
       "    <tr>\n",
       "      <th>3</th>\n",
       "      <td>4</td>\n",
       "      <td>999001</td>\n",
       "      <td>A</td>\n",
       "      <td>NaN</td>\n",
       "      <td>1</td>\n",
       "    </tr>\n",
       "    <tr>\n",
       "      <th>4</th>\n",
       "      <td>5</td>\n",
       "      <td>417740</td>\n",
       "      <td>A</td>\n",
       "      <td>NaN</td>\n",
       "      <td>1</td>\n",
       "    </tr>\n",
       "    <tr>\n",
       "      <th>...</th>\n",
       "      <td>...</td>\n",
       "      <td>...</td>\n",
       "      <td>...</td>\n",
       "      <td>...</td>\n",
       "      <td>...</td>\n",
       "    </tr>\n",
       "    <tr>\n",
       "      <th>1335571</th>\n",
       "      <td>1335572</td>\n",
       "      <td>417740</td>\n",
       "      <td>C</td>\n",
       "      <td>75.0</td>\n",
       "      <td>0</td>\n",
       "    </tr>\n",
       "    <tr>\n",
       "      <th>1335572</th>\n",
       "      <td>1335573</td>\n",
       "      <td>999001</td>\n",
       "      <td>C</td>\n",
       "      <td>NaN</td>\n",
       "      <td>1</td>\n",
       "    </tr>\n",
       "    <tr>\n",
       "      <th>1335573</th>\n",
       "      <td>1335574</td>\n",
       "      <td>417380</td>\n",
       "      <td>C</td>\n",
       "      <td>70.0</td>\n",
       "      <td>0</td>\n",
       "    </tr>\n",
       "    <tr>\n",
       "      <th>1335574</th>\n",
       "      <td>1335575</td>\n",
       "      <td>999001</td>\n",
       "      <td>C</td>\n",
       "      <td>NaN</td>\n",
       "      <td>1</td>\n",
       "    </tr>\n",
       "    <tr>\n",
       "      <th>1335575</th>\n",
       "      <td>1335576</td>\n",
       "      <td>999001</td>\n",
       "      <td>C</td>\n",
       "      <td>NaN</td>\n",
       "      <td>1</td>\n",
       "    </tr>\n",
       "  </tbody>\n",
       "</table>\n",
       "<p>1335576 rows × 5 columns</p>\n",
       "</div>"
      ],
      "text/plain": [
       "         dim_claim_id     bin drug  reject_code  pharmacy_claim_approved\n",
       "0                   1  417380    A         75.0                        0\n",
       "1                   2  999001    A          NaN                        1\n",
       "2                   3  417740    A         76.0                        0\n",
       "3                   4  999001    A          NaN                        1\n",
       "4                   5  417740    A          NaN                        1\n",
       "...               ...     ...  ...          ...                      ...\n",
       "1335571       1335572  417740    C         75.0                        0\n",
       "1335572       1335573  999001    C          NaN                        1\n",
       "1335573       1335574  417380    C         70.0                        0\n",
       "1335574       1335575  999001    C          NaN                        1\n",
       "1335575       1335576  999001    C          NaN                        1\n",
       "\n",
       "[1335576 rows x 5 columns]"
      ]
     },
     "execution_count": 2,
     "metadata": {},
     "output_type": "execute_result"
    }
   ],
   "source": [
    "#Gathering the dim_claims.csv file \n",
    "#This is a table containing pharmacy claim-level information.\n",
    "\n",
    "dim_claims_filepath='/Users/andrewcastillo/Desktop/jupyter_notebook_work/covermymeds_intern_project/data/dim_claims.csv'\n",
    "dim_claims_df=pd.read_csv(dim_claims_filepath)\n",
    "dim_claims_df"
   ]
  },
  {
   "cell_type": "markdown",
   "metadata": {},
   "source": [
    "## dim_claims_df column key\n",
    "\n",
    "Pharmacy_claimed_approved column\n",
    "\n",
    "- 1:claim approved at the pharmacy and therefore no PA needed \n",
    "- 0:claim not approved and a PA is needed. \n",
    "\n",
    "Reject code\n",
    "\n",
    "- 70: A code 70 implies that a drug is not covered by the plan and is not on formulary, and typically implies that another course of therapy should be pursued.  \n",
    "\n",
    "- 75: A code 75 implies that a drug is on the formulary but does not have preferred status and requires a prior authorization (PA).  \n",
    "\n",
    "- 76: A code 76 simply means that the drug is covered, but that the plan limitations have been exceeded, which means that the limitations on the number of fills for that medication has been met"
   ]
  },
  {
   "cell_type": "markdown",
   "metadata": {},
   "source": [
    "### Cleaning the data "
   ]
  },
  {
   "cell_type": "code",
   "execution_count": 3,
   "metadata": {
    "scrolled": false
   },
   "outputs": [
    {
     "name": "stdout",
     "output_type": "stream",
     "text": [
      "<class 'pandas.core.frame.DataFrame'>\n",
      "RangeIndex: 1335576 entries, 0 to 1335575\n",
      "Data columns (total 5 columns):\n",
      " #   Column                   Non-Null Count    Dtype  \n",
      "---  ------                   --------------    -----  \n",
      " 0   dim_claim_id             1335576 non-null  int64  \n",
      " 1   bin                      1335576 non-null  int64  \n",
      " 2   drug                     1335576 non-null  object \n",
      " 3   reject_code              555951 non-null   float64\n",
      " 4   pharmacy_claim_approved  1335576 non-null  int64  \n",
      "dtypes: float64(1), int64(3), object(1)\n",
      "memory usage: 50.9+ MB\n"
     ]
    }
   ],
   "source": [
    "#Gather information on the data frame \n",
    "dim_claims_df.info()"
   ]
  },
  {
   "cell_type": "code",
   "execution_count": 4,
   "metadata": {
    "scrolled": true
   },
   "outputs": [
    {
     "data": {
      "text/plain": [
       "dim_claim_id                    0\n",
       "bin                             0\n",
       "drug                            0\n",
       "reject_code                779625\n",
       "pharmacy_claim_approved         0\n",
       "dtype: int64"
      ]
     },
     "execution_count": 4,
     "metadata": {},
     "output_type": "execute_result"
    }
   ],
   "source": [
    "#Seeing how many missing values there are \n",
    "dim_claims_df.isnull().sum()"
   ]
  },
  {
   "cell_type": "code",
   "execution_count": 5,
   "metadata": {},
   "outputs": [
    {
     "data": {
      "text/plain": [
       "array([nan])"
      ]
     },
     "execution_count": 5,
     "metadata": {},
     "output_type": "execute_result"
    }
   ],
   "source": [
    "#Checking that all approved pharmacy claims were associated with an nan code. \n",
    "df=dim_claims_df.loc[dim_claims_df.pharmacy_claim_approved==1, ['reject_code', 'pharmacy_claim_approved']]\n",
    "df.reject_code.unique()"
   ]
  },
  {
   "cell_type": "code",
   "execution_count": 6,
   "metadata": {
    "scrolled": true
   },
   "outputs": [
    {
     "data": {
      "text/html": [
       "<div>\n",
       "<style scoped>\n",
       "    .dataframe tbody tr th:only-of-type {\n",
       "        vertical-align: middle;\n",
       "    }\n",
       "\n",
       "    .dataframe tbody tr th {\n",
       "        vertical-align: top;\n",
       "    }\n",
       "\n",
       "    .dataframe thead th {\n",
       "        text-align: right;\n",
       "    }\n",
       "</style>\n",
       "<table border=\"1\" class=\"dataframe\">\n",
       "  <thead>\n",
       "    <tr style=\"text-align: right;\">\n",
       "      <th></th>\n",
       "      <th>dim_claim_id</th>\n",
       "      <th>bin</th>\n",
       "      <th>drug</th>\n",
       "      <th>reject_code</th>\n",
       "      <th>pharmacy_claim_approved</th>\n",
       "    </tr>\n",
       "  </thead>\n",
       "  <tbody>\n",
       "    <tr>\n",
       "      <th>0</th>\n",
       "      <td>1</td>\n",
       "      <td>417380</td>\n",
       "      <td>A</td>\n",
       "      <td>75.0</td>\n",
       "      <td>0</td>\n",
       "    </tr>\n",
       "    <tr>\n",
       "      <th>1</th>\n",
       "      <td>2</td>\n",
       "      <td>999001</td>\n",
       "      <td>A</td>\n",
       "      <td>0.0</td>\n",
       "      <td>1</td>\n",
       "    </tr>\n",
       "    <tr>\n",
       "      <th>2</th>\n",
       "      <td>3</td>\n",
       "      <td>417740</td>\n",
       "      <td>A</td>\n",
       "      <td>76.0</td>\n",
       "      <td>0</td>\n",
       "    </tr>\n",
       "    <tr>\n",
       "      <th>3</th>\n",
       "      <td>4</td>\n",
       "      <td>999001</td>\n",
       "      <td>A</td>\n",
       "      <td>0.0</td>\n",
       "      <td>1</td>\n",
       "    </tr>\n",
       "    <tr>\n",
       "      <th>4</th>\n",
       "      <td>5</td>\n",
       "      <td>417740</td>\n",
       "      <td>A</td>\n",
       "      <td>0.0</td>\n",
       "      <td>1</td>\n",
       "    </tr>\n",
       "    <tr>\n",
       "      <th>5</th>\n",
       "      <td>6</td>\n",
       "      <td>417740</td>\n",
       "      <td>A</td>\n",
       "      <td>0.0</td>\n",
       "      <td>1</td>\n",
       "    </tr>\n",
       "    <tr>\n",
       "      <th>6</th>\n",
       "      <td>7</td>\n",
       "      <td>999001</td>\n",
       "      <td>A</td>\n",
       "      <td>0.0</td>\n",
       "      <td>1</td>\n",
       "    </tr>\n",
       "    <tr>\n",
       "      <th>7</th>\n",
       "      <td>8</td>\n",
       "      <td>417740</td>\n",
       "      <td>A</td>\n",
       "      <td>0.0</td>\n",
       "      <td>1</td>\n",
       "    </tr>\n",
       "    <tr>\n",
       "      <th>8</th>\n",
       "      <td>9</td>\n",
       "      <td>999001</td>\n",
       "      <td>A</td>\n",
       "      <td>0.0</td>\n",
       "      <td>1</td>\n",
       "    </tr>\n",
       "    <tr>\n",
       "      <th>9</th>\n",
       "      <td>10</td>\n",
       "      <td>417380</td>\n",
       "      <td>A</td>\n",
       "      <td>75.0</td>\n",
       "      <td>0</td>\n",
       "    </tr>\n",
       "  </tbody>\n",
       "</table>\n",
       "</div>"
      ],
      "text/plain": [
       "   dim_claim_id     bin drug  reject_code  pharmacy_claim_approved\n",
       "0             1  417380    A         75.0                        0\n",
       "1             2  999001    A          0.0                        1\n",
       "2             3  417740    A         76.0                        0\n",
       "3             4  999001    A          0.0                        1\n",
       "4             5  417740    A          0.0                        1\n",
       "5             6  417740    A          0.0                        1\n",
       "6             7  999001    A          0.0                        1\n",
       "7             8  417740    A          0.0                        1\n",
       "8             9  999001    A          0.0                        1\n",
       "9            10  417380    A         75.0                        0"
      ]
     },
     "execution_count": 6,
     "metadata": {},
     "output_type": "execute_result"
    }
   ],
   "source": [
    "#Change the na values in the reject_code column to 0. I chose 0 because a no reject code (0) implies that we got\n",
    "#the pharmacy claim approved. \n",
    "dim_claims_df['reject_code']=dim_claims_df.reject_code.fillna(0)\n",
    "dim_claims_df.head(10)"
   ]
  },
  {
   "cell_type": "code",
   "execution_count": 7,
   "metadata": {},
   "outputs": [
    {
     "data": {
      "text/plain": [
       "array(['A', 'B', 'C'], dtype=object)"
      ]
     },
     "execution_count": 7,
     "metadata": {},
     "output_type": "execute_result"
    }
   ],
   "source": [
    "#Which values are in the drug column. \n",
    "dim_claims_df.drug.unique()"
   ]
  },
  {
   "cell_type": "code",
   "execution_count": 8,
   "metadata": {},
   "outputs": [
    {
     "data": {
      "text/plain": [
       "array([417380, 999001, 417740, 417614])"
      ]
     },
     "execution_count": 8,
     "metadata": {},
     "output_type": "execute_result"
    }
   ],
   "source": [
    "#Checking the unique values in the BIN section \n",
    "dim_claims_df.bin.unique()"
   ]
  },
  {
   "cell_type": "code",
   "execution_count": 9,
   "metadata": {},
   "outputs": [],
   "source": [
    "#Function to turn numerical columns to categorical (for modeling purposes)\n",
    "def to_categorical(data, categorical_cols):\n",
    "    for col in data.columns:\n",
    "        if col in categorical_cols:\n",
    "            data[col] = data[col].astype('category')\n",
    "    data.info()\n",
    "    return data"
   ]
  },
  {
   "cell_type": "code",
   "execution_count": 10,
   "metadata": {
    "scrolled": true
   },
   "outputs": [
    {
     "name": "stdout",
     "output_type": "stream",
     "text": [
      "<class 'pandas.core.frame.DataFrame'>\n",
      "RangeIndex: 1335576 entries, 0 to 1335575\n",
      "Data columns (total 5 columns):\n",
      " #   Column                   Non-Null Count    Dtype   \n",
      "---  ------                   --------------    -----   \n",
      " 0   dim_claim_id             1335576 non-null  int64   \n",
      " 1   bin                      1335576 non-null  category\n",
      " 2   drug                     1335576 non-null  category\n",
      " 3   reject_code              1335576 non-null  category\n",
      " 4   pharmacy_claim_approved  1335576 non-null  int64   \n",
      "dtypes: category(3), int64(2)\n",
      "memory usage: 24.2 MB\n"
     ]
    }
   ],
   "source": [
    "categorical_cols = ['bin', 'drug', 'reject_code']\n",
    "dim_claims_df=to_categorical(dim_claims_df, categorical_cols)"
   ]
  },
  {
   "cell_type": "markdown",
   "metadata": {},
   "source": [
    "## Exploratory Data Analysis "
   ]
  },
  {
   "cell_type": "markdown",
   "metadata": {},
   "source": [
    "#### Question: Which insurance companies had the most approved pharmacy claims? Which drug was approved the most (numerically)? "
   ]
  },
  {
   "cell_type": "code",
   "execution_count": 11,
   "metadata": {
    "scrolled": false
   },
   "outputs": [
    {
     "data": {
      "image/png": "[encoded data removed]",
      "text/plain": [
       "<Figure size 1152x720 with 4 Axes>"
      ]
     },
     "metadata": {
      "needs_background": "light"
     },
     "output_type": "display_data"
    }
   ],
   "source": [
    "#Make count plots to see how which bins, drugs, reject codes appeared the most\n",
    "fig, ax =plt.subplots(2,2, figsize=(16,10))\n",
    "sns.countplot(x='bin', data=dim_claims_df, hue='pharmacy_claim_approved', ax=ax[0,0])\n",
    "sns.countplot(x='drug', data=dim_claims_df, hue='pharmacy_claim_approved', ax=ax[0,1])\n",
    "sns.countplot(x='reject_code', data=dim_claims_df, hue='pharmacy_claim_approved', ax=ax[1,0])\n",
    "plt.savefig('bin_drug_reject_code.jpg')\n",
    "plt.show()"
   ]
  },
  {
   "cell_type": "markdown",
   "metadata": {},
   "source": [
    "#### As a whole, it looks like the insurance company with BIN 999001 had more approved pharmacy claims. Moreover, it looks like drug A was approved more often. It also looks like drug A was rejected most often as well. "
   ]
  },
  {
   "cell_type": "code",
   "execution_count": 12,
   "metadata": {
    "scrolled": true
   },
   "outputs": [
    {
     "data": {
      "text/plain": [
       "bin   \n",
       "999001    576667\n",
       "417740     97951\n",
       "417614     65055\n",
       "417380     39952\n",
       "dtype: int64"
      ]
     },
     "execution_count": 12,
     "metadata": {},
     "output_type": "execute_result"
    }
   ],
   "source": [
    "#Getting an exact count of the number of approved claims for each insurance provider. \n",
    "dim_claims_df.loc[dim_claims_df.pharmacy_claim_approved==1, ['bin']].value_counts()"
   ]
  },
  {
   "cell_type": "markdown",
   "metadata": {},
   "source": [
    "#### Question: Which rejection code seemed to appear the most with each drug? "
   ]
  },
  {
   "cell_type": "code",
   "execution_count": 13,
   "metadata": {
    "scrolled": true
   },
   "outputs": [
    {
     "data": {
      "image/png": "[encoded data removed]",
      "text/plain": [
       "<Figure size 648x360 with 1 Axes>"
      ]
     },
     "metadata": {
      "needs_background": "light"
     },
     "output_type": "display_data"
    }
   ],
   "source": [
    "#Organizing the data by drug to see which rejection code appeared most with each drug. \n",
    "plt.figure(figsize = (9,5))\n",
    "\n",
    "sns.countplot(x='drug', data=dim_claims_df, hue='reject_code')\n",
    "plt.xlabel('Drug')\n",
    "plt.title('Visualization of drugs and the reasons for being rejected')\n",
    "plt.savefig('reject_code_with_drug.jpg')\n",
    "plt.show()"
   ]
  },
  {
   "cell_type": "markdown",
   "metadata": {},
   "source": [
    "Conclusion: \n",
    "\n",
    "- Drug A seems to not be covered by most insurance plans and looks like alternative options were often seeked there. (code 70)\n",
    "\n",
    "- Drug B seems to have required PAs a good amount, primarily focused on no preferred status (code 75). \n",
    "\n",
    "- Drug C looks to have required many PAs relatively as well,  primarily focused on no preferred status (code 76). "
   ]
  },
  {
   "cell_type": "markdown",
   "metadata": {},
   "source": [
    "#### What about a scaled version of this? Relatively, how much did each code appear for each drug?"
   ]
  },
  {
   "cell_type": "code",
   "execution_count": 14,
   "metadata": {
    "scrolled": true
   },
   "outputs": [
    {
     "data": {
      "text/plain": [
       "reject_code\n",
       "0.0            390991\n",
       "70.0           156497\n",
       "75.0            88486\n",
       "76.0            43309\n",
       "dtype: int64"
      ]
     },
     "execution_count": 14,
     "metadata": {},
     "output_type": "execute_result"
    }
   ],
   "source": [
    "#Gathering the data frame for all reject codes associated with drug A \n",
    "df_A=dim_claims_df.loc[dim_claims_df.drug=='A', ['reject_code']]\n",
    "df_A.value_counts()"
   ]
  },
  {
   "cell_type": "code",
   "execution_count": 15,
   "metadata": {
    "scrolled": true
   },
   "outputs": [
    {
     "data": {
      "text/html": [
       "<div>\n",
       "<style scoped>\n",
       "    .dataframe tbody tr th:only-of-type {\n",
       "        vertical-align: middle;\n",
       "    }\n",
       "\n",
       "    .dataframe tbody tr th {\n",
       "        vertical-align: top;\n",
       "    }\n",
       "\n",
       "    .dataframe thead th {\n",
       "        text-align: right;\n",
       "    }\n",
       "</style>\n",
       "<table border=\"1\" class=\"dataframe\">\n",
       "  <thead>\n",
       "    <tr style=\"text-align: right;\">\n",
       "      <th></th>\n",
       "      <th>Percent Rejected</th>\n",
       "    </tr>\n",
       "  </thead>\n",
       "  <tbody>\n",
       "    <tr>\n",
       "      <th>70</th>\n",
       "      <td>54</td>\n",
       "    </tr>\n",
       "    <tr>\n",
       "      <th>75</th>\n",
       "      <td>31</td>\n",
       "    </tr>\n",
       "    <tr>\n",
       "      <th>76</th>\n",
       "      <td>15</td>\n",
       "    </tr>\n",
       "  </tbody>\n",
       "</table>\n",
       "</div>"
      ],
      "text/plain": [
       "    Percent Rejected\n",
       "70                54\n",
       "75                31\n",
       "76                15"
      ]
     },
     "execution_count": 15,
     "metadata": {},
     "output_type": "execute_result"
    }
   ],
   "source": [
    "#Getting the Rejection percentage data for Drug A (out of the total rejections made for drug A)\n",
    "percentA=np.array([54, 31, 15])\n",
    "    \n",
    "df_A1= pd.DataFrame(percentA,\n",
    "               \n",
    "columns=['Percent Rejected'], index=['70', '75', '76'])\n",
    "\n",
    "df_A1"
   ]
  },
  {
   "cell_type": "code",
   "execution_count": 16,
   "metadata": {},
   "outputs": [
    {
     "data": {
      "image/png": "[encoded data removed]",
      "text/plain": [
       "<Figure size 576x576 with 1 Axes>"
      ]
     },
     "metadata": {
      "needs_background": "light"
     },
     "output_type": "display_data"
    }
   ],
   "source": [
    "#Barchart for the previous data frame \n",
    "plt.figure(figsize = (8,8))\n",
    "\n",
    "sns.barplot(x=df_A1.index, y=df_A1['Percent Rejected'])\n",
    "\n",
    "plt.xlabel('Reject Code')\n",
    "plt.ylabel('Percent Rejected (out of total number rejected)')\n",
    "plt.title('Drug A')\n",
    "plt.show()"
   ]
  },
  {
   "cell_type": "markdown",
   "metadata": {},
   "source": [
    "Out of the total 679,283 claims made for drug A, about 58% percent of them had their pharmacy claims approved. Furthermore, of the 288,292 rejections made by for Drug A, about 54% of those rejections had rejection code 70, 31% had rejection code 75, and 15% had rejection code 76. Hence, if a patient got rejected for drug A, it was more than likely because the drug was not covered on the insurance providers formulary. "
   ]
  },
  {
   "cell_type": "code",
   "execution_count": 17,
   "metadata": {
    "scrolled": false
   },
   "outputs": [
    {
     "data": {
      "text/plain": [
       "reject_code\n",
       "0.0            188238\n",
       "75.0            78686\n",
       "70.0            55035\n",
       "76.0            20791\n",
       "dtype: int64"
      ]
     },
     "execution_count": 17,
     "metadata": {},
     "output_type": "execute_result"
    }
   ],
   "source": [
    "#Gathering the data frame for all reject codes associated with drug B\n",
    "df_B=dim_claims_df.loc[dim_claims_df.drug=='B', ['reject_code']]\n",
    "df_B.value_counts()"
   ]
  },
  {
   "cell_type": "code",
   "execution_count": 18,
   "metadata": {
    "scrolled": true
   },
   "outputs": [
    {
     "data": {
      "text/html": [
       "<div>\n",
       "<style scoped>\n",
       "    .dataframe tbody tr th:only-of-type {\n",
       "        vertical-align: middle;\n",
       "    }\n",
       "\n",
       "    .dataframe tbody tr th {\n",
       "        vertical-align: top;\n",
       "    }\n",
       "\n",
       "    .dataframe thead th {\n",
       "        text-align: right;\n",
       "    }\n",
       "</style>\n",
       "<table border=\"1\" class=\"dataframe\">\n",
       "  <thead>\n",
       "    <tr style=\"text-align: right;\">\n",
       "      <th></th>\n",
       "      <th>Percent Rejected</th>\n",
       "    </tr>\n",
       "  </thead>\n",
       "  <tbody>\n",
       "    <tr>\n",
       "      <th>70</th>\n",
       "      <td>36</td>\n",
       "    </tr>\n",
       "    <tr>\n",
       "      <th>75</th>\n",
       "      <td>51</td>\n",
       "    </tr>\n",
       "    <tr>\n",
       "      <th>76</th>\n",
       "      <td>13</td>\n",
       "    </tr>\n",
       "  </tbody>\n",
       "</table>\n",
       "</div>"
      ],
      "text/plain": [
       "    Percent Rejected\n",
       "70                36\n",
       "75                51\n",
       "76                13"
      ]
     },
     "execution_count": 18,
     "metadata": {},
     "output_type": "execute_result"
    }
   ],
   "source": [
    "#Getting the Rejection percentage data for Drug B (out of the total rejections made for drug B)\n",
    "percentB=np.array([36, 51, 13])\n",
    "    \n",
    "df_B1= pd.DataFrame(percentB,\n",
    "               \n",
    "columns=['Percent Rejected'], index=['70', '75', '76'])\n",
    "\n",
    "df_B1"
   ]
  },
  {
   "cell_type": "code",
   "execution_count": 19,
   "metadata": {},
   "outputs": [
    {
     "data": {
      "image/png": "[encoded data removed]",
      "text/plain": [
       "<Figure size 576x576 with 1 Axes>"
      ]
     },
     "metadata": {
      "needs_background": "light"
     },
     "output_type": "display_data"
    }
   ],
   "source": [
    "#Barchart for the previous data frame \n",
    "plt.figure(figsize = (8,8))\n",
    "\n",
    "sns.barplot(x=df_B1.index, y=df_B1['Percent Rejected'])\n",
    "\n",
    "plt.xlabel('Reject Code')\n",
    "plt.ylabel('Percent Rejected (out of total number rejected)')\n",
    "plt.title('Drug B')\n",
    "plt.show()"
   ]
  },
  {
   "cell_type": "markdown",
   "metadata": {},
   "source": [
    "Out of the total 342,750 claims made for drug B, about 55% percent of them had their pharmacy claims approved. Furthermore, out of the 154,512 rejections made for Drug B, about 36% of those rejections had rejection code 70, 51% had rejection code 75, and 13% had rejection code 76. Hence, if a patient got rejected for drug B, it was more than likely because the drug had no preferred status from the insurance company. "
   ]
  },
  {
   "cell_type": "code",
   "execution_count": 20,
   "metadata": {
    "scrolled": true
   },
   "outputs": [
    {
     "data": {
      "text/plain": [
       "reject_code\n",
       "0.0            200396\n",
       "75.0            50179\n",
       "70.0            40674\n",
       "76.0            22294\n",
       "dtype: int64"
      ]
     },
     "execution_count": 20,
     "metadata": {},
     "output_type": "execute_result"
    }
   ],
   "source": [
    "#Gathering the data frame for all reject codes associated with drug C\n",
    "df_C=dim_claims_df.loc[dim_claims_df.drug=='C', ['reject_code']]\n",
    "df_C.value_counts()"
   ]
  },
  {
   "cell_type": "code",
   "execution_count": 21,
   "metadata": {},
   "outputs": [
    {
     "data": {
      "text/html": [
       "<div>\n",
       "<style scoped>\n",
       "    .dataframe tbody tr th:only-of-type {\n",
       "        vertical-align: middle;\n",
       "    }\n",
       "\n",
       "    .dataframe tbody tr th {\n",
       "        vertical-align: top;\n",
       "    }\n",
       "\n",
       "    .dataframe thead th {\n",
       "        text-align: right;\n",
       "    }\n",
       "</style>\n",
       "<table border=\"1\" class=\"dataframe\">\n",
       "  <thead>\n",
       "    <tr style=\"text-align: right;\">\n",
       "      <th></th>\n",
       "      <th>Percent Rejected</th>\n",
       "    </tr>\n",
       "  </thead>\n",
       "  <tbody>\n",
       "    <tr>\n",
       "      <th>70</th>\n",
       "      <td>36</td>\n",
       "    </tr>\n",
       "    <tr>\n",
       "      <th>75</th>\n",
       "      <td>44</td>\n",
       "    </tr>\n",
       "    <tr>\n",
       "      <th>76</th>\n",
       "      <td>20</td>\n",
       "    </tr>\n",
       "  </tbody>\n",
       "</table>\n",
       "</div>"
      ],
      "text/plain": [
       "    Percent Rejected\n",
       "70                36\n",
       "75                44\n",
       "76                20"
      ]
     },
     "execution_count": 21,
     "metadata": {},
     "output_type": "execute_result"
    }
   ],
   "source": [
    "#Getting the Rejection percentage data for Drug C (out of the total rejections made for drug C)\n",
    "percentC=np.array([36, 44, 20])\n",
    "    \n",
    "df_C1= pd.DataFrame(percentC,\n",
    "               \n",
    "columns=['Percent Rejected'], index=['70', '75', '76'])\n",
    "\n",
    "df_C1"
   ]
  },
  {
   "cell_type": "code",
   "execution_count": 22,
   "metadata": {},
   "outputs": [
    {
     "data": {
      "image/png": "[encoded data removed]",
      "text/plain": [
       "<Figure size 576x576 with 1 Axes>"
      ]
     },
     "metadata": {
      "needs_background": "light"
     },
     "output_type": "display_data"
    }
   ],
   "source": [
    "#Barchart for the previous data frame \n",
    "plt.figure(figsize = (8,8))\n",
    "\n",
    "sns.barplot(x=df_C1.index, y=df_C1['Percent Rejected'])\n",
    "\n",
    "plt.xlabel('Reject Code')\n",
    "plt.ylabel('Percent Rejected (out of total number rejected)')\n",
    "plt.title('Drug C')\n",
    "plt.show()"
   ]
  },
  {
   "cell_type": "markdown",
   "metadata": {},
   "source": [
    "Out of the total 313,543 claims made for drug C, about 64% percent of them had their pharmacy claims approved. Furthermore, out of the 113,147 rejections made for Drug C, about 36% of those rejections had rejection code 70, 44% had rejection code 75, and 20% had rejection code 76. Hence, if a patient got rejected for drug C, it was more than likely because the drug had no preferred status from the insurance company. "
   ]
  },
  {
   "cell_type": "markdown",
   "metadata": {},
   "source": [
    "Across all three drugs, it seems that rejection code 76 was not the most prevalent reason for the claim being rejected. If a claim was rejected, it was quite often because either the drug was not covered or on the formulary or a prior authorization was needed. "
   ]
  },
  {
   "cell_type": "markdown",
   "metadata": {},
   "source": [
    "### Analyze the formulary for each payer. "
   ]
  },
  {
   "cell_type": "code",
   "execution_count": 23,
   "metadata": {
    "scrolled": true
   },
   "outputs": [],
   "source": [
    "#Create new data frames relating the specific insurance provider and the drug and \n",
    "#approved claim \n",
    "df_p380=dim_claims_df[dim_claims_df.bin==417380][['drug', 'pharmacy_claim_approved']]\n",
    "df_p614=dim_claims_df[dim_claims_df.bin==417614][['drug', 'pharmacy_claim_approved']]\n",
    "df_p740=dim_claims_df[dim_claims_df.bin==417740][['drug', 'pharmacy_claim_approved']]\n",
    "df_p001=dim_claims_df[dim_claims_df.bin==999001][['drug', 'pharmacy_claim_approved']]"
   ]
  },
  {
   "cell_type": "code",
   "execution_count": 24,
   "metadata": {
    "scrolled": true
   },
   "outputs": [
    {
     "data": {
      "image/png": "[encoded data removed]",
      "text/plain": [
       "<Figure size 864x720 with 4 Axes>"
      ]
     },
     "metadata": {
      "needs_background": "light"
     },
     "output_type": "display_data"
    }
   ],
   "source": [
    "#Get an idea of each formulary\n",
    "fig, ax =plt.subplots(2,2, figsize=(12,10))\n",
    "sns.countplot(x='drug', data=df_p380, hue='pharmacy_claim_approved', ax=ax[0,0])\n",
    "ax[0, 0].set_title('Payer: 417380')\n",
    "sns.countplot(x='drug', data=df_p614, hue='pharmacy_claim_approved', ax=ax[0,1])\n",
    "ax[0, 1].set_title('Payer: 417614')\n",
    "sns.countplot(x='drug', data=df_p740, hue='pharmacy_claim_approved', ax=ax[1,0])\n",
    "ax[1, 0].set_title('Payer: 417740')\n",
    "sns.countplot(x='drug', data=df_p001, hue='pharmacy_claim_approved', ax=ax[1,1])\n",
    "plt.title('Payer: 999001')\n",
    "plt.savefig('formulary_for_payer.jpg')\n",
    "plt.show()"
   ]
  },
  {
   "cell_type": "markdown",
   "metadata": {},
   "source": [
    "The above count plots show us the following information about each insurance company: \n",
    "\n",
    "- Payer 417380: Only approved the drug B and seems to completely reject drugs A and C. \n",
    "\n",
    "- Payer 417614: Only approved the drug C and seems to completely reject drugs A and B. \n",
    "\n",
    "- Payer 417470: Only approved the drug A and seems to completely reject drugs B and C.\n",
    "\n",
    "- Payer 999001: Was much more open to approving medication of all types. "
   ]
  },
  {
   "cell_type": "markdown",
   "metadata": {},
   "source": [
    "With this information in hand, can we get an idea of why the drugs were rejected by the payer? This will allow us to gather more information on the formulary. "
   ]
  },
  {
   "cell_type": "markdown",
   "metadata": {},
   "source": [
    "#### Create pivot tables to analyze the reject codes for the non-approved claims within each insurance provider and get a better idea of the formulary. "
   ]
  },
  {
   "cell_type": "code",
   "execution_count": 25,
   "metadata": {
    "scrolled": true
   },
   "outputs": [
    {
     "data": {
      "text/html": [
       "<div>\n",
       "<style scoped>\n",
       "    .dataframe tbody tr th:only-of-type {\n",
       "        vertical-align: middle;\n",
       "    }\n",
       "\n",
       "    .dataframe tbody tr th {\n",
       "        vertical-align: top;\n",
       "    }\n",
       "\n",
       "    .dataframe thead tr th {\n",
       "        text-align: left;\n",
       "    }\n",
       "\n",
       "    .dataframe thead tr:last-of-type th {\n",
       "        text-align: right;\n",
       "    }\n",
       "</style>\n",
       "<table border=\"1\" class=\"dataframe\">\n",
       "  <thead>\n",
       "    <tr>\n",
       "      <th></th>\n",
       "      <th colspan=\"4\" halign=\"left\">pharmacy_claim_approved</th>\n",
       "    </tr>\n",
       "    <tr>\n",
       "      <th>reject_code</th>\n",
       "      <th>0.0</th>\n",
       "      <th>70.0</th>\n",
       "      <th>75.0</th>\n",
       "      <th>76.0</th>\n",
       "    </tr>\n",
       "    <tr>\n",
       "      <th>drug</th>\n",
       "      <th></th>\n",
       "      <th></th>\n",
       "      <th></th>\n",
       "      <th></th>\n",
       "    </tr>\n",
       "  </thead>\n",
       "  <tbody>\n",
       "    <tr>\n",
       "      <th>A</th>\n",
       "      <td>0</td>\n",
       "      <td>0</td>\n",
       "      <td>88486</td>\n",
       "      <td>0</td>\n",
       "    </tr>\n",
       "    <tr>\n",
       "      <th>B</th>\n",
       "      <td>39952</td>\n",
       "      <td>0</td>\n",
       "      <td>0</td>\n",
       "      <td>4419</td>\n",
       "    </tr>\n",
       "    <tr>\n",
       "      <th>C</th>\n",
       "      <td>0</td>\n",
       "      <td>40674</td>\n",
       "      <td>0</td>\n",
       "      <td>0</td>\n",
       "    </tr>\n",
       "  </tbody>\n",
       "</table>\n",
       "</div>"
      ],
      "text/plain": [
       "            pharmacy_claim_approved                    \n",
       "reject_code                     0.0   70.0   75.0  76.0\n",
       "drug                                                   \n",
       "A                                 0      0  88486     0\n",
       "B                             39952      0      0  4419\n",
       "C                                 0  40674      0     0"
      ]
     },
     "execution_count": 25,
     "metadata": {},
     "output_type": "execute_result"
    }
   ],
   "source": [
    "#Pivot table for insurance provider with BIN 417380\n",
    "df_p3801=dim_claims_df[dim_claims_df.bin==417380][['drug', 'pharmacy_claim_approved', 'reject_code']]\n",
    "pivot_3801 = pd.pivot_table(data=df_p3801, index=['drug'], columns=['reject_code'], values=['pharmacy_claim_approved'], aggfunc='count')\n",
    "pivot_3801"
   ]
  },
  {
   "cell_type": "markdown",
   "metadata": {},
   "source": [
    "For insurance company with BIN 417380: \n",
    "- Drug A was rejected primarily for not having a preferred status (reject code 75).  \n",
    "- Drug B while approved, was only rejected for exceeding plan limitations (reject code 76). \n",
    "- Drug C was primarily rejected for not being covered by the plan and not on the formulary (reject code 70). \n",
    "- Formulary for this payer contains drug B and A (no preferred status) but not C. "
   ]
  },
  {
   "cell_type": "code",
   "execution_count": 26,
   "metadata": {},
   "outputs": [
    {
     "data": {
      "text/html": [
       "<div>\n",
       "<style scoped>\n",
       "    .dataframe tbody tr th:only-of-type {\n",
       "        vertical-align: middle;\n",
       "    }\n",
       "\n",
       "    .dataframe tbody tr th {\n",
       "        vertical-align: top;\n",
       "    }\n",
       "\n",
       "    .dataframe thead tr th {\n",
       "        text-align: left;\n",
       "    }\n",
       "\n",
       "    .dataframe thead tr:last-of-type th {\n",
       "        text-align: right;\n",
       "    }\n",
       "</style>\n",
       "<table border=\"1\" class=\"dataframe\">\n",
       "  <thead>\n",
       "    <tr>\n",
       "      <th></th>\n",
       "      <th colspan=\"4\" halign=\"left\">pharmacy_claim_approved</th>\n",
       "    </tr>\n",
       "    <tr>\n",
       "      <th>reject_code</th>\n",
       "      <th>0.0</th>\n",
       "      <th>70.0</th>\n",
       "      <th>75.0</th>\n",
       "      <th>76.0</th>\n",
       "    </tr>\n",
       "    <tr>\n",
       "      <th>drug</th>\n",
       "      <th></th>\n",
       "      <th></th>\n",
       "      <th></th>\n",
       "      <th></th>\n",
       "    </tr>\n",
       "  </thead>\n",
       "  <tbody>\n",
       "    <tr>\n",
       "      <th>A</th>\n",
       "      <td>0</td>\n",
       "      <td>156497</td>\n",
       "      <td>0</td>\n",
       "      <td>0</td>\n",
       "    </tr>\n",
       "    <tr>\n",
       "      <th>B</th>\n",
       "      <td>0</td>\n",
       "      <td>0</td>\n",
       "      <td>78686</td>\n",
       "      <td>0</td>\n",
       "    </tr>\n",
       "    <tr>\n",
       "      <th>C</th>\n",
       "      <td>65055</td>\n",
       "      <td>0</td>\n",
       "      <td>0</td>\n",
       "      <td>7085</td>\n",
       "    </tr>\n",
       "  </tbody>\n",
       "</table>\n",
       "</div>"
      ],
      "text/plain": [
       "            pharmacy_claim_approved                     \n",
       "reject_code                     0.0    70.0   75.0  76.0\n",
       "drug                                                    \n",
       "A                                 0  156497      0     0\n",
       "B                                 0       0  78686     0\n",
       "C                             65055       0      0  7085"
      ]
     },
     "execution_count": 26,
     "metadata": {},
     "output_type": "execute_result"
    }
   ],
   "source": [
    "#Pivot table for insurance provider with BIN 417614\n",
    "df_p6141=dim_claims_df[dim_claims_df.bin==417614][['drug', 'pharmacy_claim_approved', 'reject_code']]\n",
    "pivot_6141 = pd.pivot_table(data=df_p6141, index=['drug'], columns=['reject_code'], values=['pharmacy_claim_approved'], aggfunc='count')\n",
    "pivot_6141"
   ]
  },
  {
   "cell_type": "markdown",
   "metadata": {},
   "source": [
    "For insurance company with BIN 417380: \n",
    "- Drug A was primarily rejected for not being covered by the plan and not on the formulary (reject code 70). \n",
    "- Drug B was rejected primarily for not having a preferred status (reject code 75).  \n",
    "- Drug C while approved, was only rejected for exceeding plan limitations (reject code 76).\n",
    "- Formulary for this payer contains drug C and B (no preferred status) but not A. "
   ]
  },
  {
   "cell_type": "code",
   "execution_count": 27,
   "metadata": {
    "scrolled": true
   },
   "outputs": [
    {
     "data": {
      "text/html": [
       "<div>\n",
       "<style scoped>\n",
       "    .dataframe tbody tr th:only-of-type {\n",
       "        vertical-align: middle;\n",
       "    }\n",
       "\n",
       "    .dataframe tbody tr th {\n",
       "        vertical-align: top;\n",
       "    }\n",
       "\n",
       "    .dataframe thead tr th {\n",
       "        text-align: left;\n",
       "    }\n",
       "\n",
       "    .dataframe thead tr:last-of-type th {\n",
       "        text-align: right;\n",
       "    }\n",
       "</style>\n",
       "<table border=\"1\" class=\"dataframe\">\n",
       "  <thead>\n",
       "    <tr>\n",
       "      <th></th>\n",
       "      <th colspan=\"4\" halign=\"left\">pharmacy_claim_approved</th>\n",
       "    </tr>\n",
       "    <tr>\n",
       "      <th>reject_code</th>\n",
       "      <th>0.0</th>\n",
       "      <th>70.0</th>\n",
       "      <th>75.0</th>\n",
       "      <th>76.0</th>\n",
       "    </tr>\n",
       "    <tr>\n",
       "      <th>drug</th>\n",
       "      <th></th>\n",
       "      <th></th>\n",
       "      <th></th>\n",
       "      <th></th>\n",
       "    </tr>\n",
       "  </thead>\n",
       "  <tbody>\n",
       "    <tr>\n",
       "      <th>A</th>\n",
       "      <td>97951</td>\n",
       "      <td>0</td>\n",
       "      <td>0</td>\n",
       "      <td>10817</td>\n",
       "    </tr>\n",
       "    <tr>\n",
       "      <th>B</th>\n",
       "      <td>0</td>\n",
       "      <td>55035</td>\n",
       "      <td>0</td>\n",
       "      <td>0</td>\n",
       "    </tr>\n",
       "    <tr>\n",
       "      <th>C</th>\n",
       "      <td>0</td>\n",
       "      <td>0</td>\n",
       "      <td>50179</td>\n",
       "      <td>0</td>\n",
       "    </tr>\n",
       "  </tbody>\n",
       "</table>\n",
       "</div>"
      ],
      "text/plain": [
       "            pharmacy_claim_approved                     \n",
       "reject_code                     0.0   70.0   75.0   76.0\n",
       "drug                                                    \n",
       "A                             97951      0      0  10817\n",
       "B                                 0  55035      0      0\n",
       "C                                 0      0  50179      0"
      ]
     },
     "execution_count": 27,
     "metadata": {},
     "output_type": "execute_result"
    }
   ],
   "source": [
    "#Pivot table for insurance provider with BIN 417740\n",
    "df_p7401=dim_claims_df[dim_claims_df.bin==417740][['drug', 'pharmacy_claim_approved', 'reject_code']]\n",
    "pivot_7401 = pd.pivot_table(data=df_p7401, index=['drug'], columns=['reject_code'], values=['pharmacy_claim_approved'], aggfunc='count')\n",
    "pivot_7401"
   ]
  },
  {
   "cell_type": "markdown",
   "metadata": {},
   "source": [
    "For insurance company with BIN 417740: \n",
    "- Drug A while approved, was only rejected for exceeding plan limitations (reject code 76).\n",
    "- Drug B was primarily rejected for not being covered by the plan and not on the formulary (reject code 70).\n",
    "- Drug C was rejected primarily for not having a preferred status (reject code 75). \n",
    "- Formulary for this payer contains drug A and C (no preferred status) but not B. "
   ]
  },
  {
   "cell_type": "code",
   "execution_count": 28,
   "metadata": {},
   "outputs": [
    {
     "data": {
      "text/html": [
       "<div>\n",
       "<style scoped>\n",
       "    .dataframe tbody tr th:only-of-type {\n",
       "        vertical-align: middle;\n",
       "    }\n",
       "\n",
       "    .dataframe tbody tr th {\n",
       "        vertical-align: top;\n",
       "    }\n",
       "\n",
       "    .dataframe thead tr th {\n",
       "        text-align: left;\n",
       "    }\n",
       "\n",
       "    .dataframe thead tr:last-of-type th {\n",
       "        text-align: right;\n",
       "    }\n",
       "</style>\n",
       "<table border=\"1\" class=\"dataframe\">\n",
       "  <thead>\n",
       "    <tr>\n",
       "      <th></th>\n",
       "      <th colspan=\"4\" halign=\"left\">pharmacy_claim_approved</th>\n",
       "    </tr>\n",
       "    <tr>\n",
       "      <th>reject_code</th>\n",
       "      <th>0.0</th>\n",
       "      <th>70.0</th>\n",
       "      <th>75.0</th>\n",
       "      <th>76.0</th>\n",
       "    </tr>\n",
       "    <tr>\n",
       "      <th>drug</th>\n",
       "      <th></th>\n",
       "      <th></th>\n",
       "      <th></th>\n",
       "      <th></th>\n",
       "    </tr>\n",
       "  </thead>\n",
       "  <tbody>\n",
       "    <tr>\n",
       "      <th>A</th>\n",
       "      <td>293040</td>\n",
       "      <td>0</td>\n",
       "      <td>0</td>\n",
       "      <td>32492</td>\n",
       "    </tr>\n",
       "    <tr>\n",
       "      <th>B</th>\n",
       "      <td>148286</td>\n",
       "      <td>0</td>\n",
       "      <td>0</td>\n",
       "      <td>16372</td>\n",
       "    </tr>\n",
       "    <tr>\n",
       "      <th>C</th>\n",
       "      <td>135341</td>\n",
       "      <td>0</td>\n",
       "      <td>0</td>\n",
       "      <td>15209</td>\n",
       "    </tr>\n",
       "  </tbody>\n",
       "</table>\n",
       "</div>"
      ],
      "text/plain": [
       "            pharmacy_claim_approved                 \n",
       "reject_code                     0.0 70.0 75.0   76.0\n",
       "drug                                                \n",
       "A                            293040    0    0  32492\n",
       "B                            148286    0    0  16372\n",
       "C                            135341    0    0  15209"
      ]
     },
     "execution_count": 28,
     "metadata": {},
     "output_type": "execute_result"
    }
   ],
   "source": [
    "#Pivot table for insurance provider with BIN 999001\n",
    "df_p0011=dim_claims_df[dim_claims_df.bin==999001][['drug', 'pharmacy_claim_approved', 'reject_code']]\n",
    "pivot_0011 = pd.pivot_table(data=df_p0011, index=['drug'], columns=['reject_code'], values=['pharmacy_claim_approved'], aggfunc='count')\n",
    "pivot_0011"
   ]
  },
  {
   "cell_type": "markdown",
   "metadata": {},
   "source": [
    "For insurance company with BIN 999001: \n",
    "- Drug A, B, and C while approved were only rejected for exceeding plan limitations (but still are covered). \n",
    "- Formulary for this payer contains all drugs!  \n"
   ]
  },
  {
   "cell_type": "markdown",
   "metadata": {},
   "source": [
    "## Modeling Phase : Predicting whether a PA is going to be needed based on pharmacy claims data. "
   ]
  },
  {
   "cell_type": "code",
   "execution_count": 29,
   "metadata": {},
   "outputs": [
    {
     "data": {
      "text/html": [
       "<div>\n",
       "<style scoped>\n",
       "    .dataframe tbody tr th:only-of-type {\n",
       "        vertical-align: middle;\n",
       "    }\n",
       "\n",
       "    .dataframe tbody tr th {\n",
       "        vertical-align: top;\n",
       "    }\n",
       "\n",
       "    .dataframe thead th {\n",
       "        text-align: right;\n",
       "    }\n",
       "</style>\n",
       "<table border=\"1\" class=\"dataframe\">\n",
       "  <thead>\n",
       "    <tr style=\"text-align: right;\">\n",
       "      <th></th>\n",
       "      <th>dim_claim_id</th>\n",
       "      <th>bin</th>\n",
       "      <th>drug</th>\n",
       "      <th>reject_code</th>\n",
       "      <th>pharmacy_claim_approved</th>\n",
       "    </tr>\n",
       "  </thead>\n",
       "  <tbody>\n",
       "    <tr>\n",
       "      <th>0</th>\n",
       "      <td>1</td>\n",
       "      <td>417380</td>\n",
       "      <td>A</td>\n",
       "      <td>75.0</td>\n",
       "      <td>0</td>\n",
       "    </tr>\n",
       "    <tr>\n",
       "      <th>1</th>\n",
       "      <td>2</td>\n",
       "      <td>999001</td>\n",
       "      <td>A</td>\n",
       "      <td>0.0</td>\n",
       "      <td>1</td>\n",
       "    </tr>\n",
       "    <tr>\n",
       "      <th>2</th>\n",
       "      <td>3</td>\n",
       "      <td>417740</td>\n",
       "      <td>A</td>\n",
       "      <td>76.0</td>\n",
       "      <td>0</td>\n",
       "    </tr>\n",
       "    <tr>\n",
       "      <th>3</th>\n",
       "      <td>4</td>\n",
       "      <td>999001</td>\n",
       "      <td>A</td>\n",
       "      <td>0.0</td>\n",
       "      <td>1</td>\n",
       "    </tr>\n",
       "    <tr>\n",
       "      <th>4</th>\n",
       "      <td>5</td>\n",
       "      <td>417740</td>\n",
       "      <td>A</td>\n",
       "      <td>0.0</td>\n",
       "      <td>1</td>\n",
       "    </tr>\n",
       "    <tr>\n",
       "      <th>5</th>\n",
       "      <td>6</td>\n",
       "      <td>417740</td>\n",
       "      <td>A</td>\n",
       "      <td>0.0</td>\n",
       "      <td>1</td>\n",
       "    </tr>\n",
       "    <tr>\n",
       "      <th>6</th>\n",
       "      <td>7</td>\n",
       "      <td>999001</td>\n",
       "      <td>A</td>\n",
       "      <td>0.0</td>\n",
       "      <td>1</td>\n",
       "    </tr>\n",
       "  </tbody>\n",
       "</table>\n",
       "</div>"
      ],
      "text/plain": [
       "   dim_claim_id     bin drug reject_code  pharmacy_claim_approved\n",
       "0             1  417380    A        75.0                        0\n",
       "1             2  999001    A         0.0                        1\n",
       "2             3  417740    A        76.0                        0\n",
       "3             4  999001    A         0.0                        1\n",
       "4             5  417740    A         0.0                        1\n",
       "5             6  417740    A         0.0                        1\n",
       "6             7  999001    A         0.0                        1"
      ]
     },
     "execution_count": 29,
     "metadata": {},
     "output_type": "execute_result"
    }
   ],
   "source": [
    "#Remind ourselves of the data \n",
    "dim_claims_df.head(7)"
   ]
  },
  {
   "cell_type": "code",
   "execution_count": 30,
   "metadata": {},
   "outputs": [],
   "source": [
    "#Feature Matrix \n",
    "#Dropping reject_code to avoid a duplicate of the target variable. \n",
    "X=dim_claims_df.drop(['pharmacy_claim_approved', 'reject_code'], axis=1)\n",
    "\n",
    "#Target Variable\n",
    "y=dim_claims_df.pharmacy_claim_approved"
   ]
  },
  {
   "cell_type": "code",
   "execution_count": 31,
   "metadata": {},
   "outputs": [
    {
     "name": "stdout",
     "output_type": "stream",
     "text": [
      "<class 'pandas.core.frame.DataFrame'>\n",
      "RangeIndex: 1335576 entries, 0 to 1335575\n",
      "Data columns (total 3 columns):\n",
      " #   Column        Non-Null Count    Dtype   \n",
      "---  ------        --------------    -----   \n",
      " 0   dim_claim_id  1335576 non-null  int64   \n",
      " 1   bin           1335576 non-null  category\n",
      " 2   drug          1335576 non-null  category\n",
      "dtypes: category(2), int64(1)\n",
      "memory usage: 12.7 MB\n"
     ]
    }
   ],
   "source": [
    "X.info()"
   ]
  },
  {
   "cell_type": "code",
   "execution_count": 32,
   "metadata": {},
   "outputs": [],
   "source": [
    "#Create the train-test split \n",
    "X_train,X_val,y_train,y_val = train_test_split(X,\n",
    "                                                y,\n",
    "                                                shuffle = True,\n",
    "                                                stratify = y,\n",
    "                                                train_size=0.70,\n",
    "                                                random_state = 614)\n",
    "\n",
    "X_val_2=X_val.copy()\n",
    "X_train=X_train.drop('dim_claim_id', axis=1)\n",
    "X_val=X_val.drop('dim_claim_id', axis=1)"
   ]
  },
  {
   "cell_type": "code",
   "execution_count": 33,
   "metadata": {},
   "outputs": [
    {
     "data": {
      "text/html": [
       "<div>\n",
       "<style scoped>\n",
       "    .dataframe tbody tr th:only-of-type {\n",
       "        vertical-align: middle;\n",
       "    }\n",
       "\n",
       "    .dataframe tbody tr th {\n",
       "        vertical-align: top;\n",
       "    }\n",
       "\n",
       "    .dataframe thead th {\n",
       "        text-align: right;\n",
       "    }\n",
       "</style>\n",
       "<table border=\"1\" class=\"dataframe\">\n",
       "  <thead>\n",
       "    <tr style=\"text-align: right;\">\n",
       "      <th></th>\n",
       "      <th>bin</th>\n",
       "      <th>drug</th>\n",
       "    </tr>\n",
       "  </thead>\n",
       "  <tbody>\n",
       "    <tr>\n",
       "      <th>828130</th>\n",
       "      <td>417614</td>\n",
       "      <td>A</td>\n",
       "    </tr>\n",
       "    <tr>\n",
       "      <th>217502</th>\n",
       "      <td>999001</td>\n",
       "      <td>A</td>\n",
       "    </tr>\n",
       "    <tr>\n",
       "      <th>146462</th>\n",
       "      <td>999001</td>\n",
       "      <td>A</td>\n",
       "    </tr>\n",
       "    <tr>\n",
       "      <th>229342</th>\n",
       "      <td>999001</td>\n",
       "      <td>C</td>\n",
       "    </tr>\n",
       "    <tr>\n",
       "      <th>913971</th>\n",
       "      <td>999001</td>\n",
       "      <td>C</td>\n",
       "    </tr>\n",
       "  </tbody>\n",
       "</table>\n",
       "</div>"
      ],
      "text/plain": [
       "           bin drug\n",
       "828130  417614    A\n",
       "217502  999001    A\n",
       "146462  999001    A\n",
       "229342  999001    C\n",
       "913971  999001    C"
      ]
     },
     "execution_count": 33,
     "metadata": {},
     "output_type": "execute_result"
    }
   ],
   "source": [
    "#Viewing to make sure that the training data did indeed drop the columns we needed.  \n",
    "X_train.head()"
   ]
  },
  {
   "cell_type": "code",
   "execution_count": 34,
   "metadata": {},
   "outputs": [],
   "source": [
    "#Function we will use to get model metrics. \n",
    "def get_model_scores(model, X_t, y_t, X_v, y_v): \n",
    "    \"\"\"Get accuracy, precision, recall, AUC, scores for designated model\"\"\"\n",
    "\n",
    "    # Fit the data \n",
    "    model.fit(X_t, y_t)\n",
    "\n",
    "    # Get predictions\n",
    "    y_pred = model.predict(X_v)\n",
    "    \n",
    "    #Accuracy Score\n",
    "    accuracy=accuracy_score(y_v, y_pred)\n",
    "    \n",
    "    #Precision Score\n",
    "    precision=precision_score(y_v, y_pred)\n",
    "    \n",
    "    #Recall Score\n",
    "    recall=recall_score(y_v, y_pred)\n",
    "    \n",
    "    #AUC Score\n",
    "    y_prob=model.predict_proba(X_v)\n",
    "    \n",
    "    auc_score=roc_auc_score(y_v,y_prob[:,1])\n",
    "    \n",
    "    \n",
    "    scores=np.array([accuracy, precision, recall, auc_score])\n",
    "    \n",
    "    df = pd.DataFrame(scores,\n",
    "               \n",
    "                      columns=['Scores'], index=['Accuracy', 'Precision', 'Recall', 'AUC'])\n",
    "    return df"
   ]
  },
  {
   "cell_type": "code",
   "execution_count": 35,
   "metadata": {},
   "outputs": [],
   "source": [
    "#Preprocess by one hot encoding \n",
    "categorical_cols_OH=['drug', 'bin']\n",
    "OH_encoder = OneHotEncoder(handle_unknown='ignore', sparse=False)\n",
    "OH_cols_train = pd.DataFrame(OH_encoder.fit_transform(X_train[categorical_cols_OH]))\n",
    "OH_cols_valid = pd.DataFrame(OH_encoder.transform(X_val[categorical_cols_OH]))\n",
    "\n",
    "#Put the columns names back \n",
    "OH_cols_train.index = X_train.index\n",
    "OH_cols_valid.index = X_val.index\n",
    "\n",
    "# Remove categorical columns (will replace with one-hot encoding)\n",
    "#numerical columns in X_train and X_valid \n",
    "num_X_train = X_train.drop(categorical_cols_OH, axis=1)\n",
    "num_X_valid = X_val.drop(categorical_cols_OH, axis=1)\n",
    "\n",
    "# Add one-hot encoded columns to numerical features. These are our testing features \n",
    "X_train_OH = pd.concat([num_X_train, OH_cols_train], axis=1)\n",
    "X_valid_OH = pd.concat([num_X_valid, OH_cols_valid], axis=1)"
   ]
  },
  {
   "cell_type": "code",
   "execution_count": 36,
   "metadata": {},
   "outputs": [
    {
     "data": {
      "text/html": [
       "<div>\n",
       "<style scoped>\n",
       "    .dataframe tbody tr th:only-of-type {\n",
       "        vertical-align: middle;\n",
       "    }\n",
       "\n",
       "    .dataframe tbody tr th {\n",
       "        vertical-align: top;\n",
       "    }\n",
       "\n",
       "    .dataframe thead th {\n",
       "        text-align: right;\n",
       "    }\n",
       "</style>\n",
       "<table border=\"1\" class=\"dataframe\">\n",
       "  <thead>\n",
       "    <tr style=\"text-align: right;\">\n",
       "      <th></th>\n",
       "      <th>0</th>\n",
       "      <th>1</th>\n",
       "      <th>2</th>\n",
       "      <th>3</th>\n",
       "      <th>4</th>\n",
       "      <th>5</th>\n",
       "      <th>6</th>\n",
       "    </tr>\n",
       "  </thead>\n",
       "  <tbody>\n",
       "    <tr>\n",
       "      <th>828130</th>\n",
       "      <td>1.0</td>\n",
       "      <td>0.0</td>\n",
       "      <td>0.0</td>\n",
       "      <td>0.0</td>\n",
       "      <td>1.0</td>\n",
       "      <td>0.0</td>\n",
       "      <td>0.0</td>\n",
       "    </tr>\n",
       "    <tr>\n",
       "      <th>217502</th>\n",
       "      <td>1.0</td>\n",
       "      <td>0.0</td>\n",
       "      <td>0.0</td>\n",
       "      <td>0.0</td>\n",
       "      <td>0.0</td>\n",
       "      <td>0.0</td>\n",
       "      <td>1.0</td>\n",
       "    </tr>\n",
       "    <tr>\n",
       "      <th>146462</th>\n",
       "      <td>1.0</td>\n",
       "      <td>0.0</td>\n",
       "      <td>0.0</td>\n",
       "      <td>0.0</td>\n",
       "      <td>0.0</td>\n",
       "      <td>0.0</td>\n",
       "      <td>1.0</td>\n",
       "    </tr>\n",
       "    <tr>\n",
       "      <th>229342</th>\n",
       "      <td>0.0</td>\n",
       "      <td>0.0</td>\n",
       "      <td>1.0</td>\n",
       "      <td>0.0</td>\n",
       "      <td>0.0</td>\n",
       "      <td>0.0</td>\n",
       "      <td>1.0</td>\n",
       "    </tr>\n",
       "    <tr>\n",
       "      <th>913971</th>\n",
       "      <td>0.0</td>\n",
       "      <td>0.0</td>\n",
       "      <td>1.0</td>\n",
       "      <td>0.0</td>\n",
       "      <td>0.0</td>\n",
       "      <td>0.0</td>\n",
       "      <td>1.0</td>\n",
       "    </tr>\n",
       "    <tr>\n",
       "      <th>1324805</th>\n",
       "      <td>1.0</td>\n",
       "      <td>0.0</td>\n",
       "      <td>0.0</td>\n",
       "      <td>0.0</td>\n",
       "      <td>0.0</td>\n",
       "      <td>0.0</td>\n",
       "      <td>1.0</td>\n",
       "    </tr>\n",
       "    <tr>\n",
       "      <th>1032431</th>\n",
       "      <td>1.0</td>\n",
       "      <td>0.0</td>\n",
       "      <td>0.0</td>\n",
       "      <td>0.0</td>\n",
       "      <td>0.0</td>\n",
       "      <td>0.0</td>\n",
       "      <td>1.0</td>\n",
       "    </tr>\n",
       "    <tr>\n",
       "      <th>858213</th>\n",
       "      <td>1.0</td>\n",
       "      <td>0.0</td>\n",
       "      <td>0.0</td>\n",
       "      <td>0.0</td>\n",
       "      <td>0.0</td>\n",
       "      <td>0.0</td>\n",
       "      <td>1.0</td>\n",
       "    </tr>\n",
       "    <tr>\n",
       "      <th>907597</th>\n",
       "      <td>1.0</td>\n",
       "      <td>0.0</td>\n",
       "      <td>0.0</td>\n",
       "      <td>0.0</td>\n",
       "      <td>1.0</td>\n",
       "      <td>0.0</td>\n",
       "      <td>0.0</td>\n",
       "    </tr>\n",
       "    <tr>\n",
       "      <th>340025</th>\n",
       "      <td>0.0</td>\n",
       "      <td>0.0</td>\n",
       "      <td>1.0</td>\n",
       "      <td>0.0</td>\n",
       "      <td>0.0</td>\n",
       "      <td>0.0</td>\n",
       "      <td>1.0</td>\n",
       "    </tr>\n",
       "  </tbody>\n",
       "</table>\n",
       "</div>"
      ],
      "text/plain": [
       "           0    1    2    3    4    5    6\n",
       "828130   1.0  0.0  0.0  0.0  1.0  0.0  0.0\n",
       "217502   1.0  0.0  0.0  0.0  0.0  0.0  1.0\n",
       "146462   1.0  0.0  0.0  0.0  0.0  0.0  1.0\n",
       "229342   0.0  0.0  1.0  0.0  0.0  0.0  1.0\n",
       "913971   0.0  0.0  1.0  0.0  0.0  0.0  1.0\n",
       "1324805  1.0  0.0  0.0  0.0  0.0  0.0  1.0\n",
       "1032431  1.0  0.0  0.0  0.0  0.0  0.0  1.0\n",
       "858213   1.0  0.0  0.0  0.0  0.0  0.0  1.0\n",
       "907597   1.0  0.0  0.0  0.0  1.0  0.0  0.0\n",
       "340025   0.0  0.0  1.0  0.0  0.0  0.0  1.0"
      ]
     },
     "execution_count": 36,
     "metadata": {},
     "output_type": "execute_result"
    }
   ],
   "source": [
    "X_train_OH.head(10)"
   ]
  },
  {
   "cell_type": "code",
   "execution_count": 37,
   "metadata": {
    "scrolled": false
   },
   "outputs": [
    {
     "name": "stdout",
     "output_type": "stream",
     "text": [
      "RandomForestClassifier(random_state=0) scores:\n"
     ]
    },
    {
     "data": {
      "text/html": [
       "<div>\n",
       "<style scoped>\n",
       "    .dataframe tbody tr th:only-of-type {\n",
       "        vertical-align: middle;\n",
       "    }\n",
       "\n",
       "    .dataframe tbody tr th {\n",
       "        vertical-align: top;\n",
       "    }\n",
       "\n",
       "    .dataframe thead th {\n",
       "        text-align: right;\n",
       "    }\n",
       "</style>\n",
       "<table border=\"1\" class=\"dataframe\">\n",
       "  <thead>\n",
       "    <tr style=\"text-align: right;\">\n",
       "      <th></th>\n",
       "      <th>Scores</th>\n",
       "    </tr>\n",
       "  </thead>\n",
       "  <tbody>\n",
       "    <tr>\n",
       "      <th>Accuracy</th>\n",
       "      <td>0.935039</td>\n",
       "    </tr>\n",
       "    <tr>\n",
       "      <th>Precision</th>\n",
       "      <td>0.899860</td>\n",
       "    </tr>\n",
       "    <tr>\n",
       "      <th>Recall</th>\n",
       "      <td>1.000000</td>\n",
       "    </tr>\n",
       "    <tr>\n",
       "      <th>AUC</th>\n",
       "      <td>0.921841</td>\n",
       "    </tr>\n",
       "  </tbody>\n",
       "</table>\n",
       "</div>"
      ],
      "text/plain": [
       "             Scores\n",
       "Accuracy   0.935039\n",
       "Precision  0.899860\n",
       "Recall     1.000000\n",
       "AUC        0.921841"
      ]
     },
     "execution_count": 37,
     "metadata": {},
     "output_type": "execute_result"
    }
   ],
   "source": [
    "##Beginning the actual model testing. We will use the default settings. \n",
    "\n",
    "#Given how sparse the data is as well as the binary nature of the features \n",
    "#it seems like a random_forest is one of the more appropriate models to use in this situation. \n",
    "random_forest =RandomForestClassifier(random_state=0)\n",
    "\n",
    "print(f'{random_forest} scores:')\n",
    "get_model_scores(random_forest, X_train_OH, y_train, X_valid_OH, y_val)"
   ]
  },
  {
   "cell_type": "markdown",
   "metadata": {},
   "source": [
    "Model seems to do really well on the default hyperparameters, so we will just check across the max_depth. "
   ]
  },
  {
   "cell_type": "markdown",
   "metadata": {},
   "source": [
    "### Use GridSearch to find the best possible model. "
   ]
  },
  {
   "cell_type": "code",
   "execution_count": 38,
   "metadata": {},
   "outputs": [
    {
     "data": {
      "text/plain": [
       "GridSearchCV(cv=5, estimator=RandomForestClassifier(random_state=0),\n",
       "             param_grid={'max_depth': range(5, 11, 5)}, scoring='precision')"
      ]
     },
     "execution_count": 38,
     "metadata": {},
     "output_type": "execute_result"
    }
   ],
   "source": [
    "#GridSearching for the best possible parameter on the max_depth. \n",
    "\n",
    "from sklearn.model_selection import GridSearchCV\n",
    "\n",
    "parameters = {'max_depth':range(5, 11, 5)}\n",
    "\n",
    "gs=GridSearchCV(random_forest, parameters, scoring='precision', cv=5)\n",
    "\n",
    "gs.fit(X_train_OH, y_train)"
   ]
  },
  {
   "cell_type": "code",
   "execution_count": 39,
   "metadata": {},
   "outputs": [
    {
     "name": "stdout",
     "output_type": "stream",
     "text": [
      "The best Random Forest Classifier Precision Score: 0.9004033851795175\n",
      "\n",
      "The best Random Forest Classifier Model: RandomForestClassifier(max_depth=5, random_state=0)\n"
     ]
    }
   ],
   "source": [
    "#Try and find the best model to increase the precision score across the depth parameters. It did well enough \n",
    "#on the n_esitmators data point at 100. \n",
    "\n",
    "print(f\"The best Random Forest Classifier Precision Score: {gs.best_score_}\\n\")\n",
    "\n",
    "print(f\"The best Random Forest Classifier Model: {gs.best_estimator_}\")"
   ]
  },
  {
   "cell_type": "markdown",
   "metadata": {},
   "source": [
    "It looks like the model performs better with a max_depth hyperparameter equal to 5 so we will use that model and see if the corresponding recall and accuracy scores are better too using cross validation. "
   ]
  },
  {
   "cell_type": "markdown",
   "metadata": {},
   "source": [
    "### Cross Validate the data across the metrics on the best model found. "
   ]
  },
  {
   "cell_type": "code",
   "execution_count": 40,
   "metadata": {
    "scrolled": false
   },
   "outputs": [
    {
     "name": "stdout",
     "output_type": "stream",
     "text": [
      "RandomForestClassifier(random_state=0) scores:\n",
      "\n",
      "Random Forest Classifier accuracy scores: [0.93535172 0.93525545 0.93616464 0.93535672 0.93502514]\n",
      "Random Forest Classifier mean accuracy score: 0.935430734012396\n",
      "\n",
      "Random Forest Classifier precision scores: [0.90029282 0.90015999 0.9014238  0.90030025 0.89984006]\n",
      "Random Forest Classifier mean precision score: 0.9004033851795175\n",
      "\n",
      "Random Forest Classifier recall scores: [1. 1. 1. 1. 1.]\n",
      "Random Forest Classifier mean recall score: 1.0\n",
      "\n"
     ]
    }
   ],
   "source": [
    "#Convert accuracy, recall, and precision scores to metrics that will be used in cross validation. \n",
    "accuracy_metric=make_scorer(accuracy_score)\n",
    "recall_metric=make_scorer(recall_score)\n",
    "precision_metric=make_scorer(precision_score)\n",
    "\n",
    "rf_clf=RandomForestClassifier(max_depth=5, random_state=0)\n",
    "\n",
    "print(f'{random_forest} scores:\\n')\n",
    "accuracy_scores=cross_val_score(rf_clf, X_train_OH, y_train,\n",
    "                              cv=5,\n",
    "                              scoring=accuracy_metric)\n",
    "recall_scores=cross_val_score(rf_clf, X_train_OH, y_train,\n",
    "                              cv=5,\n",
    "                              scoring=recall_metric)\n",
    "precision_scores=cross_val_score(rf_clf, X_train_OH, y_train,\n",
    "                              cv=5,\n",
    "                              scoring=precision_metric)\n",
    "print(f\"Random Forest Classifier accuracy scores: {accuracy_scores}\")\n",
    "print(f\"Random Forest Classifier mean accuracy score: {np.mean(accuracy_scores)}\\n\")\n",
    "print(f\"Random Forest Classifier precision scores: {precision_scores}\")\n",
    "print(f\"Random Forest Classifier mean precision score: {np.mean(precision_scores)}\\n\")\n",
    "print(f\"Random Forest Classifier recall scores: {recall_scores}\")\n",
    "print(f\"Random Forest Classifier mean recall score: {np.mean(recall_scores)}\\n\")"
   ]
  },
  {
   "cell_type": "markdown",
   "metadata": {},
   "source": [
    "From cross validation, it looks like the model is performing about the same across all metrics through each fold in the cross validation process."
   ]
  },
  {
   "cell_type": "markdown",
   "metadata": {},
   "source": [
    "### Confusion Matrix and Classification Report"
   ]
  },
  {
   "cell_type": "code",
   "execution_count": 41,
   "metadata": {
    "scrolled": true
   },
   "outputs": [
    {
     "name": "stdout",
     "output_type": "stream",
     "text": [
      "confusion matrix\n",
      "[[140757  26028]\n",
      " [     0 233888]]\n",
      "-------------------------------------------\n",
      "              precision    recall  f1-score   support\n",
      "\n",
      "           0       1.00      0.84      0.92    166785\n",
      "           1       0.90      1.00      0.95    233888\n",
      "\n",
      "    accuracy                           0.94    400673\n",
      "   macro avg       0.95      0.92      0.93    400673\n",
      "weighted avg       0.94      0.94      0.93    400673\n",
      "\n"
     ]
    }
   ],
   "source": [
    "#Print the classification report \n",
    "from sklearn.metrics import classification_report\n",
    "from sklearn.metrics import confusion_matrix\n",
    "rf_clf.fit(X_train_OH, y_train)\n",
    "y_pred=rf_clf.predict(X_valid_OH)\n",
    "conf_matrix = confusion_matrix(y_val, y_pred)\n",
    "print(\"confusion matrix\")\n",
    "print(conf_matrix)\n",
    "print(\"-------------------------------------------\")\n",
    "print(classification_report(y_val,y_pred))"
   ]
  },
  {
   "cell_type": "markdown",
   "metadata": {},
   "source": [
    "#### Gathering feature importance"
   ]
  },
  {
   "cell_type": "code",
   "execution_count": 42,
   "metadata": {
    "scrolled": true
   },
   "outputs": [
    {
     "data": {
      "text/html": [
       "<div>\n",
       "<style scoped>\n",
       "    .dataframe tbody tr th:only-of-type {\n",
       "        vertical-align: middle;\n",
       "    }\n",
       "\n",
       "    .dataframe tbody tr th {\n",
       "        vertical-align: top;\n",
       "    }\n",
       "\n",
       "    .dataframe thead th {\n",
       "        text-align: right;\n",
       "    }\n",
       "</style>\n",
       "<table border=\"1\" class=\"dataframe\">\n",
       "  <thead>\n",
       "    <tr style=\"text-align: right;\">\n",
       "      <th></th>\n",
       "      <th>feature</th>\n",
       "      <th>importance_score</th>\n",
       "    </tr>\n",
       "  </thead>\n",
       "  <tbody>\n",
       "    <tr>\n",
       "      <th>6</th>\n",
       "      <td>6</td>\n",
       "      <td>0.3426</td>\n",
       "    </tr>\n",
       "    <tr>\n",
       "      <th>4</th>\n",
       "      <td>4</td>\n",
       "      <td>0.1797</td>\n",
       "    </tr>\n",
       "    <tr>\n",
       "      <th>0</th>\n",
       "      <td>0</td>\n",
       "      <td>0.1126</td>\n",
       "    </tr>\n",
       "    <tr>\n",
       "      <th>3</th>\n",
       "      <td>3</td>\n",
       "      <td>0.1001</td>\n",
       "    </tr>\n",
       "    <tr>\n",
       "      <th>5</th>\n",
       "      <td>5</td>\n",
       "      <td>0.0929</td>\n",
       "    </tr>\n",
       "    <tr>\n",
       "      <th>2</th>\n",
       "      <td>2</td>\n",
       "      <td>0.0923</td>\n",
       "    </tr>\n",
       "    <tr>\n",
       "      <th>1</th>\n",
       "      <td>1</td>\n",
       "      <td>0.0798</td>\n",
       "    </tr>\n",
       "  </tbody>\n",
       "</table>\n",
       "</div>"
      ],
      "text/plain": [
       "   feature  importance_score\n",
       "6        6            0.3426\n",
       "4        4            0.1797\n",
       "0        0            0.1126\n",
       "3        3            0.1001\n",
       "5        5            0.0929\n",
       "2        2            0.0923\n",
       "1        1            0.0798"
      ]
     },
     "execution_count": 42,
     "metadata": {},
     "output_type": "execute_result"
    }
   ],
   "source": [
    "#Finding the feature importance in the random forest classifier model. \n",
    "names = []\n",
    "scores = []\n",
    "for name, score in zip(X_valid_OH.columns,rf_clf.feature_importances_):\n",
    "    names.append(name)\n",
    "    scores.append(np.round(score,4))\n",
    "    \n",
    "score_df = pd.DataFrame({'feature':names,'importance_score':scores})\n",
    "\n",
    "score_df.sort_values('importance_score',ascending=False)"
   ]
  },
  {
   "cell_type": "code",
   "execution_count": 43,
   "metadata": {
    "scrolled": true
   },
   "outputs": [
    {
     "data": {
      "text/html": [
       "<div>\n",
       "<style scoped>\n",
       "    .dataframe tbody tr th:only-of-type {\n",
       "        vertical-align: middle;\n",
       "    }\n",
       "\n",
       "    .dataframe tbody tr th {\n",
       "        vertical-align: top;\n",
       "    }\n",
       "\n",
       "    .dataframe thead th {\n",
       "        text-align: right;\n",
       "    }\n",
       "</style>\n",
       "<table border=\"1\" class=\"dataframe\">\n",
       "  <thead>\n",
       "    <tr style=\"text-align: right;\">\n",
       "      <th></th>\n",
       "      <th>0</th>\n",
       "      <th>1</th>\n",
       "      <th>2</th>\n",
       "      <th>3</th>\n",
       "      <th>4</th>\n",
       "      <th>5</th>\n",
       "      <th>6</th>\n",
       "    </tr>\n",
       "  </thead>\n",
       "  <tbody>\n",
       "    <tr>\n",
       "      <th>355791</th>\n",
       "      <td>0.0</td>\n",
       "      <td>1.0</td>\n",
       "      <td>0.0</td>\n",
       "      <td>0.0</td>\n",
       "      <td>0.0</td>\n",
       "      <td>0.0</td>\n",
       "      <td>1.0</td>\n",
       "    </tr>\n",
       "    <tr>\n",
       "      <th>1025245</th>\n",
       "      <td>0.0</td>\n",
       "      <td>1.0</td>\n",
       "      <td>0.0</td>\n",
       "      <td>0.0</td>\n",
       "      <td>0.0</td>\n",
       "      <td>1.0</td>\n",
       "      <td>0.0</td>\n",
       "    </tr>\n",
       "    <tr>\n",
       "      <th>775418</th>\n",
       "      <td>0.0</td>\n",
       "      <td>1.0</td>\n",
       "      <td>0.0</td>\n",
       "      <td>0.0</td>\n",
       "      <td>1.0</td>\n",
       "      <td>0.0</td>\n",
       "      <td>0.0</td>\n",
       "    </tr>\n",
       "    <tr>\n",
       "      <th>1189929</th>\n",
       "      <td>1.0</td>\n",
       "      <td>0.0</td>\n",
       "      <td>0.0</td>\n",
       "      <td>1.0</td>\n",
       "      <td>0.0</td>\n",
       "      <td>0.0</td>\n",
       "      <td>0.0</td>\n",
       "    </tr>\n",
       "    <tr>\n",
       "      <th>427539</th>\n",
       "      <td>1.0</td>\n",
       "      <td>0.0</td>\n",
       "      <td>0.0</td>\n",
       "      <td>1.0</td>\n",
       "      <td>0.0</td>\n",
       "      <td>0.0</td>\n",
       "      <td>0.0</td>\n",
       "    </tr>\n",
       "    <tr>\n",
       "      <th>1048011</th>\n",
       "      <td>1.0</td>\n",
       "      <td>0.0</td>\n",
       "      <td>0.0</td>\n",
       "      <td>0.0</td>\n",
       "      <td>1.0</td>\n",
       "      <td>0.0</td>\n",
       "      <td>0.0</td>\n",
       "    </tr>\n",
       "    <tr>\n",
       "      <th>593078</th>\n",
       "      <td>0.0</td>\n",
       "      <td>1.0</td>\n",
       "      <td>0.0</td>\n",
       "      <td>0.0</td>\n",
       "      <td>0.0</td>\n",
       "      <td>0.0</td>\n",
       "      <td>1.0</td>\n",
       "    </tr>\n",
       "  </tbody>\n",
       "</table>\n",
       "</div>"
      ],
      "text/plain": [
       "           0    1    2    3    4    5    6\n",
       "355791   0.0  1.0  0.0  0.0  0.0  0.0  1.0\n",
       "1025245  0.0  1.0  0.0  0.0  0.0  1.0  0.0\n",
       "775418   0.0  1.0  0.0  0.0  1.0  0.0  0.0\n",
       "1189929  1.0  0.0  0.0  1.0  0.0  0.0  0.0\n",
       "427539   1.0  0.0  0.0  1.0  0.0  0.0  0.0\n",
       "1048011  1.0  0.0  0.0  0.0  1.0  0.0  0.0\n",
       "593078   0.0  1.0  0.0  0.0  0.0  0.0  1.0"
      ]
     },
     "execution_count": 43,
     "metadata": {},
     "output_type": "execute_result"
    }
   ],
   "source": [
    "#Viewing the validation matrix\n",
    "X_valid_OH.head(7)"
   ]
  },
  {
   "cell_type": "markdown",
   "metadata": {},
   "source": [
    "The main feature importance seems to be coming from column 6. This column was one hot encoded from the drug C column. "
   ]
  },
  {
   "cell_type": "markdown",
   "metadata": {},
   "source": [
    "#### Visual representation of the AUC score with ROC curve. \n",
    "\n",
    "- Area under the curve gives us an understanding of the AUC measurement. \n",
    "- The ROC is a probability curve and the AUC measures the ability of the model to distinguish between 0 and 1. "
   ]
  },
  {
   "cell_type": "code",
   "execution_count": 44,
   "metadata": {},
   "outputs": [],
   "source": [
    "# The first column is probability of being class 0\n",
    "# the second is probability of being class 1\n",
    "# import the function from sklearn\n",
    "from sklearn.metrics import roc_auc_score\n",
    "y_prob_pa=rf_clf.predict_proba(X_train_OH)"
   ]
  },
  {
   "cell_type": "code",
   "execution_count": 45,
   "metadata": {},
   "outputs": [
    {
     "data": {
      "text/plain": [
       "0.9228266491430455"
      ]
     },
     "execution_count": 45,
     "metadata": {},
     "output_type": "execute_result"
    }
   ],
   "source": [
    "# put in the true classes along with the \n",
    "# probability scores.\n",
    "roc_auc_score(y_train,y_prob_pa[:, 1])"
   ]
  },
  {
   "cell_type": "code",
   "execution_count": 46,
   "metadata": {},
   "outputs": [],
   "source": [
    "# import the roc function from sklearn\n",
    "from sklearn.metrics import roc_curve\n",
    "\n",
    "# calculate fpr and tpr\n",
    "# you put in the training data\n",
    "# and the predicted probabilites\n",
    "# it returns the fpr, tpr, and corresponding\n",
    "# cutoffs\n",
    "fpr_pa, tpr_pa, cutoffs_pa = roc_curve(y_train,y_prob_pa[:,1])"
   ]
  },
  {
   "cell_type": "code",
   "execution_count": 47,
   "metadata": {},
   "outputs": [
    {
     "data": {
      "text/plain": [
       "Text(0, 0.5, 'True Positive Rate')"
      ]
     },
     "execution_count": 47,
     "metadata": {},
     "output_type": "execute_result"
    },
    {
     "data": {
      "image/png": "[encoded data removed]",
      "text/plain": [
       "<Figure size 576x576 with 1 Axes>"
      ]
     },
     "metadata": {
      "needs_background": "light"
     },
     "output_type": "display_data"
    }
   ],
   "source": [
    "# plot the roc curve\n",
    "plt.figure(figsize=(8,8))\n",
    "\n",
    "# plot the curve\n",
    "plt.plot(fpr_pa,tpr_pa,linewidth=2)\n",
    "\n",
    "# plot what you'd get with random guessing\n",
    "plt.plot([0,1],[0,1],'k--')\n",
    "\n",
    "plt.axis([-0.1,1,0,1.1])\n",
    "\n",
    "plt.xlabel(\"False Positive Rate\",fontsize=16)\n",
    "plt.ylabel(\"True Positive Rate\",fontsize=16)\n",
    "\n",
    "#Note: True Positive Rate is the same thing as sensitivity (i.e. recall)\n",
    "#False positive rate is 1-specificity"
   ]
  },
  {
   "cell_type": "markdown",
   "metadata": {},
   "source": [
    "### Convert validation information and prediction to a CSV "
   ]
  },
  {
   "cell_type": "code",
   "execution_count": 48,
   "metadata": {},
   "outputs": [],
   "source": [
    "y_pred_pa=rf_clf.predict(X_valid_OH)"
   ]
  },
  {
   "cell_type": "code",
   "execution_count": 49,
   "metadata": {},
   "outputs": [],
   "source": [
    "#Let's now convert this information into a csv for viewing.\n",
    "X_val_2['model_pa_claim_predictions']=y_pred_pa\n",
    "pd.DataFrame(X_val_2).to_csv(\"pa_pharmacy_claim_predictions.csv\", index = None)"
   ]
  },
  {
   "cell_type": "code",
   "execution_count": 50,
   "metadata": {},
   "outputs": [
    {
     "data": {
      "text/html": [
       "<div>\n",
       "<style scoped>\n",
       "    .dataframe tbody tr th:only-of-type {\n",
       "        vertical-align: middle;\n",
       "    }\n",
       "\n",
       "    .dataframe tbody tr th {\n",
       "        vertical-align: top;\n",
       "    }\n",
       "\n",
       "    .dataframe thead th {\n",
       "        text-align: right;\n",
       "    }\n",
       "</style>\n",
       "<table border=\"1\" class=\"dataframe\">\n",
       "  <thead>\n",
       "    <tr style=\"text-align: right;\">\n",
       "      <th></th>\n",
       "      <th>dim_claim_id</th>\n",
       "      <th>bin</th>\n",
       "      <th>drug</th>\n",
       "      <th>model_pa_claim_predictions</th>\n",
       "    </tr>\n",
       "  </thead>\n",
       "  <tbody>\n",
       "    <tr>\n",
       "      <th>0</th>\n",
       "      <td>355792</td>\n",
       "      <td>999001</td>\n",
       "      <td>B</td>\n",
       "      <td>1</td>\n",
       "    </tr>\n",
       "    <tr>\n",
       "      <th>1</th>\n",
       "      <td>1025246</td>\n",
       "      <td>417740</td>\n",
       "      <td>B</td>\n",
       "      <td>0</td>\n",
       "    </tr>\n",
       "    <tr>\n",
       "      <th>2</th>\n",
       "      <td>775419</td>\n",
       "      <td>417614</td>\n",
       "      <td>B</td>\n",
       "      <td>0</td>\n",
       "    </tr>\n",
       "    <tr>\n",
       "      <th>3</th>\n",
       "      <td>1189930</td>\n",
       "      <td>417380</td>\n",
       "      <td>A</td>\n",
       "      <td>0</td>\n",
       "    </tr>\n",
       "    <tr>\n",
       "      <th>4</th>\n",
       "      <td>427540</td>\n",
       "      <td>417380</td>\n",
       "      <td>A</td>\n",
       "      <td>0</td>\n",
       "    </tr>\n",
       "    <tr>\n",
       "      <th>...</th>\n",
       "      <td>...</td>\n",
       "      <td>...</td>\n",
       "      <td>...</td>\n",
       "      <td>...</td>\n",
       "    </tr>\n",
       "    <tr>\n",
       "      <th>400668</th>\n",
       "      <td>844656</td>\n",
       "      <td>417614</td>\n",
       "      <td>C</td>\n",
       "      <td>1</td>\n",
       "    </tr>\n",
       "    <tr>\n",
       "      <th>400669</th>\n",
       "      <td>320320</td>\n",
       "      <td>417380</td>\n",
       "      <td>C</td>\n",
       "      <td>0</td>\n",
       "    </tr>\n",
       "    <tr>\n",
       "      <th>400670</th>\n",
       "      <td>1325922</td>\n",
       "      <td>417614</td>\n",
       "      <td>A</td>\n",
       "      <td>0</td>\n",
       "    </tr>\n",
       "    <tr>\n",
       "      <th>400671</th>\n",
       "      <td>1255262</td>\n",
       "      <td>999001</td>\n",
       "      <td>A</td>\n",
       "      <td>1</td>\n",
       "    </tr>\n",
       "    <tr>\n",
       "      <th>400672</th>\n",
       "      <td>580903</td>\n",
       "      <td>999001</td>\n",
       "      <td>A</td>\n",
       "      <td>1</td>\n",
       "    </tr>\n",
       "  </tbody>\n",
       "</table>\n",
       "<p>400673 rows × 4 columns</p>\n",
       "</div>"
      ],
      "text/plain": [
       "        dim_claim_id     bin drug  model_pa_claim_predictions\n",
       "0             355792  999001    B                           1\n",
       "1            1025246  417740    B                           0\n",
       "2             775419  417614    B                           0\n",
       "3            1189930  417380    A                           0\n",
       "4             427540  417380    A                           0\n",
       "...              ...     ...  ...                         ...\n",
       "400668        844656  417614    C                           1\n",
       "400669        320320  417380    C                           0\n",
       "400670       1325922  417614    A                           0\n",
       "400671       1255262  999001    A                           1\n",
       "400672        580903  999001    A                           1\n",
       "\n",
       "[400673 rows x 4 columns]"
      ]
     },
     "execution_count": 50,
     "metadata": {},
     "output_type": "execute_result"
    }
   ],
   "source": [
    "#See the prediction for the specific prior authorization patient. \n",
    "pd.read_csv('pa_pharmacy_claim_predictions.csv')"
   ]
  },
  {
   "cell_type": "markdown",
   "metadata": {},
   "source": [
    "# Part 2: Prior Authorization Approval  \n",
    "\n",
    "Topics we investigate: \n",
    "\n",
    "- Analyzing which factors tend to influence whether PAs are likely to be approved or denied.\n",
    "- Predicting whether a prior authorization is likely to be approved based on data contained on the PA such as correct diagnosis, has already tried and failed a generic drug alternative, has health-related reasons not to take certain medications (contraindications), and claims data. \n",
    "\n"
   ]
  },
  {
   "cell_type": "code",
   "execution_count": 51,
   "metadata": {
    "scrolled": false
   },
   "outputs": [
    {
     "data": {
      "text/html": [
       "<div>\n",
       "<style scoped>\n",
       "    .dataframe tbody tr th:only-of-type {\n",
       "        vertical-align: middle;\n",
       "    }\n",
       "\n",
       "    .dataframe tbody tr th {\n",
       "        vertical-align: top;\n",
       "    }\n",
       "\n",
       "    .dataframe thead th {\n",
       "        text-align: right;\n",
       "    }\n",
       "</style>\n",
       "<table border=\"1\" class=\"dataframe\">\n",
       "  <thead>\n",
       "    <tr style=\"text-align: right;\">\n",
       "      <th></th>\n",
       "      <th>dim_pa_id</th>\n",
       "      <th>correct_diagnosis</th>\n",
       "      <th>tried_and_failed</th>\n",
       "      <th>contraindication</th>\n",
       "      <th>pa_approved</th>\n",
       "    </tr>\n",
       "  </thead>\n",
       "  <tbody>\n",
       "    <tr>\n",
       "      <th>0</th>\n",
       "      <td>1</td>\n",
       "      <td>1</td>\n",
       "      <td>1</td>\n",
       "      <td>0</td>\n",
       "      <td>1</td>\n",
       "    </tr>\n",
       "    <tr>\n",
       "      <th>1</th>\n",
       "      <td>2</td>\n",
       "      <td>1</td>\n",
       "      <td>0</td>\n",
       "      <td>0</td>\n",
       "      <td>1</td>\n",
       "    </tr>\n",
       "    <tr>\n",
       "      <th>2</th>\n",
       "      <td>3</td>\n",
       "      <td>0</td>\n",
       "      <td>0</td>\n",
       "      <td>1</td>\n",
       "      <td>1</td>\n",
       "    </tr>\n",
       "    <tr>\n",
       "      <th>3</th>\n",
       "      <td>4</td>\n",
       "      <td>1</td>\n",
       "      <td>1</td>\n",
       "      <td>0</td>\n",
       "      <td>1</td>\n",
       "    </tr>\n",
       "    <tr>\n",
       "      <th>4</th>\n",
       "      <td>5</td>\n",
       "      <td>0</td>\n",
       "      <td>1</td>\n",
       "      <td>0</td>\n",
       "      <td>1</td>\n",
       "    </tr>\n",
       "    <tr>\n",
       "      <th>...</th>\n",
       "      <td>...</td>\n",
       "      <td>...</td>\n",
       "      <td>...</td>\n",
       "      <td>...</td>\n",
       "      <td>...</td>\n",
       "    </tr>\n",
       "    <tr>\n",
       "      <th>555946</th>\n",
       "      <td>555947</td>\n",
       "      <td>1</td>\n",
       "      <td>0</td>\n",
       "      <td>1</td>\n",
       "      <td>0</td>\n",
       "    </tr>\n",
       "    <tr>\n",
       "      <th>555947</th>\n",
       "      <td>555948</td>\n",
       "      <td>1</td>\n",
       "      <td>0</td>\n",
       "      <td>1</td>\n",
       "      <td>1</td>\n",
       "    </tr>\n",
       "    <tr>\n",
       "      <th>555948</th>\n",
       "      <td>555949</td>\n",
       "      <td>1</td>\n",
       "      <td>1</td>\n",
       "      <td>1</td>\n",
       "      <td>1</td>\n",
       "    </tr>\n",
       "    <tr>\n",
       "      <th>555949</th>\n",
       "      <td>555950</td>\n",
       "      <td>1</td>\n",
       "      <td>0</td>\n",
       "      <td>0</td>\n",
       "      <td>1</td>\n",
       "    </tr>\n",
       "    <tr>\n",
       "      <th>555950</th>\n",
       "      <td>555951</td>\n",
       "      <td>0</td>\n",
       "      <td>0</td>\n",
       "      <td>1</td>\n",
       "      <td>0</td>\n",
       "    </tr>\n",
       "  </tbody>\n",
       "</table>\n",
       "<p>555951 rows × 5 columns</p>\n",
       "</div>"
      ],
      "text/plain": [
       "        dim_pa_id  correct_diagnosis  tried_and_failed  contraindication  \\\n",
       "0               1                  1                 1                 0   \n",
       "1               2                  1                 0                 0   \n",
       "2               3                  0                 0                 1   \n",
       "3               4                  1                 1                 0   \n",
       "4               5                  0                 1                 0   \n",
       "...           ...                ...               ...               ...   \n",
       "555946     555947                  1                 0                 1   \n",
       "555947     555948                  1                 0                 1   \n",
       "555948     555949                  1                 1                 1   \n",
       "555949     555950                  1                 0                 0   \n",
       "555950     555951                  0                 0                 1   \n",
       "\n",
       "        pa_approved  \n",
       "0                 1  \n",
       "1                 1  \n",
       "2                 1  \n",
       "3                 1  \n",
       "4                 1  \n",
       "...             ...  \n",
       "555946            0  \n",
       "555947            1  \n",
       "555948            1  \n",
       "555949            1  \n",
       "555950            0  \n",
       "\n",
       "[555951 rows x 5 columns]"
      ]
     },
     "execution_count": 51,
     "metadata": {},
     "output_type": "execute_result"
    }
   ],
   "source": [
    "#Gathering the dim_pa.csv file \n",
    "#This is a table containing pharmacy claim-level information.\n",
    "\n",
    "dim_pa_filepath='/Users/andrewcastillo/Desktop/jupyter_notebook_work/covermymeds_intern_project/data/dim_pa.csv'\n",
    "dim_pa_df=pd.read_csv(dim_pa_filepath)\n",
    "dim_pa_df"
   ]
  },
  {
   "cell_type": "markdown",
   "metadata": {},
   "source": [
    "## dim_pa_df column key\n",
    "\n",
    "pa_approved\n",
    "- 1: PA approved by payer \n",
    "- 0:PA not approved by payer\n",
    "\n",
    "correct_diagnosis \n",
    "- 1:Care provider indicated that patient has the correct diagnosis for the associated drug \n",
    "- 0:Care provider did not indicate that patient has the correct diagnosis for the associated drug\n",
    "\n",
    "tried_and_failed\n",
    "- 1:Care provider indicated that patient has tried and failed generic drug alternatives \n",
    "- 0:Care provider indicated that patient has not tried and failed generic drug alternatives \n",
    "\n",
    "contraindication (def=health-related reasons not to take certain medications)\n",
    "- 1: Information provided by the care provider indicating that the patient has an associated contraindication for the medication requested.  \n",
    "- 0: Information provided by the care provider indicating that the patient does not have an associated contraindication for the medication requested. "
   ]
  },
  {
   "cell_type": "markdown",
   "metadata": {},
   "source": [
    "### Exploratory Data Analysis (EDA)\n",
    "\n",
    "- The EDA was performed only on the data contained on the prior authorization. "
   ]
  },
  {
   "cell_type": "code",
   "execution_count": 52,
   "metadata": {
    "scrolled": false
   },
   "outputs": [
    {
     "name": "stdout",
     "output_type": "stream",
     "text": [
      "<class 'pandas.core.frame.DataFrame'>\n",
      "RangeIndex: 555951 entries, 0 to 555950\n",
      "Data columns (total 5 columns):\n",
      " #   Column             Non-Null Count   Dtype\n",
      "---  ------             --------------   -----\n",
      " 0   dim_pa_id          555951 non-null  int64\n",
      " 1   correct_diagnosis  555951 non-null  int64\n",
      " 2   tried_and_failed   555951 non-null  int64\n",
      " 3   contraindication   555951 non-null  int64\n",
      " 4   pa_approved        555951 non-null  int64\n",
      "dtypes: int64(5)\n",
      "memory usage: 21.2 MB\n"
     ]
    }
   ],
   "source": [
    "#Checking the data frame to see data types and if there are any missing values. \n",
    "dim_pa_df.info()"
   ]
  },
  {
   "cell_type": "code",
   "execution_count": 53,
   "metadata": {},
   "outputs": [
    {
     "data": {
      "text/plain": [
       "dim_pa_id            0\n",
       "correct_diagnosis    0\n",
       "tried_and_failed     0\n",
       "contraindication     0\n",
       "pa_approved          0\n",
       "dtype: int64"
      ]
     },
     "execution_count": 53,
     "metadata": {},
     "output_type": "execute_result"
    }
   ],
   "source": [
    "#Double checking to see if there are any missing values. \n",
    "dim_pa_df.isnull().sum()"
   ]
  },
  {
   "cell_type": "markdown",
   "metadata": {},
   "source": [
    "#### Question: What is the relationship between the correct diagnosis, tried and failed, and contraindication and the prior authorization being approved? "
   ]
  },
  {
   "cell_type": "code",
   "execution_count": 54,
   "metadata": {
    "scrolled": true
   },
   "outputs": [
    {
     "data": {
      "image/png": "[encoded data removed]",
      "text/plain": [
       "<Figure size 1152x720 with 4 Axes>"
      ]
     },
     "metadata": {
      "needs_background": "light"
     },
     "output_type": "display_data"
    }
   ],
   "source": [
    "#Make count plots to see how which bins, drugs, reject codes appeared the most\n",
    "fig, ax =plt.subplots(2,2, figsize=(16,10))\n",
    "sns.countplot(x='correct_diagnosis', data=dim_pa_df, hue='pa_approved', ax=ax[0,0])\n",
    "sns.countplot(x='tried_and_failed', data=dim_pa_df, hue='pa_approved', ax=ax[0,1])\n",
    "sns.countplot(x='contraindication', data=dim_pa_df, hue='pa_approved', ax=ax[1,0])\n",
    "plt.show()"
   ]
  },
  {
   "cell_type": "markdown",
   "metadata": {},
   "source": [
    "Conclusion: \n",
    "\n",
    "- From looking at the relative plots, if the patient has the correct diagnosis, the prior authorization was more than likely to be approved. \n",
    "- Whether you tried and failed a generic alternative it was about even for a prior authorization to be approved. \n",
    "- If there is no contraindication (health-related reason to not take the requested medication), the prior authorization is more than likely to be approved. In other words, if the patient has a health related reason to not take the requested medication (indicated by the payer), the prior authorization would more than likely not be approved. "
   ]
  },
  {
   "cell_type": "markdown",
   "metadata": {},
   "source": [
    "#### Question: Of the people who have or have not tried and failed a generic alternative, how many of them had contraindications or a correct diagnosis and got their PA approved? \n",
    "- This may help us better understand why the prior authorization acceptance seems balanced for the tried and failed column.  In particular, this will help us analyze which factors tend to influence whether PAs are likely to be approved or denied."
   ]
  },
  {
   "cell_type": "code",
   "execution_count": 55,
   "metadata": {},
   "outputs": [],
   "source": [
    "#Try and gather a better understanding of the people who tried and failed. Was there a relationship between them \n",
    "#the contraindication as well as correct_diagonsis. \n",
    "df_tf0=dim_pa_df[dim_pa_df.tried_and_failed==0][['correct_diagnosis', 'pa_approved']]\n",
    "df_tf1=dim_pa_df[dim_pa_df.tried_and_failed==1][['correct_diagnosis', 'pa_approved']]\n",
    "df_tf2=dim_pa_df[dim_pa_df.tried_and_failed==0][['contraindication', 'pa_approved']]\n",
    "df_tf3=dim_pa_df[dim_pa_df.tried_and_failed==1][['contraindication', 'pa_approved']]"
   ]
  },
  {
   "cell_type": "code",
   "execution_count": 56,
   "metadata": {
    "scrolled": false
   },
   "outputs": [
    {
     "data": {
      "image/png": "[encoded data removed]",
      "text/plain": [
       "<Figure size 1152x720 with 4 Axes>"
      ]
     },
     "metadata": {
      "needs_background": "light"
     },
     "output_type": "display_data"
    }
   ],
   "source": [
    "#Plot the count plots \n",
    "fig, ax =plt.subplots(2,2, figsize=(16,10))\n",
    "sns.countplot(x='correct_diagnosis', data=df_tf0, hue='pa_approved', ax=ax[0,0])\n",
    "ax[0, 0].set_title('Has not T&F generic alts' )\n",
    "sns.countplot(x='correct_diagnosis', data=df_tf1, hue='pa_approved', ax=ax[0,1])\n",
    "ax[0, 1].set_title('Has T&F generic alts')\n",
    "sns.countplot(x='contraindication', data=df_tf2, hue='pa_approved', ax=ax[1,0])\n",
    "ax[1, 0].set_title('Has not T&F generic alts' )\n",
    "sns.countplot(x='contraindication', data=df_tf3, hue='pa_approved', ax=ax[1,1])\n",
    "plt.title('Has T&F generic alts')\n",
    "plt.savefig('factors_influence_pas.jpg')\n",
    "plt.show()"
   ]
  },
  {
   "cell_type": "markdown",
   "metadata": {},
   "source": [
    "Observations on these countplots:  \n",
    "\n",
    "- From these visualizations, it seems that whether or not a patient has tried and failed generic drug alternatives, it looks like if they had the correct diagnosis, the prior authorization was more than likely to be approved. \n",
    "\n",
    "- Moreover, whether or not a patient has tried and failed generic drug alternatives, if the patient did not have a health related reason to not take the requested medication (non contraindication), the prior authorization was more than likely approved. "
   ]
  },
  {
   "cell_type": "markdown",
   "metadata": {},
   "source": [
    "#### Question: Did the correct diagnosis and/or contraindication have more of an influence on the PA approval? "
   ]
  },
  {
   "cell_type": "markdown",
   "metadata": {},
   "source": [
    "### Use pivot tables to analyze which of these two observations (potentially both) are correct. "
   ]
  },
  {
   "cell_type": "code",
   "execution_count": 57,
   "metadata": {
    "scrolled": false
   },
   "outputs": [
    {
     "data": {
      "text/html": [
       "<div>\n",
       "<style scoped>\n",
       "    .dataframe tbody tr th:only-of-type {\n",
       "        vertical-align: middle;\n",
       "    }\n",
       "\n",
       "    .dataframe tbody tr th {\n",
       "        vertical-align: top;\n",
       "    }\n",
       "\n",
       "    .dataframe thead th {\n",
       "        text-align: right;\n",
       "    }\n",
       "</style>\n",
       "<table border=\"1\" class=\"dataframe\">\n",
       "  <thead>\n",
       "    <tr style=\"text-align: right;\">\n",
       "      <th></th>\n",
       "      <th></th>\n",
       "      <th>pa_approved</th>\n",
       "    </tr>\n",
       "    <tr>\n",
       "      <th>correct_diagnosis</th>\n",
       "      <th>contraindication</th>\n",
       "      <th></th>\n",
       "    </tr>\n",
       "  </thead>\n",
       "  <tbody>\n",
       "    <tr>\n",
       "      <th rowspan=\"2\" valign=\"top\">0</th>\n",
       "      <th>0</th>\n",
       "      <td>30853</td>\n",
       "    </tr>\n",
       "    <tr>\n",
       "      <th>1</th>\n",
       "      <td>4968</td>\n",
       "    </tr>\n",
       "    <tr>\n",
       "      <th rowspan=\"2\" valign=\"top\">1</th>\n",
       "      <th>0</th>\n",
       "      <td>131135</td>\n",
       "    </tr>\n",
       "    <tr>\n",
       "      <th>1</th>\n",
       "      <td>21488</td>\n",
       "    </tr>\n",
       "  </tbody>\n",
       "</table>\n",
       "</div>"
      ],
      "text/plain": [
       "                                    pa_approved\n",
       "correct_diagnosis contraindication             \n",
       "0                 0                       30853\n",
       "                  1                        4968\n",
       "1                 0                      131135\n",
       "                  1                       21488"
      ]
     },
     "execution_count": 57,
     "metadata": {},
     "output_type": "execute_result"
    }
   ],
   "source": [
    "#Pivot table combining all the information for correct_diagnosis, contraindication, and \n",
    "#have not tried and failed a generic drug alternative \n",
    "df_tf01=dim_pa_df[dim_pa_df.tried_and_failed==0][['correct_diagnosis','contraindication','pa_approved']]\n",
    "pivot_tf01 = pd.pivot_table(data=df_tf01, index=['correct_diagnosis', 'contraindication'], values=['pa_approved'], aggfunc='sum')\n",
    "pivot_tf01"
   ]
  },
  {
   "cell_type": "code",
   "execution_count": 101,
   "metadata": {
    "scrolled": true
   },
   "outputs": [
    {
     "data": {
      "text/plain": [
       "1    188444\n",
       "0     89109\n",
       "Name: pa_approved, dtype: int64"
      ]
     },
     "execution_count": 101,
     "metadata": {},
     "output_type": "execute_result"
    }
   ],
   "source": [
    "#Checking that we have the correct number of pa approvals for those who have not\n",
    "#tried and failed generic alternatives. \n",
    "dim_pa_df[dim_pa_df.tried_and_failed==0]['pa_approved'].value_counts()"
   ]
  },
  {
   "cell_type": "markdown",
   "metadata": {},
   "source": [
    "From this pivot table we can conclude that from those patients that did not try and fail generic drug alternatives: \n",
    "- 30,853 PA approvals were given to those patients who did not have a correct diagnosis and no contraindication for the requested medication. \n",
    "- 4,968 PA approvals were given to those patients who did not have a correct diagnosis and a contraindication for the requested medication. \n",
    "- 131,135 PA approvals were given to those patients who did have the correct diagnosis and no contraindication for the requested medication. \n",
    "- 21,488 PA approvals were given to those patients who did have the correct diagnosis and a contraindication for the requested medication."
   ]
  },
  {
   "cell_type": "code",
   "execution_count": 59,
   "metadata": {
    "scrolled": false
   },
   "outputs": [
    {
     "data": {
      "text/html": [
       "<div>\n",
       "<style scoped>\n",
       "    .dataframe tbody tr th:only-of-type {\n",
       "        vertical-align: middle;\n",
       "    }\n",
       "\n",
       "    .dataframe tbody tr th {\n",
       "        vertical-align: top;\n",
       "    }\n",
       "\n",
       "    .dataframe thead th {\n",
       "        text-align: right;\n",
       "    }\n",
       "</style>\n",
       "<table border=\"1\" class=\"dataframe\">\n",
       "  <thead>\n",
       "    <tr style=\"text-align: right;\">\n",
       "      <th></th>\n",
       "      <th></th>\n",
       "      <th>pa_approved</th>\n",
       "    </tr>\n",
       "    <tr>\n",
       "      <th>correct_diagnosis</th>\n",
       "      <th>contraindication</th>\n",
       "      <th></th>\n",
       "    </tr>\n",
       "  </thead>\n",
       "  <tbody>\n",
       "    <tr>\n",
       "      <th rowspan=\"2\" valign=\"top\">0</th>\n",
       "      <th>0</th>\n",
       "      <td>36091</td>\n",
       "    </tr>\n",
       "    <tr>\n",
       "      <th>1</th>\n",
       "      <td>6300</td>\n",
       "    </tr>\n",
       "    <tr>\n",
       "      <th rowspan=\"2\" valign=\"top\">1</th>\n",
       "      <th>0</th>\n",
       "      <td>150210</td>\n",
       "    </tr>\n",
       "    <tr>\n",
       "      <th>1</th>\n",
       "      <td>27274</td>\n",
       "    </tr>\n",
       "  </tbody>\n",
       "</table>\n",
       "</div>"
      ],
      "text/plain": [
       "                                    pa_approved\n",
       "correct_diagnosis contraindication             \n",
       "0                 0                       36091\n",
       "                  1                        6300\n",
       "1                 0                      150210\n",
       "                  1                       27274"
      ]
     },
     "execution_count": 59,
     "metadata": {},
     "output_type": "execute_result"
    }
   ],
   "source": [
    "#Pivot table combining all the information for correct_diagnosis, contraindication, and have \n",
    "#tried and failed a generic drug alternative \n",
    "df_tf11=dim_pa_df[dim_pa_df.tried_and_failed==1][['correct_diagnosis','contraindication','pa_approved']]\n",
    "pivot_tf11 = pd.pivot_table(data=df_tf11, index=['correct_diagnosis', 'contraindication'], values=['pa_approved'], aggfunc='sum')\n",
    "pivot_tf11"
   ]
  },
  {
   "cell_type": "code",
   "execution_count": 102,
   "metadata": {
    "scrolled": false
   },
   "outputs": [
    {
     "data": {
      "text/plain": [
       "1    219875\n",
       "0     58523\n",
       "Name: pa_approved, dtype: int64"
      ]
     },
     "execution_count": 102,
     "metadata": {},
     "output_type": "execute_result"
    }
   ],
   "source": [
    "#Checking that we have the correct number of pa approvals for those who have tried and \n",
    "#failed generic alternatives.\n",
    "dim_pa_df[dim_pa_df.tried_and_failed==1]['pa_approved'].value_counts()"
   ]
  },
  {
   "cell_type": "markdown",
   "metadata": {},
   "source": [
    "From this pivot table we can conclude that from those patients that did try and fail generic drug alternatives: \n",
    "- 36,091 PA approvals were given to those patients who did not have a correct diagnosis and no contraindication for the requested medication. \n",
    "- 6,300 PA approvals were given to those patients who did not have a correct diagnosis and a contraindication for the requested medication. \n",
    "- 150,210 PA approvals were given to those patients who did have the correct diagnosis and no contraindication for the requested medication. \n",
    "- 27274 PA approvals were given to those patients who did have the correct diagnosis and a contraindication for the requested medication"
   ]
  },
  {
   "cell_type": "markdown",
   "metadata": {},
   "source": [
    "### Using a heat map to find some potential correlation between the features and the approved prior authorization. "
   ]
  },
  {
   "cell_type": "code",
   "execution_count": 99,
   "metadata": {},
   "outputs": [
    {
     "data": {
      "text/html": [
       "<div>\n",
       "<style scoped>\n",
       "    .dataframe tbody tr th:only-of-type {\n",
       "        vertical-align: middle;\n",
       "    }\n",
       "\n",
       "    .dataframe tbody tr th {\n",
       "        vertical-align: top;\n",
       "    }\n",
       "\n",
       "    .dataframe thead th {\n",
       "        text-align: right;\n",
       "    }\n",
       "</style>\n",
       "<table border=\"1\" class=\"dataframe\">\n",
       "  <thead>\n",
       "    <tr style=\"text-align: right;\">\n",
       "      <th></th>\n",
       "      <th>correct_diagnosis</th>\n",
       "      <th>tried_and_failed</th>\n",
       "      <th>contraindication</th>\n",
       "      <th>pa_approved</th>\n",
       "    </tr>\n",
       "  </thead>\n",
       "  <tbody>\n",
       "    <tr>\n",
       "      <th>correct_diagnosis</th>\n",
       "      <td>1.000000</td>\n",
       "      <td>0.000531</td>\n",
       "      <td>-0.000747</td>\n",
       "      <td>0.035889</td>\n",
       "    </tr>\n",
       "    <tr>\n",
       "      <th>tried_and_failed</th>\n",
       "      <td>0.000531</td>\n",
       "      <td>1.000000</td>\n",
       "      <td>0.000307</td>\n",
       "      <td>0.125490</td>\n",
       "    </tr>\n",
       "    <tr>\n",
       "      <th>contraindication</th>\n",
       "      <td>-0.000747</td>\n",
       "      <td>0.000307</td>\n",
       "      <td>1.000000</td>\n",
       "      <td>-0.223283</td>\n",
       "    </tr>\n",
       "    <tr>\n",
       "      <th>pa_approved</th>\n",
       "      <td>0.035889</td>\n",
       "      <td>0.125490</td>\n",
       "      <td>-0.223283</td>\n",
       "      <td>1.000000</td>\n",
       "    </tr>\n",
       "  </tbody>\n",
       "</table>\n",
       "</div>"
      ],
      "text/plain": [
       "                   correct_diagnosis  tried_and_failed  contraindication  \\\n",
       "correct_diagnosis           1.000000          0.000531         -0.000747   \n",
       "tried_and_failed            0.000531          1.000000          0.000307   \n",
       "contraindication           -0.000747          0.000307          1.000000   \n",
       "pa_approved                 0.035889          0.125490         -0.223283   \n",
       "\n",
       "                   pa_approved  \n",
       "correct_diagnosis     0.035889  \n",
       "tried_and_failed      0.125490  \n",
       "contraindication     -0.223283  \n",
       "pa_approved           1.000000  "
      ]
     },
     "execution_count": 99,
     "metadata": {},
     "output_type": "execute_result"
    }
   ],
   "source": [
    "#Correlation matrix to see the relationship between the predicting features and the pa_approved column. \n",
    "df_pa=dim_pa_df.drop('dim_pa_id', axis=1)\n",
    "df_pa.corr()"
   ]
  },
  {
   "cell_type": "code",
   "execution_count": 100,
   "metadata": {
    "scrolled": true
   },
   "outputs": [
    {
     "data": {
      "image/png": "[encoded data removed]",
      "text/plain": [
       "<Figure size 864x720 with 2 Axes>"
      ]
     },
     "metadata": {
      "needs_background": "light"
     },
     "output_type": "display_data"
    }
   ],
   "source": [
    "plt.figure(figsize=(12,10))\n",
    "cmap=sns.color_palette(\"crest\", as_cmap=True)\n",
    "sns.heatmap(df_pa.corr(), annot=True, fmt = \".2f\", linewidth=0.5, cmap=cmap)\n",
    "plt.show()"
   ]
  },
  {
   "cell_type": "markdown",
   "metadata": {},
   "source": [
    "- It looks like the strongest relationship is between the tried_and_failed as well as contraindication features and the prior authorization being approved. \n",
    "- There does not seem to be much correlation between the correct_diagnosis and pa_approved column."
   ]
  },
  {
   "cell_type": "markdown",
   "metadata": {},
   "source": [
    "#### Conclusion on which factors tend to influence the approval of a prior authorization (at this point based on prior authorization data): \n",
    "- Due to the data visualizations (count plots) as well as the pivot tables, one can potentially deduce that having the correct diagnosis and/or not having a contraindication for the requested medication will more than likely will result in an approved prior authorization. \n",
    "- When examining the heat map, it's plausible that the contraindication will have more of an influence on the prior authorization approval. This is further validated when examining the feature importance of the random forest model in the next section. "
   ]
  },
  {
   "cell_type": "markdown",
   "metadata": {},
   "source": [
    "### Modeling Phase : Predicting whether a PA is going to be approved or not. "
   ]
  },
  {
   "cell_type": "markdown",
   "metadata": {},
   "source": [
    "Before we begin to construct our model, we need to combine the data frames dim_pa_df as well as dim_claims_df. This is because the prior authorization is approved or denied based on claims data as well as information appearing on the PA (correct diagnosis, tried and failed generic alternatives, and contraindication). "
   ]
  },
  {
   "cell_type": "code",
   "execution_count": 67,
   "metadata": {
    "scrolled": true
   },
   "outputs": [
    {
     "data": {
      "text/html": [
       "<div>\n",
       "<style scoped>\n",
       "    .dataframe tbody tr th:only-of-type {\n",
       "        vertical-align: middle;\n",
       "    }\n",
       "\n",
       "    .dataframe tbody tr th {\n",
       "        vertical-align: top;\n",
       "    }\n",
       "\n",
       "    .dataframe thead th {\n",
       "        text-align: right;\n",
       "    }\n",
       "</style>\n",
       "<table border=\"1\" class=\"dataframe\">\n",
       "  <thead>\n",
       "    <tr style=\"text-align: right;\">\n",
       "      <th></th>\n",
       "      <th>dim_pa_id</th>\n",
       "      <th>correct_diagnosis</th>\n",
       "      <th>tried_and_failed</th>\n",
       "      <th>contraindication</th>\n",
       "      <th>pa_approved</th>\n",
       "    </tr>\n",
       "  </thead>\n",
       "  <tbody>\n",
       "    <tr>\n",
       "      <th>0</th>\n",
       "      <td>1</td>\n",
       "      <td>1</td>\n",
       "      <td>1</td>\n",
       "      <td>0</td>\n",
       "      <td>1</td>\n",
       "    </tr>\n",
       "    <tr>\n",
       "      <th>1</th>\n",
       "      <td>2</td>\n",
       "      <td>1</td>\n",
       "      <td>0</td>\n",
       "      <td>0</td>\n",
       "      <td>1</td>\n",
       "    </tr>\n",
       "    <tr>\n",
       "      <th>2</th>\n",
       "      <td>3</td>\n",
       "      <td>0</td>\n",
       "      <td>0</td>\n",
       "      <td>1</td>\n",
       "      <td>1</td>\n",
       "    </tr>\n",
       "    <tr>\n",
       "      <th>3</th>\n",
       "      <td>4</td>\n",
       "      <td>1</td>\n",
       "      <td>1</td>\n",
       "      <td>0</td>\n",
       "      <td>1</td>\n",
       "    </tr>\n",
       "    <tr>\n",
       "      <th>4</th>\n",
       "      <td>5</td>\n",
       "      <td>0</td>\n",
       "      <td>1</td>\n",
       "      <td>0</td>\n",
       "      <td>1</td>\n",
       "    </tr>\n",
       "    <tr>\n",
       "      <th>5</th>\n",
       "      <td>6</td>\n",
       "      <td>1</td>\n",
       "      <td>1</td>\n",
       "      <td>0</td>\n",
       "      <td>1</td>\n",
       "    </tr>\n",
       "    <tr>\n",
       "      <th>6</th>\n",
       "      <td>7</td>\n",
       "      <td>0</td>\n",
       "      <td>1</td>\n",
       "      <td>0</td>\n",
       "      <td>1</td>\n",
       "    </tr>\n",
       "  </tbody>\n",
       "</table>\n",
       "</div>"
      ],
      "text/plain": [
       "   dim_pa_id  correct_diagnosis  tried_and_failed  contraindication  \\\n",
       "0          1                  1                 1                 0   \n",
       "1          2                  1                 0                 0   \n",
       "2          3                  0                 0                 1   \n",
       "3          4                  1                 1                 0   \n",
       "4          5                  0                 1                 0   \n",
       "5          6                  1                 1                 0   \n",
       "6          7                  0                 1                 0   \n",
       "\n",
       "   pa_approved  \n",
       "0            1  \n",
       "1            1  \n",
       "2            1  \n",
       "3            1  \n",
       "4            1  \n",
       "5            1  \n",
       "6            1  "
      ]
     },
     "execution_count": 67,
     "metadata": {},
     "output_type": "execute_result"
    }
   ],
   "source": [
    "#Reprinting information on the dim_pa_df\n",
    "dim_pa_df.head(7)"
   ]
  },
  {
   "cell_type": "code",
   "execution_count": 68,
   "metadata": {
    "scrolled": true
   },
   "outputs": [
    {
     "data": {
      "text/html": [
       "<div>\n",
       "<style scoped>\n",
       "    .dataframe tbody tr th:only-of-type {\n",
       "        vertical-align: middle;\n",
       "    }\n",
       "\n",
       "    .dataframe tbody tr th {\n",
       "        vertical-align: top;\n",
       "    }\n",
       "\n",
       "    .dataframe thead th {\n",
       "        text-align: right;\n",
       "    }\n",
       "</style>\n",
       "<table border=\"1\" class=\"dataframe\">\n",
       "  <thead>\n",
       "    <tr style=\"text-align: right;\">\n",
       "      <th></th>\n",
       "      <th>dim_claim_id</th>\n",
       "      <th>bin</th>\n",
       "      <th>drug</th>\n",
       "      <th>reject_code</th>\n",
       "      <th>pharmacy_claim_approved</th>\n",
       "    </tr>\n",
       "  </thead>\n",
       "  <tbody>\n",
       "    <tr>\n",
       "      <th>0</th>\n",
       "      <td>1</td>\n",
       "      <td>417380</td>\n",
       "      <td>A</td>\n",
       "      <td>75.0</td>\n",
       "      <td>0</td>\n",
       "    </tr>\n",
       "    <tr>\n",
       "      <th>1</th>\n",
       "      <td>2</td>\n",
       "      <td>999001</td>\n",
       "      <td>A</td>\n",
       "      <td>0.0</td>\n",
       "      <td>1</td>\n",
       "    </tr>\n",
       "    <tr>\n",
       "      <th>2</th>\n",
       "      <td>3</td>\n",
       "      <td>417740</td>\n",
       "      <td>A</td>\n",
       "      <td>76.0</td>\n",
       "      <td>0</td>\n",
       "    </tr>\n",
       "    <tr>\n",
       "      <th>3</th>\n",
       "      <td>4</td>\n",
       "      <td>999001</td>\n",
       "      <td>A</td>\n",
       "      <td>0.0</td>\n",
       "      <td>1</td>\n",
       "    </tr>\n",
       "    <tr>\n",
       "      <th>4</th>\n",
       "      <td>5</td>\n",
       "      <td>417740</td>\n",
       "      <td>A</td>\n",
       "      <td>0.0</td>\n",
       "      <td>1</td>\n",
       "    </tr>\n",
       "    <tr>\n",
       "      <th>5</th>\n",
       "      <td>6</td>\n",
       "      <td>417740</td>\n",
       "      <td>A</td>\n",
       "      <td>0.0</td>\n",
       "      <td>1</td>\n",
       "    </tr>\n",
       "    <tr>\n",
       "      <th>6</th>\n",
       "      <td>7</td>\n",
       "      <td>999001</td>\n",
       "      <td>A</td>\n",
       "      <td>0.0</td>\n",
       "      <td>1</td>\n",
       "    </tr>\n",
       "  </tbody>\n",
       "</table>\n",
       "</div>"
      ],
      "text/plain": [
       "   dim_claim_id     bin drug reject_code  pharmacy_claim_approved\n",
       "0             1  417380    A        75.0                        0\n",
       "1             2  999001    A         0.0                        1\n",
       "2             3  417740    A        76.0                        0\n",
       "3             4  999001    A         0.0                        1\n",
       "4             5  417740    A         0.0                        1\n",
       "5             6  417740    A         0.0                        1\n",
       "6             7  999001    A         0.0                        1"
      ]
     },
     "execution_count": 68,
     "metadata": {},
     "output_type": "execute_result"
    }
   ],
   "source": [
    "#Reprinting information from the claims table \n",
    "dim_claims_df.head(7)"
   ]
  },
  {
   "cell_type": "code",
   "execution_count": 69,
   "metadata": {},
   "outputs": [
    {
     "data": {
      "text/html": [
       "<div>\n",
       "<style scoped>\n",
       "    .dataframe tbody tr th:only-of-type {\n",
       "        vertical-align: middle;\n",
       "    }\n",
       "\n",
       "    .dataframe tbody tr th {\n",
       "        vertical-align: top;\n",
       "    }\n",
       "\n",
       "    .dataframe thead th {\n",
       "        text-align: right;\n",
       "    }\n",
       "</style>\n",
       "<table border=\"1\" class=\"dataframe\">\n",
       "  <thead>\n",
       "    <tr style=\"text-align: right;\">\n",
       "      <th></th>\n",
       "      <th>dim_claim_id</th>\n",
       "      <th>dim_pa_id</th>\n",
       "      <th>dim_date_id</th>\n",
       "    </tr>\n",
       "  </thead>\n",
       "  <tbody>\n",
       "    <tr>\n",
       "      <th>0</th>\n",
       "      <td>1</td>\n",
       "      <td>1.0</td>\n",
       "      <td>1</td>\n",
       "    </tr>\n",
       "    <tr>\n",
       "      <th>1</th>\n",
       "      <td>2</td>\n",
       "      <td>NaN</td>\n",
       "      <td>1</td>\n",
       "    </tr>\n",
       "    <tr>\n",
       "      <th>2</th>\n",
       "      <td>3</td>\n",
       "      <td>2.0</td>\n",
       "      <td>1</td>\n",
       "    </tr>\n",
       "    <tr>\n",
       "      <th>3</th>\n",
       "      <td>4</td>\n",
       "      <td>NaN</td>\n",
       "      <td>1</td>\n",
       "    </tr>\n",
       "    <tr>\n",
       "      <th>4</th>\n",
       "      <td>5</td>\n",
       "      <td>NaN</td>\n",
       "      <td>1</td>\n",
       "    </tr>\n",
       "    <tr>\n",
       "      <th>5</th>\n",
       "      <td>6</td>\n",
       "      <td>NaN</td>\n",
       "      <td>1</td>\n",
       "    </tr>\n",
       "    <tr>\n",
       "      <th>6</th>\n",
       "      <td>7</td>\n",
       "      <td>NaN</td>\n",
       "      <td>1</td>\n",
       "    </tr>\n",
       "    <tr>\n",
       "      <th>7</th>\n",
       "      <td>8</td>\n",
       "      <td>NaN</td>\n",
       "      <td>1</td>\n",
       "    </tr>\n",
       "  </tbody>\n",
       "</table>\n",
       "</div>"
      ],
      "text/plain": [
       "   dim_claim_id  dim_pa_id  dim_date_id\n",
       "0             1        1.0            1\n",
       "1             2        NaN            1\n",
       "2             3        2.0            1\n",
       "3             4        NaN            1\n",
       "4             5        NaN            1\n",
       "5             6        NaN            1\n",
       "6             7        NaN            1\n",
       "7             8        NaN            1"
      ]
     },
     "execution_count": 69,
     "metadata": {},
     "output_type": "execute_result"
    }
   ],
   "source": [
    "#Gathering the bridge.csv file \n",
    "#This is a table containing pharmacy claim-level information. We will need it to combine\n",
    "#information from the previous two data frames\n",
    "\n",
    "bridge_filepath='/Users/andrewcastillo/Desktop/jupyter_notebook_work/covermymeds_intern_project/data/bridge.csv'\n",
    "bridge_df=pd.read_csv(bridge_filepath)\n",
    "bridge_df.head(8)"
   ]
  },
  {
   "cell_type": "code",
   "execution_count": 106,
   "metadata": {},
   "outputs": [
    {
     "data": {
      "text/html": [
       "<div>\n",
       "<style scoped>\n",
       "    .dataframe tbody tr th:only-of-type {\n",
       "        vertical-align: middle;\n",
       "    }\n",
       "\n",
       "    .dataframe tbody tr th {\n",
       "        vertical-align: top;\n",
       "    }\n",
       "\n",
       "    .dataframe thead th {\n",
       "        text-align: right;\n",
       "    }\n",
       "</style>\n",
       "<table border=\"1\" class=\"dataframe\">\n",
       "  <thead>\n",
       "    <tr style=\"text-align: right;\">\n",
       "      <th></th>\n",
       "      <th>dim_claim_id</th>\n",
       "      <th>dim_pa_id</th>\n",
       "    </tr>\n",
       "  </thead>\n",
       "  <tbody>\n",
       "    <tr>\n",
       "      <th>0</th>\n",
       "      <td>1</td>\n",
       "      <td>1.0</td>\n",
       "    </tr>\n",
       "    <tr>\n",
       "      <th>2</th>\n",
       "      <td>3</td>\n",
       "      <td>2.0</td>\n",
       "    </tr>\n",
       "    <tr>\n",
       "      <th>9</th>\n",
       "      <td>10</td>\n",
       "      <td>3.0</td>\n",
       "    </tr>\n",
       "    <tr>\n",
       "      <th>10</th>\n",
       "      <td>11</td>\n",
       "      <td>4.0</td>\n",
       "    </tr>\n",
       "    <tr>\n",
       "      <th>14</th>\n",
       "      <td>15</td>\n",
       "      <td>5.0</td>\n",
       "    </tr>\n",
       "    <tr>\n",
       "      <th>15</th>\n",
       "      <td>16</td>\n",
       "      <td>6.0</td>\n",
       "    </tr>\n",
       "    <tr>\n",
       "      <th>17</th>\n",
       "      <td>18</td>\n",
       "      <td>7.0</td>\n",
       "    </tr>\n",
       "    <tr>\n",
       "      <th>19</th>\n",
       "      <td>20</td>\n",
       "      <td>8.0</td>\n",
       "    </tr>\n",
       "    <tr>\n",
       "      <th>20</th>\n",
       "      <td>21</td>\n",
       "      <td>9.0</td>\n",
       "    </tr>\n",
       "    <tr>\n",
       "      <th>21</th>\n",
       "      <td>22</td>\n",
       "      <td>10.0</td>\n",
       "    </tr>\n",
       "  </tbody>\n",
       "</table>\n",
       "</div>"
      ],
      "text/plain": [
       "    dim_claim_id  dim_pa_id\n",
       "0              1        1.0\n",
       "2              3        2.0\n",
       "9             10        3.0\n",
       "10            11        4.0\n",
       "14            15        5.0\n",
       "15            16        6.0\n",
       "17            18        7.0\n",
       "19            20        8.0\n",
       "20            21        9.0\n",
       "21            22       10.0"
      ]
     },
     "execution_count": 106,
     "metadata": {},
     "output_type": "execute_result"
    }
   ],
   "source": [
    "#Isolating the two columns that relate the claim data and the pa data \n",
    "df=bridge_df[['dim_claim_id', 'dim_pa_id']]\n",
    "\n",
    "#Dropping the the data from the df_claim_id column that is not in the pa column \n",
    "df = df.dropna()\n",
    "\n",
    "#New data frame relating the id number of the claim to the id number of the pa\n",
    "df.head(10)"
   ]
  },
  {
   "cell_type": "code",
   "execution_count": 71,
   "metadata": {},
   "outputs": [],
   "source": [
    "#Gathering all of the id numbers in the claim column to eventually \n",
    "#get their information from the claim_df. Putting it into a list. \n",
    "value=df.dim_claim_id.values\n",
    "value=list(value)"
   ]
  },
  {
   "cell_type": "code",
   "execution_count": 72,
   "metadata": {
    "scrolled": true
   },
   "outputs": [
    {
     "data": {
      "text/html": [
       "<div>\n",
       "<style scoped>\n",
       "    .dataframe tbody tr th:only-of-type {\n",
       "        vertical-align: middle;\n",
       "    }\n",
       "\n",
       "    .dataframe tbody tr th {\n",
       "        vertical-align: top;\n",
       "    }\n",
       "\n",
       "    .dataframe thead th {\n",
       "        text-align: right;\n",
       "    }\n",
       "</style>\n",
       "<table border=\"1\" class=\"dataframe\">\n",
       "  <thead>\n",
       "    <tr style=\"text-align: right;\">\n",
       "      <th></th>\n",
       "      <th>dim_claim_id</th>\n",
       "      <th>bin</th>\n",
       "      <th>drug</th>\n",
       "      <th>reject_code</th>\n",
       "    </tr>\n",
       "  </thead>\n",
       "  <tbody>\n",
       "    <tr>\n",
       "      <th>479576</th>\n",
       "      <td>1153168</td>\n",
       "      <td>417614</td>\n",
       "      <td>B</td>\n",
       "      <td>75.0</td>\n",
       "    </tr>\n",
       "    <tr>\n",
       "      <th>106841</th>\n",
       "      <td>258198</td>\n",
       "      <td>417740</td>\n",
       "      <td>B</td>\n",
       "      <td>70.0</td>\n",
       "    </tr>\n",
       "    <tr>\n",
       "      <th>540590</th>\n",
       "      <td>1298870</td>\n",
       "      <td>999001</td>\n",
       "      <td>B</td>\n",
       "      <td>76.0</td>\n",
       "    </tr>\n",
       "    <tr>\n",
       "      <th>425996</th>\n",
       "      <td>1024584</td>\n",
       "      <td>417614</td>\n",
       "      <td>A</td>\n",
       "      <td>70.0</td>\n",
       "    </tr>\n",
       "    <tr>\n",
       "      <th>512995</th>\n",
       "      <td>1233169</td>\n",
       "      <td>417614</td>\n",
       "      <td>A</td>\n",
       "      <td>70.0</td>\n",
       "    </tr>\n",
       "    <tr>\n",
       "      <th>124344</th>\n",
       "      <td>299990</td>\n",
       "      <td>417380</td>\n",
       "      <td>A</td>\n",
       "      <td>75.0</td>\n",
       "    </tr>\n",
       "    <tr>\n",
       "      <th>314863</th>\n",
       "      <td>757669</td>\n",
       "      <td>417380</td>\n",
       "      <td>A</td>\n",
       "      <td>75.0</td>\n",
       "    </tr>\n",
       "    <tr>\n",
       "      <th>70131</th>\n",
       "      <td>169053</td>\n",
       "      <td>417614</td>\n",
       "      <td>A</td>\n",
       "      <td>70.0</td>\n",
       "    </tr>\n",
       "    <tr>\n",
       "      <th>372255</th>\n",
       "      <td>895332</td>\n",
       "      <td>417614</td>\n",
       "      <td>A</td>\n",
       "      <td>70.0</td>\n",
       "    </tr>\n",
       "    <tr>\n",
       "      <th>363306</th>\n",
       "      <td>873706</td>\n",
       "      <td>417614</td>\n",
       "      <td>B</td>\n",
       "      <td>75.0</td>\n",
       "    </tr>\n",
       "  </tbody>\n",
       "</table>\n",
       "</div>"
      ],
      "text/plain": [
       "        dim_claim_id     bin drug reject_code\n",
       "479576       1153168  417614    B        75.0\n",
       "106841        258198  417740    B        70.0\n",
       "540590       1298870  999001    B        76.0\n",
       "425996       1024584  417614    A        70.0\n",
       "512995       1233169  417614    A        70.0\n",
       "124344        299990  417380    A        75.0\n",
       "314863        757669  417380    A        75.0\n",
       "70131         169053  417614    A        70.0\n",
       "372255        895332  417614    A        70.0\n",
       "363306        873706  417614    B        75.0"
      ]
     },
     "execution_count": 72,
     "metadata": {},
     "output_type": "execute_result"
    }
   ],
   "source": [
    "#Gathering all information (i.e. the rows) that is inside the claims data and inserting \n",
    "#into a new data frame that I will eventually use to concatenate with the pa data. \n",
    "df1=dim_claims_df[dim_claims_df.dim_claim_id.isin(value)]\n",
    "\n",
    "#resetting the index to make the rows match up \n",
    "df1=df1.reset_index()\n",
    "\n",
    "#Dropping the new index column that appears as well as the pharmacy_claim_approved column\n",
    "#since each entry is 0. \n",
    "df1=df1.drop(['pharmacy_claim_approved','index'], axis=1)\n",
    "df1.sample(10)\n"
   ]
  },
  {
   "cell_type": "code",
   "execution_count": 73,
   "metadata": {
    "scrolled": false
   },
   "outputs": [
    {
     "data": {
      "text/html": [
       "<div>\n",
       "<style scoped>\n",
       "    .dataframe tbody tr th:only-of-type {\n",
       "        vertical-align: middle;\n",
       "    }\n",
       "\n",
       "    .dataframe tbody tr th {\n",
       "        vertical-align: top;\n",
       "    }\n",
       "\n",
       "    .dataframe thead th {\n",
       "        text-align: right;\n",
       "    }\n",
       "</style>\n",
       "<table border=\"1\" class=\"dataframe\">\n",
       "  <thead>\n",
       "    <tr style=\"text-align: right;\">\n",
       "      <th></th>\n",
       "      <th>dim_claim_id</th>\n",
       "      <th>bin</th>\n",
       "      <th>drug</th>\n",
       "      <th>reject_code</th>\n",
       "      <th>dim_pa_id</th>\n",
       "      <th>correct_diagnosis</th>\n",
       "      <th>tried_and_failed</th>\n",
       "      <th>contraindication</th>\n",
       "      <th>pa_approved</th>\n",
       "    </tr>\n",
       "  </thead>\n",
       "  <tbody>\n",
       "    <tr>\n",
       "      <th>0</th>\n",
       "      <td>1</td>\n",
       "      <td>417380</td>\n",
       "      <td>A</td>\n",
       "      <td>75.0</td>\n",
       "      <td>1</td>\n",
       "      <td>1</td>\n",
       "      <td>1</td>\n",
       "      <td>0</td>\n",
       "      <td>1</td>\n",
       "    </tr>\n",
       "    <tr>\n",
       "      <th>1</th>\n",
       "      <td>3</td>\n",
       "      <td>417740</td>\n",
       "      <td>A</td>\n",
       "      <td>76.0</td>\n",
       "      <td>2</td>\n",
       "      <td>1</td>\n",
       "      <td>0</td>\n",
       "      <td>0</td>\n",
       "      <td>1</td>\n",
       "    </tr>\n",
       "    <tr>\n",
       "      <th>2</th>\n",
       "      <td>10</td>\n",
       "      <td>417380</td>\n",
       "      <td>A</td>\n",
       "      <td>75.0</td>\n",
       "      <td>3</td>\n",
       "      <td>0</td>\n",
       "      <td>0</td>\n",
       "      <td>1</td>\n",
       "      <td>1</td>\n",
       "    </tr>\n",
       "    <tr>\n",
       "      <th>3</th>\n",
       "      <td>11</td>\n",
       "      <td>999001</td>\n",
       "      <td>A</td>\n",
       "      <td>76.0</td>\n",
       "      <td>4</td>\n",
       "      <td>1</td>\n",
       "      <td>1</td>\n",
       "      <td>0</td>\n",
       "      <td>1</td>\n",
       "    </tr>\n",
       "    <tr>\n",
       "      <th>4</th>\n",
       "      <td>15</td>\n",
       "      <td>417614</td>\n",
       "      <td>A</td>\n",
       "      <td>70.0</td>\n",
       "      <td>5</td>\n",
       "      <td>0</td>\n",
       "      <td>1</td>\n",
       "      <td>0</td>\n",
       "      <td>1</td>\n",
       "    </tr>\n",
       "    <tr>\n",
       "      <th>...</th>\n",
       "      <td>...</td>\n",
       "      <td>...</td>\n",
       "      <td>...</td>\n",
       "      <td>...</td>\n",
       "      <td>...</td>\n",
       "      <td>...</td>\n",
       "      <td>...</td>\n",
       "      <td>...</td>\n",
       "      <td>...</td>\n",
       "    </tr>\n",
       "    <tr>\n",
       "      <th>555946</th>\n",
       "      <td>1335557</td>\n",
       "      <td>417380</td>\n",
       "      <td>C</td>\n",
       "      <td>70.0</td>\n",
       "      <td>555947</td>\n",
       "      <td>1</td>\n",
       "      <td>0</td>\n",
       "      <td>1</td>\n",
       "      <td>0</td>\n",
       "    </tr>\n",
       "    <tr>\n",
       "      <th>555947</th>\n",
       "      <td>1335558</td>\n",
       "      <td>417740</td>\n",
       "      <td>C</td>\n",
       "      <td>75.0</td>\n",
       "      <td>555948</td>\n",
       "      <td>1</td>\n",
       "      <td>0</td>\n",
       "      <td>1</td>\n",
       "      <td>1</td>\n",
       "    </tr>\n",
       "    <tr>\n",
       "      <th>555948</th>\n",
       "      <td>1335559</td>\n",
       "      <td>417740</td>\n",
       "      <td>C</td>\n",
       "      <td>75.0</td>\n",
       "      <td>555949</td>\n",
       "      <td>1</td>\n",
       "      <td>1</td>\n",
       "      <td>1</td>\n",
       "      <td>1</td>\n",
       "    </tr>\n",
       "    <tr>\n",
       "      <th>555949</th>\n",
       "      <td>1335572</td>\n",
       "      <td>417740</td>\n",
       "      <td>C</td>\n",
       "      <td>75.0</td>\n",
       "      <td>555950</td>\n",
       "      <td>1</td>\n",
       "      <td>0</td>\n",
       "      <td>0</td>\n",
       "      <td>1</td>\n",
       "    </tr>\n",
       "    <tr>\n",
       "      <th>555950</th>\n",
       "      <td>1335574</td>\n",
       "      <td>417380</td>\n",
       "      <td>C</td>\n",
       "      <td>70.0</td>\n",
       "      <td>555951</td>\n",
       "      <td>0</td>\n",
       "      <td>0</td>\n",
       "      <td>1</td>\n",
       "      <td>0</td>\n",
       "    </tr>\n",
       "  </tbody>\n",
       "</table>\n",
       "<p>555951 rows × 9 columns</p>\n",
       "</div>"
      ],
      "text/plain": [
       "        dim_claim_id     bin drug reject_code  dim_pa_id  correct_diagnosis  \\\n",
       "0                  1  417380    A        75.0          1                  1   \n",
       "1                  3  417740    A        76.0          2                  1   \n",
       "2                 10  417380    A        75.0          3                  0   \n",
       "3                 11  999001    A        76.0          4                  1   \n",
       "4                 15  417614    A        70.0          5                  0   \n",
       "...              ...     ...  ...         ...        ...                ...   \n",
       "555946       1335557  417380    C        70.0     555947                  1   \n",
       "555947       1335558  417740    C        75.0     555948                  1   \n",
       "555948       1335559  417740    C        75.0     555949                  1   \n",
       "555949       1335572  417740    C        75.0     555950                  1   \n",
       "555950       1335574  417380    C        70.0     555951                  0   \n",
       "\n",
       "        tried_and_failed  contraindication  pa_approved  \n",
       "0                      1                 0            1  \n",
       "1                      0                 0            1  \n",
       "2                      0                 1            1  \n",
       "3                      1                 0            1  \n",
       "4                      1                 0            1  \n",
       "...                  ...               ...          ...  \n",
       "555946                 0                 1            0  \n",
       "555947                 0                 1            1  \n",
       "555948                 1                 1            1  \n",
       "555949                 0                 0            1  \n",
       "555950                 0                 1            0  \n",
       "\n",
       "[555951 rows x 9 columns]"
      ]
     },
     "execution_count": 73,
     "metadata": {},
     "output_type": "execute_result"
    }
   ],
   "source": [
    "#Combine the df1 and dim_pa_df data frames for our new data. \n",
    "df_combined = pd.concat([df1, dim_pa_df], axis=1)\n",
    "df_combined"
   ]
  },
  {
   "cell_type": "code",
   "execution_count": 74,
   "metadata": {},
   "outputs": [
    {
     "data": {
      "text/plain": [
       "['dim_claim_id',\n",
       " 'bin',\n",
       " 'drug',\n",
       " 'reject_code',\n",
       " 'dim_pa_id',\n",
       " 'correct_diagnosis',\n",
       " 'tried_and_failed',\n",
       " 'contraindication',\n",
       " 'pa_approved']"
      ]
     },
     "execution_count": 74,
     "metadata": {},
     "output_type": "execute_result"
    }
   ],
   "source": [
    "#Getting a list of columns to rearrange the order of the columns in df_combined\n",
    "df_combined.columns.tolist()"
   ]
  },
  {
   "cell_type": "code",
   "execution_count": 75,
   "metadata": {},
   "outputs": [],
   "source": [
    "#Getting new column order for the data frame \n",
    "new_col_order=['dim_claim_id',\n",
    "               'dim_pa_id',\n",
    " 'bin',\n",
    " 'drug',\n",
    " 'reject_code',\n",
    " 'correct_diagnosis',\n",
    " 'tried_and_failed',\n",
    " 'contraindication',\n",
    " 'pa_approved']"
   ]
  },
  {
   "cell_type": "code",
   "execution_count": 105,
   "metadata": {
    "scrolled": true
   },
   "outputs": [
    {
     "data": {
      "text/html": [
       "<div>\n",
       "<style scoped>\n",
       "    .dataframe tbody tr th:only-of-type {\n",
       "        vertical-align: middle;\n",
       "    }\n",
       "\n",
       "    .dataframe tbody tr th {\n",
       "        vertical-align: top;\n",
       "    }\n",
       "\n",
       "    .dataframe thead th {\n",
       "        text-align: right;\n",
       "    }\n",
       "</style>\n",
       "<table border=\"1\" class=\"dataframe\">\n",
       "  <thead>\n",
       "    <tr style=\"text-align: right;\">\n",
       "      <th></th>\n",
       "      <th>dim_claim_id</th>\n",
       "      <th>dim_pa_id</th>\n",
       "      <th>bin</th>\n",
       "      <th>drug</th>\n",
       "      <th>reject_code</th>\n",
       "      <th>correct_diagnosis</th>\n",
       "      <th>tried_and_failed</th>\n",
       "      <th>contraindication</th>\n",
       "      <th>pa_approved</th>\n",
       "    </tr>\n",
       "  </thead>\n",
       "  <tbody>\n",
       "    <tr>\n",
       "      <th>0</th>\n",
       "      <td>1</td>\n",
       "      <td>1</td>\n",
       "      <td>417380</td>\n",
       "      <td>A</td>\n",
       "      <td>75.0</td>\n",
       "      <td>1</td>\n",
       "      <td>1</td>\n",
       "      <td>0</td>\n",
       "      <td>1</td>\n",
       "    </tr>\n",
       "    <tr>\n",
       "      <th>1</th>\n",
       "      <td>3</td>\n",
       "      <td>2</td>\n",
       "      <td>417740</td>\n",
       "      <td>A</td>\n",
       "      <td>76.0</td>\n",
       "      <td>1</td>\n",
       "      <td>0</td>\n",
       "      <td>0</td>\n",
       "      <td>1</td>\n",
       "    </tr>\n",
       "    <tr>\n",
       "      <th>2</th>\n",
       "      <td>10</td>\n",
       "      <td>3</td>\n",
       "      <td>417380</td>\n",
       "      <td>A</td>\n",
       "      <td>75.0</td>\n",
       "      <td>0</td>\n",
       "      <td>0</td>\n",
       "      <td>1</td>\n",
       "      <td>1</td>\n",
       "    </tr>\n",
       "    <tr>\n",
       "      <th>3</th>\n",
       "      <td>11</td>\n",
       "      <td>4</td>\n",
       "      <td>999001</td>\n",
       "      <td>A</td>\n",
       "      <td>76.0</td>\n",
       "      <td>1</td>\n",
       "      <td>1</td>\n",
       "      <td>0</td>\n",
       "      <td>1</td>\n",
       "    </tr>\n",
       "    <tr>\n",
       "      <th>4</th>\n",
       "      <td>15</td>\n",
       "      <td>5</td>\n",
       "      <td>417614</td>\n",
       "      <td>A</td>\n",
       "      <td>70.0</td>\n",
       "      <td>0</td>\n",
       "      <td>1</td>\n",
       "      <td>0</td>\n",
       "      <td>1</td>\n",
       "    </tr>\n",
       "    <tr>\n",
       "      <th>5</th>\n",
       "      <td>16</td>\n",
       "      <td>6</td>\n",
       "      <td>417614</td>\n",
       "      <td>A</td>\n",
       "      <td>70.0</td>\n",
       "      <td>1</td>\n",
       "      <td>1</td>\n",
       "      <td>0</td>\n",
       "      <td>1</td>\n",
       "    </tr>\n",
       "    <tr>\n",
       "      <th>6</th>\n",
       "      <td>18</td>\n",
       "      <td>7</td>\n",
       "      <td>417614</td>\n",
       "      <td>A</td>\n",
       "      <td>70.0</td>\n",
       "      <td>0</td>\n",
       "      <td>1</td>\n",
       "      <td>0</td>\n",
       "      <td>1</td>\n",
       "    </tr>\n",
       "    <tr>\n",
       "      <th>7</th>\n",
       "      <td>20</td>\n",
       "      <td>8</td>\n",
       "      <td>417614</td>\n",
       "      <td>A</td>\n",
       "      <td>70.0</td>\n",
       "      <td>1</td>\n",
       "      <td>0</td>\n",
       "      <td>1</td>\n",
       "      <td>0</td>\n",
       "    </tr>\n",
       "    <tr>\n",
       "      <th>8</th>\n",
       "      <td>21</td>\n",
       "      <td>9</td>\n",
       "      <td>417614</td>\n",
       "      <td>A</td>\n",
       "      <td>70.0</td>\n",
       "      <td>1</td>\n",
       "      <td>0</td>\n",
       "      <td>1</td>\n",
       "      <td>0</td>\n",
       "    </tr>\n",
       "    <tr>\n",
       "      <th>9</th>\n",
       "      <td>22</td>\n",
       "      <td>10</td>\n",
       "      <td>417614</td>\n",
       "      <td>A</td>\n",
       "      <td>70.0</td>\n",
       "      <td>1</td>\n",
       "      <td>1</td>\n",
       "      <td>0</td>\n",
       "      <td>1</td>\n",
       "    </tr>\n",
       "  </tbody>\n",
       "</table>\n",
       "</div>"
      ],
      "text/plain": [
       "   dim_claim_id  dim_pa_id     bin drug reject_code  correct_diagnosis  \\\n",
       "0             1          1  417380    A        75.0                  1   \n",
       "1             3          2  417740    A        76.0                  1   \n",
       "2            10          3  417380    A        75.0                  0   \n",
       "3            11          4  999001    A        76.0                  1   \n",
       "4            15          5  417614    A        70.0                  0   \n",
       "5            16          6  417614    A        70.0                  1   \n",
       "6            18          7  417614    A        70.0                  0   \n",
       "7            20          8  417614    A        70.0                  1   \n",
       "8            21          9  417614    A        70.0                  1   \n",
       "9            22         10  417614    A        70.0                  1   \n",
       "\n",
       "   tried_and_failed  contraindication  pa_approved  \n",
       "0                 1                 0            1  \n",
       "1                 0                 0            1  \n",
       "2                 0                 1            1  \n",
       "3                 1                 0            1  \n",
       "4                 1                 0            1  \n",
       "5                 1                 0            1  \n",
       "6                 1                 0            1  \n",
       "7                 0                 1            0  \n",
       "8                 0                 1            0  \n",
       "9                 1                 0            1  "
      ]
     },
     "execution_count": 105,
     "metadata": {},
     "output_type": "execute_result"
    }
   ],
   "source": [
    "#Obtaining our data frame for modeling after rearranging of the columns and making sure the \n",
    "#dim_claim_id and dim_pa_id columns match the bridge table data frame. \n",
    "df_combined=df_combined[new_col_order]\n",
    "df_combined.head(10)"
   ]
  },
  {
   "cell_type": "markdown",
   "metadata": {},
   "source": [
    "##### Now that we have the data frame with the correct features, we can begin the model construction process. "
   ]
  },
  {
   "cell_type": "code",
   "execution_count": 107,
   "metadata": {},
   "outputs": [
    {
     "name": "stdout",
     "output_type": "stream",
     "text": [
      "<class 'pandas.core.frame.DataFrame'>\n",
      "RangeIndex: 555951 entries, 0 to 555950\n",
      "Data columns (total 9 columns):\n",
      " #   Column             Non-Null Count   Dtype   \n",
      "---  ------             --------------   -----   \n",
      " 0   dim_claim_id       555951 non-null  int64   \n",
      " 1   dim_pa_id          555951 non-null  int64   \n",
      " 2   bin                555951 non-null  category\n",
      " 3   drug               555951 non-null  category\n",
      " 4   reject_code        555951 non-null  category\n",
      " 5   correct_diagnosis  555951 non-null  int64   \n",
      " 6   tried_and_failed   555951 non-null  int64   \n",
      " 7   contraindication   555951 non-null  int64   \n",
      " 8   pa_approved        555951 non-null  int64   \n",
      "dtypes: category(3), int64(6)\n",
      "memory usage: 27.0 MB\n"
     ]
    }
   ],
   "source": [
    "#For modeling purposes let's assume the columns drug, reject_code, and tried_and_failed\n",
    "#are categorical and change the data type as in part 1\n",
    "new_categorical_cols = ['bin', 'drug', 'reject_code']\n",
    "dim_claims_df=to_categorical(df_combined, new_categorical_cols)"
   ]
  },
  {
   "cell_type": "code",
   "execution_count": 78,
   "metadata": {},
   "outputs": [],
   "source": [
    "#Feature Matrix \n",
    "X=df_combined.drop(['pa_approved'], axis=1)\n",
    "\n",
    "#Target Variable\n",
    "y=df_combined.pa_approved"
   ]
  },
  {
   "cell_type": "code",
   "execution_count": 79,
   "metadata": {},
   "outputs": [],
   "source": [
    "#Create the train-test split \n",
    "X_train,X_val,y_train,y_val = train_test_split(X,\n",
    "                                                y,\n",
    "                                                shuffle = True,\n",
    "                                                stratify = y,\n",
    "                                                train_size=0.70,\n",
    "                                                random_state = 614)\n",
    "X_val_1=X_val.copy()\n",
    "X_train=X_train.drop(['dim_claim_id','dim_pa_id'], axis=1)\n",
    "X_val=X_val.drop(['dim_claim_id','dim_pa_id'], axis=1)"
   ]
  },
  {
   "cell_type": "code",
   "execution_count": 80,
   "metadata": {
    "scrolled": true
   },
   "outputs": [
    {
     "data": {
      "text/html": [
       "<div>\n",
       "<style scoped>\n",
       "    .dataframe tbody tr th:only-of-type {\n",
       "        vertical-align: middle;\n",
       "    }\n",
       "\n",
       "    .dataframe tbody tr th {\n",
       "        vertical-align: top;\n",
       "    }\n",
       "\n",
       "    .dataframe thead th {\n",
       "        text-align: right;\n",
       "    }\n",
       "</style>\n",
       "<table border=\"1\" class=\"dataframe\">\n",
       "  <thead>\n",
       "    <tr style=\"text-align: right;\">\n",
       "      <th></th>\n",
       "      <th>bin</th>\n",
       "      <th>drug</th>\n",
       "      <th>reject_code</th>\n",
       "      <th>correct_diagnosis</th>\n",
       "      <th>tried_and_failed</th>\n",
       "      <th>contraindication</th>\n",
       "    </tr>\n",
       "  </thead>\n",
       "  <tbody>\n",
       "    <tr>\n",
       "      <th>514381</th>\n",
       "      <td>417740</td>\n",
       "      <td>C</td>\n",
       "      <td>75.0</td>\n",
       "      <td>1</td>\n",
       "      <td>1</td>\n",
       "      <td>0</td>\n",
       "    </tr>\n",
       "    <tr>\n",
       "      <th>477899</th>\n",
       "      <td>417380</td>\n",
       "      <td>C</td>\n",
       "      <td>70.0</td>\n",
       "      <td>1</td>\n",
       "      <td>0</td>\n",
       "      <td>0</td>\n",
       "    </tr>\n",
       "    <tr>\n",
       "      <th>411964</th>\n",
       "      <td>417614</td>\n",
       "      <td>B</td>\n",
       "      <td>75.0</td>\n",
       "      <td>1</td>\n",
       "      <td>1</td>\n",
       "      <td>0</td>\n",
       "    </tr>\n",
       "    <tr>\n",
       "      <th>425161</th>\n",
       "      <td>417740</td>\n",
       "      <td>A</td>\n",
       "      <td>76.0</td>\n",
       "      <td>1</td>\n",
       "      <td>1</td>\n",
       "      <td>0</td>\n",
       "    </tr>\n",
       "    <tr>\n",
       "      <th>129928</th>\n",
       "      <td>417614</td>\n",
       "      <td>A</td>\n",
       "      <td>70.0</td>\n",
       "      <td>1</td>\n",
       "      <td>1</td>\n",
       "      <td>0</td>\n",
       "    </tr>\n",
       "    <tr>\n",
       "      <th>499250</th>\n",
       "      <td>417380</td>\n",
       "      <td>C</td>\n",
       "      <td>70.0</td>\n",
       "      <td>1</td>\n",
       "      <td>0</td>\n",
       "      <td>0</td>\n",
       "    </tr>\n",
       "    <tr>\n",
       "      <th>390845</th>\n",
       "      <td>417740</td>\n",
       "      <td>C</td>\n",
       "      <td>75.0</td>\n",
       "      <td>1</td>\n",
       "      <td>0</td>\n",
       "      <td>0</td>\n",
       "    </tr>\n",
       "  </tbody>\n",
       "</table>\n",
       "</div>"
      ],
      "text/plain": [
       "           bin drug reject_code  correct_diagnosis  tried_and_failed  \\\n",
       "514381  417740    C        75.0                  1                 1   \n",
       "477899  417380    C        70.0                  1                 0   \n",
       "411964  417614    B        75.0                  1                 1   \n",
       "425161  417740    A        76.0                  1                 1   \n",
       "129928  417614    A        70.0                  1                 1   \n",
       "499250  417380    C        70.0                  1                 0   \n",
       "390845  417740    C        75.0                  1                 0   \n",
       "\n",
       "        contraindication  \n",
       "514381                 0  \n",
       "477899                 0  \n",
       "411964                 0  \n",
       "425161                 0  \n",
       "129928                 0  \n",
       "499250                 0  \n",
       "390845                 0  "
      ]
     },
     "execution_count": 80,
     "metadata": {},
     "output_type": "execute_result"
    }
   ],
   "source": [
    "#Making sure the training set looks for preprocessing \n",
    "X_train.sample(7)"
   ]
  },
  {
   "cell_type": "code",
   "execution_count": 81,
   "metadata": {},
   "outputs": [],
   "source": [
    "#Preprocess by one hot encoding the categorical columns in X_train and X_val\n",
    "new_categorical_cols = ['bin', 'drug', 'reject_code']\n",
    "OH_encoder1 = OneHotEncoder(handle_unknown='ignore', sparse=False)\n",
    "OH_cols_train1 = pd.DataFrame(OH_encoder1.fit_transform(X_train[new_categorical_cols]))\n",
    "OH_cols_valid1 = pd.DataFrame(OH_encoder1.transform(X_val[new_categorical_cols]))\n",
    "\n",
    "#Put the columns names back \n",
    "OH_cols_train1.index = X_train.index\n",
    "OH_cols_valid1.index = X_val.index\n",
    "\n",
    "# Remove categorical columns (will replace with one-hot encoding)#numerical columns in X_train and X_valid \n",
    "num_X_train1 = X_train.drop(new_categorical_cols, axis=1)\n",
    "num_X_valid1 = X_val.drop(new_categorical_cols, axis=1)\n",
    "\n",
    "# Add one-hot encoded columns to numerical features. These are our testing features \n",
    "X_train_OH1 = pd.concat([num_X_train1, OH_cols_train1], axis=1)\n",
    "X_valid_OH1 = pd.concat([num_X_valid1, OH_cols_valid1], axis=1)"
   ]
  },
  {
   "cell_type": "code",
   "execution_count": 110,
   "metadata": {},
   "outputs": [
    {
     "data": {
      "text/html": [
       "<div>\n",
       "<style scoped>\n",
       "    .dataframe tbody tr th:only-of-type {\n",
       "        vertical-align: middle;\n",
       "    }\n",
       "\n",
       "    .dataframe tbody tr th {\n",
       "        vertical-align: top;\n",
       "    }\n",
       "\n",
       "    .dataframe thead th {\n",
       "        text-align: right;\n",
       "    }\n",
       "</style>\n",
       "<table border=\"1\" class=\"dataframe\">\n",
       "  <thead>\n",
       "    <tr style=\"text-align: right;\">\n",
       "      <th></th>\n",
       "      <th>correct_diagnosis</th>\n",
       "      <th>tried_and_failed</th>\n",
       "      <th>contraindication</th>\n",
       "      <th>0</th>\n",
       "      <th>1</th>\n",
       "      <th>2</th>\n",
       "      <th>3</th>\n",
       "      <th>4</th>\n",
       "      <th>5</th>\n",
       "      <th>6</th>\n",
       "      <th>7</th>\n",
       "      <th>8</th>\n",
       "      <th>9</th>\n",
       "    </tr>\n",
       "  </thead>\n",
       "  <tbody>\n",
       "    <tr>\n",
       "      <th>311397</th>\n",
       "      <td>1</td>\n",
       "      <td>0</td>\n",
       "      <td>0</td>\n",
       "      <td>0.0</td>\n",
       "      <td>1.0</td>\n",
       "      <td>0.0</td>\n",
       "      <td>0.0</td>\n",
       "      <td>1.0</td>\n",
       "      <td>0.0</td>\n",
       "      <td>0.0</td>\n",
       "      <td>1.0</td>\n",
       "      <td>0.0</td>\n",
       "      <td>0.0</td>\n",
       "    </tr>\n",
       "    <tr>\n",
       "      <th>59259</th>\n",
       "      <td>1</td>\n",
       "      <td>1</td>\n",
       "      <td>0</td>\n",
       "      <td>1.0</td>\n",
       "      <td>0.0</td>\n",
       "      <td>0.0</td>\n",
       "      <td>0.0</td>\n",
       "      <td>0.0</td>\n",
       "      <td>0.0</td>\n",
       "      <td>1.0</td>\n",
       "      <td>1.0</td>\n",
       "      <td>0.0</td>\n",
       "      <td>0.0</td>\n",
       "    </tr>\n",
       "    <tr>\n",
       "      <th>340769</th>\n",
       "      <td>1</td>\n",
       "      <td>0</td>\n",
       "      <td>0</td>\n",
       "      <td>0.0</td>\n",
       "      <td>0.0</td>\n",
       "      <td>1.0</td>\n",
       "      <td>0.0</td>\n",
       "      <td>0.0</td>\n",
       "      <td>1.0</td>\n",
       "      <td>0.0</td>\n",
       "      <td>1.0</td>\n",
       "      <td>0.0</td>\n",
       "      <td>0.0</td>\n",
       "    </tr>\n",
       "    <tr>\n",
       "      <th>448857</th>\n",
       "      <td>1</td>\n",
       "      <td>1</td>\n",
       "      <td>0</td>\n",
       "      <td>1.0</td>\n",
       "      <td>0.0</td>\n",
       "      <td>0.0</td>\n",
       "      <td>0.0</td>\n",
       "      <td>1.0</td>\n",
       "      <td>0.0</td>\n",
       "      <td>0.0</td>\n",
       "      <td>0.0</td>\n",
       "      <td>1.0</td>\n",
       "      <td>0.0</td>\n",
       "    </tr>\n",
       "    <tr>\n",
       "      <th>352783</th>\n",
       "      <td>1</td>\n",
       "      <td>1</td>\n",
       "      <td>0</td>\n",
       "      <td>1.0</td>\n",
       "      <td>0.0</td>\n",
       "      <td>0.0</td>\n",
       "      <td>0.0</td>\n",
       "      <td>1.0</td>\n",
       "      <td>0.0</td>\n",
       "      <td>0.0</td>\n",
       "      <td>0.0</td>\n",
       "      <td>1.0</td>\n",
       "      <td>0.0</td>\n",
       "    </tr>\n",
       "    <tr>\n",
       "      <th>151079</th>\n",
       "      <td>1</td>\n",
       "      <td>0</td>\n",
       "      <td>1</td>\n",
       "      <td>0.0</td>\n",
       "      <td>1.0</td>\n",
       "      <td>0.0</td>\n",
       "      <td>0.0</td>\n",
       "      <td>1.0</td>\n",
       "      <td>0.0</td>\n",
       "      <td>0.0</td>\n",
       "      <td>1.0</td>\n",
       "      <td>0.0</td>\n",
       "      <td>0.0</td>\n",
       "    </tr>\n",
       "    <tr>\n",
       "      <th>204451</th>\n",
       "      <td>1</td>\n",
       "      <td>0</td>\n",
       "      <td>1</td>\n",
       "      <td>1.0</td>\n",
       "      <td>0.0</td>\n",
       "      <td>0.0</td>\n",
       "      <td>0.0</td>\n",
       "      <td>0.0</td>\n",
       "      <td>0.0</td>\n",
       "      <td>1.0</td>\n",
       "      <td>1.0</td>\n",
       "      <td>0.0</td>\n",
       "      <td>0.0</td>\n",
       "    </tr>\n",
       "    <tr>\n",
       "      <th>62133</th>\n",
       "      <td>0</td>\n",
       "      <td>1</td>\n",
       "      <td>0</td>\n",
       "      <td>0.0</td>\n",
       "      <td>1.0</td>\n",
       "      <td>0.0</td>\n",
       "      <td>0.0</td>\n",
       "      <td>0.0</td>\n",
       "      <td>1.0</td>\n",
       "      <td>0.0</td>\n",
       "      <td>0.0</td>\n",
       "      <td>1.0</td>\n",
       "      <td>0.0</td>\n",
       "    </tr>\n",
       "  </tbody>\n",
       "</table>\n",
       "</div>"
      ],
      "text/plain": [
       "        correct_diagnosis  tried_and_failed  contraindication    0    1    2  \\\n",
       "311397                  1                 0                 0  0.0  1.0  0.0   \n",
       "59259                   1                 1                 0  1.0  0.0  0.0   \n",
       "340769                  1                 0                 0  0.0  0.0  1.0   \n",
       "448857                  1                 1                 0  1.0  0.0  0.0   \n",
       "352783                  1                 1                 0  1.0  0.0  0.0   \n",
       "151079                  1                 0                 1  0.0  1.0  0.0   \n",
       "204451                  1                 0                 1  1.0  0.0  0.0   \n",
       "62133                   0                 1                 0  0.0  1.0  0.0   \n",
       "\n",
       "          3    4    5    6    7    8    9  \n",
       "311397  0.0  1.0  0.0  0.0  1.0  0.0  0.0  \n",
       "59259   0.0  0.0  0.0  1.0  1.0  0.0  0.0  \n",
       "340769  0.0  0.0  1.0  0.0  1.0  0.0  0.0  \n",
       "448857  0.0  1.0  0.0  0.0  0.0  1.0  0.0  \n",
       "352783  0.0  1.0  0.0  0.0  0.0  1.0  0.0  \n",
       "151079  0.0  1.0  0.0  0.0  1.0  0.0  0.0  \n",
       "204451  0.0  0.0  0.0  1.0  1.0  0.0  0.0  \n",
       "62133   0.0  0.0  1.0  0.0  0.0  1.0  0.0  "
      ]
     },
     "execution_count": 110,
     "metadata": {},
     "output_type": "execute_result"
    }
   ],
   "source": [
    "#Making sure that the one hot encoding worked. \n",
    "X_train_OH1.head(8)"
   ]
  },
  {
   "cell_type": "markdown",
   "metadata": {},
   "source": [
    "###  For this modeling phase we will try different models. \n",
    "\n",
    "- Decision Tree Classifier: Gather a baseline for model performance. \n",
    "- KNN (k-nearest neighbors): Try a different but basic model to assess performance. \n",
    "- Random Forest Classifier: Given the binary nature of the features as well as the sparcity of the features, it looks like this model may perform best.  "
   ]
  },
  {
   "cell_type": "code",
   "execution_count": 82,
   "metadata": {},
   "outputs": [],
   "source": [
    "#Create the classfication Models \n",
    "random_state = 0\n",
    "\n",
    "#Decision Tree Classifier\n",
    "decision_tree = DecisionTreeClassifier(random_state=random_state)\n",
    "\n",
    "#Nearest Neighbors \n",
    "knn = KNeighborsClassifier()\n",
    "\n",
    "#Random Forest Classifier \n",
    "random_forest = RandomForestClassifier(random_state=random_state)"
   ]
  },
  {
   "cell_type": "code",
   "execution_count": 83,
   "metadata": {},
   "outputs": [
    {
     "name": "stdout",
     "output_type": "stream",
     "text": [
      "DecisionTreeClassifier(random_state=0) scores:\n",
      "             Scores\n",
      "Accuracy   0.812844\n",
      "Precision  0.840197\n",
      "Recall     0.920193\n",
      "AUC        0.877673\n",
      "\n",
      "\n",
      "KNeighborsClassifier() scores:\n",
      "             Scores\n",
      "Accuracy   0.811285\n",
      "Precision  0.845025\n",
      "Recall     0.909932\n",
      "AUC        0.822367\n",
      "\n",
      "\n",
      "RandomForestClassifier(random_state=0) scores:\n",
      "             Scores\n",
      "Accuracy   0.813270\n",
      "Precision  0.830842\n",
      "Recall     0.936406\n",
      "AUC        0.877667\n",
      "\n",
      "\n"
     ]
    }
   ],
   "source": [
    "#For the testing data\n",
    "models=[decision_tree, knn, random_forest]\n",
    "for model in models: \n",
    "    print(f'{model} scores:')\n",
    "    print(get_model_scores(model, X_train_OH1, y_train, X_valid_OH1, y_val))\n",
    "    print('\\n')    "
   ]
  },
  {
   "cell_type": "markdown",
   "metadata": {},
   "source": [
    "From looking at these preliminary scores, it looks like the random forest classifier will do better due to the sparsity as well as binary nature of the data. The random forest classifier also has a slightly higher AUC score. I also don't want to potentially overtrain the data with the decision tree classifier."
   ]
  },
  {
   "cell_type": "markdown",
   "metadata": {},
   "source": [
    "### Use a gridsearch to find the best random forest model. "
   ]
  },
  {
   "cell_type": "code",
   "execution_count": 84,
   "metadata": {},
   "outputs": [
    {
     "data": {
      "text/plain": [
       "GridSearchCV(cv=5, estimator=RandomForestClassifier(random_state=0),\n",
       "             param_grid={'max_depth': range(5, 11, 5)}, scoring='precision')"
      ]
     },
     "execution_count": 84,
     "metadata": {},
     "output_type": "execute_result"
    }
   ],
   "source": [
    "#Use a gridsearch to find a model with the best precision\n",
    "from sklearn.model_selection import GridSearchCV\n",
    "\n",
    "parameters = {'max_depth':range(5, 11, 5)}\n",
    "\n",
    "gs=GridSearchCV(random_forest, parameters, scoring='precision', cv=5)\n",
    "\n",
    "gs.fit(X_train_OH1, y_train)"
   ]
  },
  {
   "cell_type": "code",
   "execution_count": 85,
   "metadata": {
    "scrolled": true
   },
   "outputs": [
    {
     "name": "stdout",
     "output_type": "stream",
     "text": [
      "The best Random Forest Classifier Precision Score: 0.8386837545399937\n",
      "\n",
      "The best Random Forest Classifier Model: RandomForestClassifier(max_depth=5, random_state=0)\n"
     ]
    }
   ],
   "source": [
    "print(f\"The best Random Forest Classifier Precision Score: {gs.best_score_}\\n\")\n",
    "\n",
    "print(f\"The best Random Forest Classifier Model: {gs.best_estimator_}\")"
   ]
  },
  {
   "cell_type": "code",
   "execution_count": 112,
   "metadata": {},
   "outputs": [
    {
     "data": {
      "text/plain": [
       "RandomForestClassifier(max_depth=5, random_state=0)"
      ]
     },
     "execution_count": 112,
     "metadata": {},
     "output_type": "execute_result"
    }
   ],
   "source": [
    "#Use the best model found. This model increased precision slightly, so we will use it. \n",
    "rf=RandomForestClassifier(max_depth=5, random_state=0)\n",
    "\n",
    "rf.fit(X_train_OH1, y_train)"
   ]
  },
  {
   "cell_type": "markdown",
   "metadata": {},
   "source": [
    "It looks like the model performs better with a max_depth hyperparameter equal to 5 so we will use that model and see if the corresponding recall and accuracy scores are better too using cross validation. "
   ]
  },
  {
   "cell_type": "markdown",
   "metadata": {},
   "source": [
    "### Cross Validate the data across the metrics on the best model found. "
   ]
  },
  {
   "cell_type": "code",
   "execution_count": 113,
   "metadata": {
    "scrolled": true
   },
   "outputs": [
    {
     "name": "stdout",
     "output_type": "stream",
     "text": [
      "RandomForestClassifier(random_state=0) scores:\n",
      "\n",
      "Random Forest Classifier accuracy scores: [0.81392212 0.81361376 0.81187928 0.81510413 0.81334395]\n",
      "Random Forest Classifier mean accuracy score: 0.813572649133401\n",
      "\n",
      "Random Forest Classifier precision scores: [0.8387783  0.8389106  0.8381228  0.83884972 0.83875735]\n",
      "Random Forest Classifier mean precision score: 0.8386837545399937\n",
      "\n",
      "Random Forest Classifier recall scores: [0.92430683 0.92357212 0.92192775 0.92617731 0.92336086]\n",
      "Random Forest Classifier mean recall score: 0.9238689741561126\n",
      "\n"
     ]
    }
   ],
   "source": [
    "accuracy_metric=make_scorer(accuracy_score)\n",
    "recall_metric=make_scorer(recall_score)\n",
    "precision_metric=make_scorer(precision_score)\n",
    "\n",
    "print(f'{model} scores:\\n')\n",
    "accuracy_scores=cross_val_score(rf, X_train_OH1, y_train,\n",
    "                              cv=5,\n",
    "                              scoring=accuracy_metric)\n",
    "recall_scores=cross_val_score(rf, X_train_OH1, y_train,\n",
    "                              cv=5,\n",
    "                              scoring=recall_metric)\n",
    "precision_scores=cross_val_score(rf, X_train_OH1, y_train,\n",
    "                              cv=5,\n",
    "                              scoring=precision_metric)\n",
    "print(f\"Random Forest Classifier accuracy scores: {accuracy_scores}\")\n",
    "print(f\"Random Forest Classifier mean accuracy score: {np.mean(accuracy_scores)}\\n\")\n",
    "print(f\"Random Forest Classifier precision scores: {precision_scores}\")\n",
    "print(f\"Random Forest Classifier mean precision score: {np.mean(precision_scores)}\\n\")\n",
    "print(f\"Random Forest Classifier recall scores: {recall_scores}\")\n",
    "print(f\"Random Forest Classifier mean recall score: {np.mean(recall_scores)}\\n\")"
   ]
  },
  {
   "cell_type": "markdown",
   "metadata": {},
   "source": [
    "From cross validation, it looks like the model is performing about the same across all metrics through each fold in the cross validation process. There is a slight dip in the recall score but it's marginal, so we will use this model with max_depth equal to 5. "
   ]
  },
  {
   "cell_type": "markdown",
   "metadata": {},
   "source": [
    "### Confusion Matrix and Classification Report"
   ]
  },
  {
   "cell_type": "code",
   "execution_count": 114,
   "metadata": {
    "scrolled": true
   },
   "outputs": [
    {
     "name": "stdout",
     "output_type": "stream",
     "text": [
      "confusion matrix\n",
      "[[ 22226  22064]\n",
      " [  9373 113123]]\n",
      "-------------------------------------------\n",
      "              precision    recall  f1-score   support\n",
      "\n",
      "           0       0.70      0.50      0.59     44290\n",
      "           1       0.84      0.92      0.88    122496\n",
      "\n",
      "    accuracy                           0.81    166786\n",
      "   macro avg       0.77      0.71      0.73    166786\n",
      "weighted avg       0.80      0.81      0.80    166786\n",
      "\n"
     ]
    }
   ],
   "source": [
    "#Print the classification report \n",
    "from sklearn.metrics import classification_report\n",
    "from sklearn.metrics import confusion_matrix\n",
    "\n",
    "#Get the prediction from the validated data. \n",
    "y_pred=rf.predict(X_valid_OH1)\n",
    "\n",
    "conf_matrix = confusion_matrix(y_val, y_pred)\n",
    "print(\"confusion matrix\")\n",
    "print(conf_matrix)\n",
    "print(\"-------------------------------------------\")\n",
    "print(classification_report(y_val,y_pred))"
   ]
  },
  {
   "cell_type": "code",
   "execution_count": 115,
   "metadata": {
    "scrolled": true
   },
   "outputs": [
    {
     "data": {
      "text/html": [
       "<div>\n",
       "<style scoped>\n",
       "    .dataframe tbody tr th:only-of-type {\n",
       "        vertical-align: middle;\n",
       "    }\n",
       "\n",
       "    .dataframe tbody tr th {\n",
       "        vertical-align: top;\n",
       "    }\n",
       "\n",
       "    .dataframe thead th {\n",
       "        text-align: right;\n",
       "    }\n",
       "</style>\n",
       "<table border=\"1\" class=\"dataframe\">\n",
       "  <thead>\n",
       "    <tr style=\"text-align: right;\">\n",
       "      <th></th>\n",
       "      <th>Scores</th>\n",
       "    </tr>\n",
       "  </thead>\n",
       "  <tbody>\n",
       "    <tr>\n",
       "      <th>Accuracy</th>\n",
       "      <td>0.811513</td>\n",
       "    </tr>\n",
       "    <tr>\n",
       "      <th>Precision</th>\n",
       "      <td>0.836789</td>\n",
       "    </tr>\n",
       "    <tr>\n",
       "      <th>Recall</th>\n",
       "      <td>0.923483</td>\n",
       "    </tr>\n",
       "    <tr>\n",
       "      <th>AUC</th>\n",
       "      <td>0.875870</td>\n",
       "    </tr>\n",
       "  </tbody>\n",
       "</table>\n",
       "</div>"
      ],
      "text/plain": [
       "             Scores\n",
       "Accuracy   0.811513\n",
       "Precision  0.836789\n",
       "Recall     0.923483\n",
       "AUC        0.875870"
      ]
     },
     "execution_count": 115,
     "metadata": {},
     "output_type": "execute_result"
    }
   ],
   "source": [
    "#Reprint the model scores\n",
    "get_model_scores(rf, X_train_OH1, y_train, X_valid_OH1, y_val)"
   ]
  },
  {
   "cell_type": "markdown",
   "metadata": {},
   "source": [
    "### Gather feature importance of the model. "
   ]
  },
  {
   "cell_type": "code",
   "execution_count": 116,
   "metadata": {
    "scrolled": false
   },
   "outputs": [
    {
     "data": {
      "text/html": [
       "<div>\n",
       "<style scoped>\n",
       "    .dataframe tbody tr th:only-of-type {\n",
       "        vertical-align: middle;\n",
       "    }\n",
       "\n",
       "    .dataframe tbody tr th {\n",
       "        vertical-align: top;\n",
       "    }\n",
       "\n",
       "    .dataframe thead th {\n",
       "        text-align: right;\n",
       "    }\n",
       "</style>\n",
       "<table border=\"1\" class=\"dataframe\">\n",
       "  <thead>\n",
       "    <tr style=\"text-align: right;\">\n",
       "      <th></th>\n",
       "      <th>feature</th>\n",
       "      <th>importance_score</th>\n",
       "    </tr>\n",
       "  </thead>\n",
       "  <tbody>\n",
       "    <tr>\n",
       "      <th>10</th>\n",
       "      <td>7</td>\n",
       "      <td>0.3618</td>\n",
       "    </tr>\n",
       "    <tr>\n",
       "      <th>11</th>\n",
       "      <td>8</td>\n",
       "      <td>0.2179</td>\n",
       "    </tr>\n",
       "    <tr>\n",
       "      <th>2</th>\n",
       "      <td>contraindication</td>\n",
       "      <td>0.1378</td>\n",
       "    </tr>\n",
       "    <tr>\n",
       "      <th>1</th>\n",
       "      <td>tried_and_failed</td>\n",
       "      <td>0.0411</td>\n",
       "    </tr>\n",
       "    <tr>\n",
       "      <th>9</th>\n",
       "      <td>6</td>\n",
       "      <td>0.0409</td>\n",
       "    </tr>\n",
       "    <tr>\n",
       "      <th>12</th>\n",
       "      <td>9</td>\n",
       "      <td>0.0361</td>\n",
       "    </tr>\n",
       "    <tr>\n",
       "      <th>7</th>\n",
       "      <td>4</td>\n",
       "      <td>0.0357</td>\n",
       "    </tr>\n",
       "    <tr>\n",
       "      <th>4</th>\n",
       "      <td>1</td>\n",
       "      <td>0.0310</td>\n",
       "    </tr>\n",
       "    <tr>\n",
       "      <th>3</th>\n",
       "      <td>0</td>\n",
       "      <td>0.0280</td>\n",
       "    </tr>\n",
       "    <tr>\n",
       "      <th>6</th>\n",
       "      <td>3</td>\n",
       "      <td>0.0251</td>\n",
       "    </tr>\n",
       "    <tr>\n",
       "      <th>5</th>\n",
       "      <td>2</td>\n",
       "      <td>0.0226</td>\n",
       "    </tr>\n",
       "    <tr>\n",
       "      <th>8</th>\n",
       "      <td>5</td>\n",
       "      <td>0.0199</td>\n",
       "    </tr>\n",
       "    <tr>\n",
       "      <th>0</th>\n",
       "      <td>correct_diagnosis</td>\n",
       "      <td>0.0022</td>\n",
       "    </tr>\n",
       "  </tbody>\n",
       "</table>\n",
       "</div>"
      ],
      "text/plain": [
       "              feature  importance_score\n",
       "10                  7            0.3618\n",
       "11                  8            0.2179\n",
       "2    contraindication            0.1378\n",
       "1    tried_and_failed            0.0411\n",
       "9                   6            0.0409\n",
       "12                  9            0.0361\n",
       "7                   4            0.0357\n",
       "4                   1            0.0310\n",
       "3                   0            0.0280\n",
       "6                   3            0.0251\n",
       "5                   2            0.0226\n",
       "8                   5            0.0199\n",
       "0   correct_diagnosis            0.0022"
      ]
     },
     "execution_count": 116,
     "metadata": {},
     "output_type": "execute_result"
    }
   ],
   "source": [
    "## Feature Importance\n",
    "# Make a feature importance dataframe\n",
    "# then it displays it in order of decreasing importance\n",
    "names = []\n",
    "scores = []\n",
    "for name, score in zip(X_valid_OH1.columns,rf.feature_importances_):\n",
    "    names.append(name)\n",
    "    scores.append(np.round(score,4))\n",
    "    \n",
    "score_df = pd.DataFrame({'feature':names,'importance_score':scores})\n",
    "\n",
    "score_df.sort_values('importance_score',ascending=False)"
   ]
  },
  {
   "cell_type": "code",
   "execution_count": 117,
   "metadata": {},
   "outputs": [
    {
     "data": {
      "text/html": [
       "<div>\n",
       "<style scoped>\n",
       "    .dataframe tbody tr th:only-of-type {\n",
       "        vertical-align: middle;\n",
       "    }\n",
       "\n",
       "    .dataframe tbody tr th {\n",
       "        vertical-align: top;\n",
       "    }\n",
       "\n",
       "    .dataframe thead th {\n",
       "        text-align: right;\n",
       "    }\n",
       "</style>\n",
       "<table border=\"1\" class=\"dataframe\">\n",
       "  <thead>\n",
       "    <tr style=\"text-align: right;\">\n",
       "      <th></th>\n",
       "      <th>bin</th>\n",
       "      <th>drug</th>\n",
       "      <th>reject_code</th>\n",
       "      <th>correct_diagnosis</th>\n",
       "      <th>tried_and_failed</th>\n",
       "      <th>contraindication</th>\n",
       "    </tr>\n",
       "  </thead>\n",
       "  <tbody>\n",
       "    <tr>\n",
       "      <th>401910</th>\n",
       "      <td>417614</td>\n",
       "      <td>B</td>\n",
       "      <td>75.0</td>\n",
       "      <td>1</td>\n",
       "      <td>0</td>\n",
       "      <td>0</td>\n",
       "    </tr>\n",
       "    <tr>\n",
       "      <th>512955</th>\n",
       "      <td>417614</td>\n",
       "      <td>A</td>\n",
       "      <td>70.0</td>\n",
       "      <td>1</td>\n",
       "      <td>1</td>\n",
       "      <td>1</td>\n",
       "    </tr>\n",
       "    <tr>\n",
       "      <th>155951</th>\n",
       "      <td>417614</td>\n",
       "      <td>B</td>\n",
       "      <td>75.0</td>\n",
       "      <td>0</td>\n",
       "      <td>1</td>\n",
       "      <td>1</td>\n",
       "    </tr>\n",
       "    <tr>\n",
       "      <th>188008</th>\n",
       "      <td>417380</td>\n",
       "      <td>A</td>\n",
       "      <td>75.0</td>\n",
       "      <td>1</td>\n",
       "      <td>0</td>\n",
       "      <td>1</td>\n",
       "    </tr>\n",
       "    <tr>\n",
       "      <th>250543</th>\n",
       "      <td>417740</td>\n",
       "      <td>B</td>\n",
       "      <td>70.0</td>\n",
       "      <td>1</td>\n",
       "      <td>0</td>\n",
       "      <td>0</td>\n",
       "    </tr>\n",
       "    <tr>\n",
       "      <th>423991</th>\n",
       "      <td>417380</td>\n",
       "      <td>A</td>\n",
       "      <td>75.0</td>\n",
       "      <td>0</td>\n",
       "      <td>0</td>\n",
       "      <td>0</td>\n",
       "    </tr>\n",
       "    <tr>\n",
       "      <th>160919</th>\n",
       "      <td>417740</td>\n",
       "      <td>B</td>\n",
       "      <td>70.0</td>\n",
       "      <td>1</td>\n",
       "      <td>1</td>\n",
       "      <td>0</td>\n",
       "    </tr>\n",
       "    <tr>\n",
       "      <th>366270</th>\n",
       "      <td>417614</td>\n",
       "      <td>A</td>\n",
       "      <td>70.0</td>\n",
       "      <td>1</td>\n",
       "      <td>0</td>\n",
       "      <td>0</td>\n",
       "    </tr>\n",
       "    <tr>\n",
       "      <th>273697</th>\n",
       "      <td>999001</td>\n",
       "      <td>C</td>\n",
       "      <td>76.0</td>\n",
       "      <td>1</td>\n",
       "      <td>0</td>\n",
       "      <td>0</td>\n",
       "    </tr>\n",
       "  </tbody>\n",
       "</table>\n",
       "</div>"
      ],
      "text/plain": [
       "           bin drug reject_code  correct_diagnosis  tried_and_failed  \\\n",
       "401910  417614    B        75.0                  1                 0   \n",
       "512955  417614    A        70.0                  1                 1   \n",
       "155951  417614    B        75.0                  0                 1   \n",
       "188008  417380    A        75.0                  1                 0   \n",
       "250543  417740    B        70.0                  1                 0   \n",
       "423991  417380    A        75.0                  0                 0   \n",
       "160919  417740    B        70.0                  1                 1   \n",
       "366270  417614    A        70.0                  1                 0   \n",
       "273697  999001    C        76.0                  1                 0   \n",
       "\n",
       "        contraindication  \n",
       "401910                 0  \n",
       "512955                 1  \n",
       "155951                 1  \n",
       "188008                 1  \n",
       "250543                 0  \n",
       "423991                 0  \n",
       "160919                 0  \n",
       "366270                 0  \n",
       "273697                 0  "
      ]
     },
     "execution_count": 117,
     "metadata": {},
     "output_type": "execute_result"
    }
   ],
   "source": [
    "#Visualizing the validation data \n",
    "X_val.head(9)"
   ]
  },
  {
   "cell_type": "code",
   "execution_count": 118,
   "metadata": {
    "scrolled": false
   },
   "outputs": [
    {
     "data": {
      "text/html": [
       "<div>\n",
       "<style scoped>\n",
       "    .dataframe tbody tr th:only-of-type {\n",
       "        vertical-align: middle;\n",
       "    }\n",
       "\n",
       "    .dataframe tbody tr th {\n",
       "        vertical-align: top;\n",
       "    }\n",
       "\n",
       "    .dataframe thead th {\n",
       "        text-align: right;\n",
       "    }\n",
       "</style>\n",
       "<table border=\"1\" class=\"dataframe\">\n",
       "  <thead>\n",
       "    <tr style=\"text-align: right;\">\n",
       "      <th></th>\n",
       "      <th>correct_diagnosis</th>\n",
       "      <th>tried_and_failed</th>\n",
       "      <th>contraindication</th>\n",
       "      <th>0</th>\n",
       "      <th>1</th>\n",
       "      <th>2</th>\n",
       "      <th>3</th>\n",
       "      <th>4</th>\n",
       "      <th>5</th>\n",
       "      <th>6</th>\n",
       "      <th>7</th>\n",
       "      <th>8</th>\n",
       "      <th>9</th>\n",
       "    </tr>\n",
       "  </thead>\n",
       "  <tbody>\n",
       "    <tr>\n",
       "      <th>401910</th>\n",
       "      <td>1</td>\n",
       "      <td>0</td>\n",
       "      <td>0</td>\n",
       "      <td>0.0</td>\n",
       "      <td>1.0</td>\n",
       "      <td>0.0</td>\n",
       "      <td>0.0</td>\n",
       "      <td>0.0</td>\n",
       "      <td>1.0</td>\n",
       "      <td>0.0</td>\n",
       "      <td>0.0</td>\n",
       "      <td>1.0</td>\n",
       "      <td>0.0</td>\n",
       "    </tr>\n",
       "    <tr>\n",
       "      <th>512955</th>\n",
       "      <td>1</td>\n",
       "      <td>1</td>\n",
       "      <td>1</td>\n",
       "      <td>0.0</td>\n",
       "      <td>1.0</td>\n",
       "      <td>0.0</td>\n",
       "      <td>0.0</td>\n",
       "      <td>1.0</td>\n",
       "      <td>0.0</td>\n",
       "      <td>0.0</td>\n",
       "      <td>1.0</td>\n",
       "      <td>0.0</td>\n",
       "      <td>0.0</td>\n",
       "    </tr>\n",
       "    <tr>\n",
       "      <th>155951</th>\n",
       "      <td>0</td>\n",
       "      <td>1</td>\n",
       "      <td>1</td>\n",
       "      <td>0.0</td>\n",
       "      <td>1.0</td>\n",
       "      <td>0.0</td>\n",
       "      <td>0.0</td>\n",
       "      <td>0.0</td>\n",
       "      <td>1.0</td>\n",
       "      <td>0.0</td>\n",
       "      <td>0.0</td>\n",
       "      <td>1.0</td>\n",
       "      <td>0.0</td>\n",
       "    </tr>\n",
       "    <tr>\n",
       "      <th>188008</th>\n",
       "      <td>1</td>\n",
       "      <td>0</td>\n",
       "      <td>1</td>\n",
       "      <td>1.0</td>\n",
       "      <td>0.0</td>\n",
       "      <td>0.0</td>\n",
       "      <td>0.0</td>\n",
       "      <td>1.0</td>\n",
       "      <td>0.0</td>\n",
       "      <td>0.0</td>\n",
       "      <td>0.0</td>\n",
       "      <td>1.0</td>\n",
       "      <td>0.0</td>\n",
       "    </tr>\n",
       "    <tr>\n",
       "      <th>250543</th>\n",
       "      <td>1</td>\n",
       "      <td>0</td>\n",
       "      <td>0</td>\n",
       "      <td>0.0</td>\n",
       "      <td>0.0</td>\n",
       "      <td>1.0</td>\n",
       "      <td>0.0</td>\n",
       "      <td>0.0</td>\n",
       "      <td>1.0</td>\n",
       "      <td>0.0</td>\n",
       "      <td>1.0</td>\n",
       "      <td>0.0</td>\n",
       "      <td>0.0</td>\n",
       "    </tr>\n",
       "    <tr>\n",
       "      <th>423991</th>\n",
       "      <td>0</td>\n",
       "      <td>0</td>\n",
       "      <td>0</td>\n",
       "      <td>1.0</td>\n",
       "      <td>0.0</td>\n",
       "      <td>0.0</td>\n",
       "      <td>0.0</td>\n",
       "      <td>1.0</td>\n",
       "      <td>0.0</td>\n",
       "      <td>0.0</td>\n",
       "      <td>0.0</td>\n",
       "      <td>1.0</td>\n",
       "      <td>0.0</td>\n",
       "    </tr>\n",
       "    <tr>\n",
       "      <th>160919</th>\n",
       "      <td>1</td>\n",
       "      <td>1</td>\n",
       "      <td>0</td>\n",
       "      <td>0.0</td>\n",
       "      <td>0.0</td>\n",
       "      <td>1.0</td>\n",
       "      <td>0.0</td>\n",
       "      <td>0.0</td>\n",
       "      <td>1.0</td>\n",
       "      <td>0.0</td>\n",
       "      <td>1.0</td>\n",
       "      <td>0.0</td>\n",
       "      <td>0.0</td>\n",
       "    </tr>\n",
       "    <tr>\n",
       "      <th>366270</th>\n",
       "      <td>1</td>\n",
       "      <td>0</td>\n",
       "      <td>0</td>\n",
       "      <td>0.0</td>\n",
       "      <td>1.0</td>\n",
       "      <td>0.0</td>\n",
       "      <td>0.0</td>\n",
       "      <td>1.0</td>\n",
       "      <td>0.0</td>\n",
       "      <td>0.0</td>\n",
       "      <td>1.0</td>\n",
       "      <td>0.0</td>\n",
       "      <td>0.0</td>\n",
       "    </tr>\n",
       "    <tr>\n",
       "      <th>273697</th>\n",
       "      <td>1</td>\n",
       "      <td>0</td>\n",
       "      <td>0</td>\n",
       "      <td>0.0</td>\n",
       "      <td>0.0</td>\n",
       "      <td>0.0</td>\n",
       "      <td>1.0</td>\n",
       "      <td>0.0</td>\n",
       "      <td>0.0</td>\n",
       "      <td>1.0</td>\n",
       "      <td>0.0</td>\n",
       "      <td>0.0</td>\n",
       "      <td>1.0</td>\n",
       "    </tr>\n",
       "  </tbody>\n",
       "</table>\n",
       "</div>"
      ],
      "text/plain": [
       "        correct_diagnosis  tried_and_failed  contraindication    0    1    2  \\\n",
       "401910                  1                 0                 0  0.0  1.0  0.0   \n",
       "512955                  1                 1                 1  0.0  1.0  0.0   \n",
       "155951                  0                 1                 1  0.0  1.0  0.0   \n",
       "188008                  1                 0                 1  1.0  0.0  0.0   \n",
       "250543                  1                 0                 0  0.0  0.0  1.0   \n",
       "423991                  0                 0                 0  1.0  0.0  0.0   \n",
       "160919                  1                 1                 0  0.0  0.0  1.0   \n",
       "366270                  1                 0                 0  0.0  1.0  0.0   \n",
       "273697                  1                 0                 0  0.0  0.0  0.0   \n",
       "\n",
       "          3    4    5    6    7    8    9  \n",
       "401910  0.0  0.0  1.0  0.0  0.0  1.0  0.0  \n",
       "512955  0.0  1.0  0.0  0.0  1.0  0.0  0.0  \n",
       "155951  0.0  0.0  1.0  0.0  0.0  1.0  0.0  \n",
       "188008  0.0  1.0  0.0  0.0  0.0  1.0  0.0  \n",
       "250543  0.0  0.0  1.0  0.0  1.0  0.0  0.0  \n",
       "423991  0.0  1.0  0.0  0.0  0.0  1.0  0.0  \n",
       "160919  0.0  0.0  1.0  0.0  1.0  0.0  0.0  \n",
       "366270  0.0  1.0  0.0  0.0  1.0  0.0  0.0  \n",
       "273697  1.0  0.0  0.0  1.0  0.0  0.0  1.0  "
      ]
     },
     "execution_count": 118,
     "metadata": {},
     "output_type": "execute_result"
    }
   ],
   "source": [
    "#Visualizing the preprocessed data\n",
    "X_valid_OH1.head(9)"
   ]
  },
  {
   "cell_type": "markdown",
   "metadata": {},
   "source": [
    "Conclusion: \n",
    "\n",
    "- The top three feature importance scores seem to be coming from the contraindication column as well as columns 7 and 8. These latter two columns were one hot encoded from the reject_code column. \n",
    "- In particular, it looks like column 7 was encoded from the '70' entry inside the reject_code column and column 8 was encoded from the '75' entry. This can be seen from comparing entries inside each feature of X_valid_OH1 and the X_valid matrices. \n",
    "- With this information in hand, we can now answer a more general question than the one answered in the EDA section of part 2 of this write up. It seems like the factors (based on claims and prior authorization data) most influencing the likelihood of a prior authorization being approved or denied are the reject codes 70 and 75 as well as whether or not the patient has a contraindication for the requested medication. "
   ]
  },
  {
   "cell_type": "markdown",
   "metadata": {},
   "source": [
    "### Visual representation of the AUC score with ROC curve. "
   ]
  },
  {
   "cell_type": "code",
   "execution_count": 130,
   "metadata": {},
   "outputs": [],
   "source": [
    "# The first column is probability of being class 0\n",
    "# the second is probability of being class 1\n",
    "# import the function from sklearn\n",
    "from sklearn.metrics import roc_auc_score\n",
    "y_prob=rf.predict_proba(X_train_OH1)"
   ]
  },
  {
   "cell_type": "code",
   "execution_count": 131,
   "metadata": {},
   "outputs": [
    {
     "data": {
      "text/plain": [
       "0.8767407222555863"
      ]
     },
     "execution_count": 131,
     "metadata": {},
     "output_type": "execute_result"
    }
   ],
   "source": [
    "# put in the true classes along with the \n",
    "# probability scores.\n",
    "roc_auc_score(y_train,y_prob[:, 1])"
   ]
  },
  {
   "cell_type": "code",
   "execution_count": 121,
   "metadata": {},
   "outputs": [],
   "source": [
    "# import the roc function from sklearn\n",
    "from sklearn.metrics import roc_curve\n",
    "\n",
    "# calculate fpr and tpr\n",
    "# you put in the training data\n",
    "# and the predicted probabilites\n",
    "# it returns the fpr, tpr, and corresponding\n",
    "# cutoffs\n",
    "fpr, tpr, cutoffs = roc_curve(y_train,y_prob[:,1])"
   ]
  },
  {
   "cell_type": "code",
   "execution_count": 133,
   "metadata": {
    "scrolled": false
   },
   "outputs": [
    {
     "data": {
      "text/plain": [
       "Text(0, 0.5, 'True Positive Rate')"
      ]
     },
     "execution_count": 133,
     "metadata": {},
     "output_type": "execute_result"
    },
    {
     "data": {
      "image/png": "[encoded data removed]",
      "text/plain": [
       "<Figure size 576x576 with 1 Axes>"
      ]
     },
     "metadata": {
      "needs_background": "light"
     },
     "output_type": "display_data"
    }
   ],
   "source": [
    "# plot the roc curve\n",
    "plt.figure(figsize=(8,8))\n",
    "\n",
    "# plot the curve\n",
    "plt.plot(fpr,tpr,linewidth=2)\n",
    "\n",
    "# plot what you'd get with random guessing\n",
    "plt.plot([0,1],[0,1],'k--')\n",
    "\n",
    "plt.axis([-0.1,1,0,1.1])\n",
    "\n",
    "plt.xlabel(\"False Positive Rate\",fontsize=16)\n",
    "plt.ylabel(\"True Positive Rate\",fontsize=16)\n",
    "\n",
    "#Note: True Positive Rate is the same thing as sensitivity (i.e. recall)\n",
    "#False positive rate is 1-specificity "
   ]
  },
  {
   "cell_type": "markdown",
   "metadata": {},
   "source": [
    "### Convert validation information and prediction to a CSV "
   ]
  },
  {
   "cell_type": "code",
   "execution_count": 123,
   "metadata": {},
   "outputs": [],
   "source": [
    "#Let's now convert this information into a csv for viewing.\n",
    "X_val_1['model_pa_predictions']=y_pred\n",
    "pd.DataFrame(X_val_1).to_csv(\"pa_predictions.csv\", index = None)"
   ]
  },
  {
   "cell_type": "code",
   "execution_count": 125,
   "metadata": {},
   "outputs": [
    {
     "data": {
      "text/html": [
       "<div>\n",
       "<style scoped>\n",
       "    .dataframe tbody tr th:only-of-type {\n",
       "        vertical-align: middle;\n",
       "    }\n",
       "\n",
       "    .dataframe tbody tr th {\n",
       "        vertical-align: top;\n",
       "    }\n",
       "\n",
       "    .dataframe thead th {\n",
       "        text-align: right;\n",
       "    }\n",
       "</style>\n",
       "<table border=\"1\" class=\"dataframe\">\n",
       "  <thead>\n",
       "    <tr style=\"text-align: right;\">\n",
       "      <th></th>\n",
       "      <th>dim_claim_id</th>\n",
       "      <th>dim_pa_id</th>\n",
       "      <th>bin</th>\n",
       "      <th>drug</th>\n",
       "      <th>reject_code</th>\n",
       "      <th>correct_diagnosis</th>\n",
       "      <th>tried_and_failed</th>\n",
       "      <th>contraindication</th>\n",
       "      <th>model_pa_predictions</th>\n",
       "    </tr>\n",
       "  </thead>\n",
       "  <tbody>\n",
       "    <tr>\n",
       "      <th>0</th>\n",
       "      <td>966579</td>\n",
       "      <td>401911</td>\n",
       "      <td>417614</td>\n",
       "      <td>B</td>\n",
       "      <td>75.0</td>\n",
       "      <td>1</td>\n",
       "      <td>0</td>\n",
       "      <td>0</td>\n",
       "      <td>1</td>\n",
       "    </tr>\n",
       "    <tr>\n",
       "      <th>1</th>\n",
       "      <td>1233057</td>\n",
       "      <td>512956</td>\n",
       "      <td>417614</td>\n",
       "      <td>A</td>\n",
       "      <td>70.0</td>\n",
       "      <td>1</td>\n",
       "      <td>1</td>\n",
       "      <td>1</td>\n",
       "      <td>0</td>\n",
       "    </tr>\n",
       "    <tr>\n",
       "      <th>2</th>\n",
       "      <td>376172</td>\n",
       "      <td>155952</td>\n",
       "      <td>417614</td>\n",
       "      <td>B</td>\n",
       "      <td>75.0</td>\n",
       "      <td>0</td>\n",
       "      <td>1</td>\n",
       "      <td>1</td>\n",
       "      <td>1</td>\n",
       "    </tr>\n",
       "    <tr>\n",
       "      <th>3</th>\n",
       "      <td>453292</td>\n",
       "      <td>188009</td>\n",
       "      <td>417380</td>\n",
       "      <td>A</td>\n",
       "      <td>75.0</td>\n",
       "      <td>1</td>\n",
       "      <td>0</td>\n",
       "      <td>1</td>\n",
       "      <td>1</td>\n",
       "    </tr>\n",
       "    <tr>\n",
       "      <th>4</th>\n",
       "      <td>603405</td>\n",
       "      <td>250544</td>\n",
       "      <td>417740</td>\n",
       "      <td>B</td>\n",
       "      <td>70.0</td>\n",
       "      <td>1</td>\n",
       "      <td>0</td>\n",
       "      <td>0</td>\n",
       "      <td>0</td>\n",
       "    </tr>\n",
       "    <tr>\n",
       "      <th>...</th>\n",
       "      <td>...</td>\n",
       "      <td>...</td>\n",
       "      <td>...</td>\n",
       "      <td>...</td>\n",
       "      <td>...</td>\n",
       "      <td>...</td>\n",
       "      <td>...</td>\n",
       "      <td>...</td>\n",
       "      <td>...</td>\n",
       "    </tr>\n",
       "    <tr>\n",
       "      <th>166781</th>\n",
       "      <td>421279</td>\n",
       "      <td>174683</td>\n",
       "      <td>417740</td>\n",
       "      <td>B</td>\n",
       "      <td>70.0</td>\n",
       "      <td>0</td>\n",
       "      <td>1</td>\n",
       "      <td>0</td>\n",
       "      <td>1</td>\n",
       "    </tr>\n",
       "    <tr>\n",
       "      <th>166782</th>\n",
       "      <td>1198211</td>\n",
       "      <td>498420</td>\n",
       "      <td>417614</td>\n",
       "      <td>B</td>\n",
       "      <td>75.0</td>\n",
       "      <td>1</td>\n",
       "      <td>1</td>\n",
       "      <td>0</td>\n",
       "      <td>1</td>\n",
       "    </tr>\n",
       "    <tr>\n",
       "      <th>166783</th>\n",
       "      <td>205508</td>\n",
       "      <td>85165</td>\n",
       "      <td>417614</td>\n",
       "      <td>B</td>\n",
       "      <td>75.0</td>\n",
       "      <td>0</td>\n",
       "      <td>1</td>\n",
       "      <td>0</td>\n",
       "      <td>1</td>\n",
       "    </tr>\n",
       "    <tr>\n",
       "      <th>166784</th>\n",
       "      <td>186139</td>\n",
       "      <td>77231</td>\n",
       "      <td>417740</td>\n",
       "      <td>B</td>\n",
       "      <td>70.0</td>\n",
       "      <td>0</td>\n",
       "      <td>0</td>\n",
       "      <td>0</td>\n",
       "      <td>0</td>\n",
       "    </tr>\n",
       "    <tr>\n",
       "      <th>166785</th>\n",
       "      <td>1154860</td>\n",
       "      <td>480285</td>\n",
       "      <td>417380</td>\n",
       "      <td>A</td>\n",
       "      <td>75.0</td>\n",
       "      <td>0</td>\n",
       "      <td>0</td>\n",
       "      <td>1</td>\n",
       "      <td>1</td>\n",
       "    </tr>\n",
       "  </tbody>\n",
       "</table>\n",
       "<p>166786 rows × 9 columns</p>\n",
       "</div>"
      ],
      "text/plain": [
       "        dim_claim_id  dim_pa_id     bin drug  reject_code  correct_diagnosis  \\\n",
       "0             966579     401911  417614    B         75.0                  1   \n",
       "1            1233057     512956  417614    A         70.0                  1   \n",
       "2             376172     155952  417614    B         75.0                  0   \n",
       "3             453292     188009  417380    A         75.0                  1   \n",
       "4             603405     250544  417740    B         70.0                  1   \n",
       "...              ...        ...     ...  ...          ...                ...   \n",
       "166781        421279     174683  417740    B         70.0                  0   \n",
       "166782       1198211     498420  417614    B         75.0                  1   \n",
       "166783        205508      85165  417614    B         75.0                  0   \n",
       "166784        186139      77231  417740    B         70.0                  0   \n",
       "166785       1154860     480285  417380    A         75.0                  0   \n",
       "\n",
       "        tried_and_failed  contraindication  model_pa_predictions  \n",
       "0                      0                 0                     1  \n",
       "1                      1                 1                     0  \n",
       "2                      1                 1                     1  \n",
       "3                      0                 1                     1  \n",
       "4                      0                 0                     0  \n",
       "...                  ...               ...                   ...  \n",
       "166781                 1                 0                     1  \n",
       "166782                 1                 0                     1  \n",
       "166783                 1                 0                     1  \n",
       "166784                 0                 0                     0  \n",
       "166785                 0                 1                     1  \n",
       "\n",
       "[166786 rows x 9 columns]"
      ]
     },
     "execution_count": 125,
     "metadata": {},
     "output_type": "execute_result"
    }
   ],
   "source": [
    "#See the prediction for the specific prior authorization patient. \n",
    "df5=pd.read_csv('pa_predictions.csv')\n",
    "df5"
   ]
  },
  {
   "cell_type": "code",
   "execution_count": 135,
   "metadata": {
    "scrolled": true
   },
   "outputs": [
    {
     "data": {
      "text/plain": [
       "75.0    65292\n",
       "70.0    44102\n",
       "76.0    25793\n",
       "Name: reject_code, dtype: int64"
      ]
     },
     "execution_count": 135,
     "metadata": {},
     "output_type": "execute_result"
    }
   ],
   "source": [
    "#Gathering the prior authorizations approvals by reject codes. \n",
    "df5[df5.model_pa_predictions==1]['reject_code'].value_counts()"
   ]
  },
  {
   "cell_type": "markdown",
   "metadata": {},
   "source": [
    "From this information, it looks like a reject code of 75 and 70 got the most approvals. "
   ]
  },
  {
   "cell_type": "code",
   "execution_count": 129,
   "metadata": {},
   "outputs": [
    {
     "data": {
      "text/plain": [
       "70.0    31361\n",
       "76.0      238\n",
       "Name: reject_code, dtype: int64"
      ]
     },
     "execution_count": 129,
     "metadata": {},
     "output_type": "execute_result"
    }
   ],
   "source": [
    "#Gathering the prior authorizations denials by reject codes.\n",
    "df5[df5.model_pa_predictions==0]['reject_code'].value_counts()"
   ]
  },
  {
   "cell_type": "markdown",
   "metadata": {},
   "source": [
    "From this information, it looks like reject code 70 got almost all denials. Moreover, reject code 75 got no denials from this model prediction.This allows us to potentially conclude that as long as the requested medication was on the formulary, the prior authorization more than likely got approved by the insurance company. "
   ]
  }
 ],
 "metadata": {
  "kernelspec": {
   "display_name": "Python 3",
   "language": "python",
   "name": "python3"
  },
  "language_info": {
   "codemirror_mode": {
    "name": "ipython",
    "version": 3
   },
   "file_extension": ".py",
   "mimetype": "text/x-python",
   "name": "python",
   "nbconvert_exporter": "python",
   "pygments_lexer": "ipython3",
   "version": "3.9.1"
  }
 },
 "nbformat": 4,
 "nbformat_minor": 4
}
